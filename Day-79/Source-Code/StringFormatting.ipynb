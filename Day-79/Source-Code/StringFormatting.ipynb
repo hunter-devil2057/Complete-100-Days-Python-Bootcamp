{
 "cells": [
  {
   "cell_type": "markdown",
   "metadata": {},
   "source": [
    "**String Formatting**\n",
    "- It is the way to insert custom string or variable in a text (string). \n",
    "- Using string formatting, a developer want required output in different style. "
   ]
  },
  {
   "cell_type": "markdown",
   "metadata": {},
   "source": [
    "**Need of Formatting a String:**\n",
    "- To display string in proper understanding form, we need to format a string properly. \n",
    "- To display content dynamically, because we use different variable to format a string. \n",
    "- If we did not use string formatting, then we will be unable to display dynamically content. "
   ]
  },
  {
   "cell_type": "markdown",
   "metadata": {},
   "source": [
    "**Different Styles to Format a String:**\n",
    "- Formatting with **%** Operator (Old) \n",
    "- Formatting with **format()** method (New) \n",
    "- Formatting with **f-strings**\n",
    "- Formatting with **String Template Class**"
   ]
  }
 ],
 "metadata": {
  "language_info": {
   "name": "python"
  }
 },
 "nbformat": 4,
 "nbformat_minor": 2
}
