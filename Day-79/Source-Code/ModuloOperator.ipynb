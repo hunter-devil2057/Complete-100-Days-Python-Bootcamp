{
 "cells": [
  {
   "cell_type": "markdown",
   "metadata": {},
   "source": [
    "**Formatting with % Operator**\n",
    "- especially used in Python 2. \n",
    "- It is the oldest method of string formatting. \n",
    "- We use the modulo % operator (\"string-formatting operator\")\n",
    "- So, \"%s\" is used for string. \n",
    "- \"%d\" is used for integers. \n",
    "- \"%f\" is used for float. \n",
    "- \"%b\" is used for binary format."
   ]
  },
  {
   "cell_type": "markdown",
   "metadata": {},
   "source": [
    "**Syntax:** print(\"%modulo-operator\" %variable)"
   ]
  },
  {
   "cell_type": "markdown",
   "metadata": {},
   "source": [
    "**Example:**"
   ]
  },
  {
   "cell_type": "code",
   "execution_count": 4,
   "metadata": {},
   "outputs": [
    {
     "name": "stdout",
     "output_type": "stream",
     "text": [
      "Hi!, Hunter Devil\n",
      "My age is, 28\n",
      "Product Price is, 243.430000\n"
     ]
    }
   ],
   "source": [
    "name=\"Hunter Devil\"\n",
    "age=28\n",
    "price=243.43\n",
    "print(\"Hi!, %s\" %name)\n",
    "print(\"My age is, %d\" %age)\n",
    "print(\"Product Price is, %f\" %price)"
   ]
  },
  {
   "cell_type": "code",
   "execution_count": 12,
   "metadata": {},
   "outputs": [
    {
     "name": "stdout",
     "output_type": "stream",
     "text": [
      "How are you Hunter Devil\n",
      "My age is, 28\n",
      "Product Price is, 243.430000\n",
      "My name is Hunter Devil and my age is 28, product price is 243.430000\n"
     ]
    }
   ],
   "source": [
    "name=\"Hunter Devil\"\n",
    "age=28\n",
    "price=243.43\n",
    "print(\"How are you %s\" %name)\n",
    "print(\"My age is, %d\" %age)\n",
    "print(\"Product Price is, %f\" %price)\n",
    "print(\"My name is %s and my age is %d, product price is %f\" %(name, age, price))"
   ]
  }
 ],
 "metadata": {
  "kernelspec": {
   "display_name": "base",
   "language": "python",
   "name": "python3"
  },
  "language_info": {
   "codemirror_mode": {
    "name": "ipython",
    "version": 3
   },
   "file_extension": ".py",
   "mimetype": "text/x-python",
   "name": "python",
   "nbconvert_exporter": "python",
   "pygments_lexer": "ipython3",
   "version": "3.12.4"
  }
 },
 "nbformat": 4,
 "nbformat_minor": 2
}
