{
 "cells": [
  {
   "cell_type": "markdown",
   "metadata": {},
   "source": [
    "**Formatting with format(): Python 3**\n",
    "- Introduced in Python 3. \n",
    "- It is the easiest way to format string than modulo operator. \n",
    "- We use curly braces and specific number (0, 1, 2, .....) of variable as we used. "
   ]
  },
  {
   "cell_type": "markdown",
   "metadata": {},
   "source": [
    "**Syntax:** print(\"{0}{1}{2}\".format(var1, var2, var3))"
   ]
  },
  {
   "cell_type": "markdown",
   "metadata": {},
   "source": [
    "**Example:**"
   ]
  },
  {
   "cell_type": "code",
   "execution_count": 4,
   "metadata": {},
   "outputs": [
    {
     "name": "stdout",
     "output_type": "stream",
     "text": [
      "100 | HunterDevil | Price: $2.14\n",
      "100 | HunterDevil | Price: $2.14\n"
     ]
    }
   ],
   "source": [
    "# Positional Arguments\n",
    "print(\"{0} | {1} | Price: ${2}\".format(100, \"HunterDevil\", 2.14))\n",
    "# Keyword Arguments\n",
    "print(\"{quantity} | {item} | Price: ${price}\".format(quantity=100, item=\"HunterDevil\", price=2.14))"
   ]
  },
  {
   "cell_type": "code",
   "execution_count": 6,
   "metadata": {},
   "outputs": [
    {
     "name": "stdout",
     "output_type": "stream",
     "text": [
      "How are you, Manish Shiwakoti\n",
      "Your age: 24 years old.\n",
      "Product Price: $232.4\n",
      "How are you, Dr. Wolf\n",
      "Your age: 23 years old.\n",
      "Product Price: $234.43\n"
     ]
    }
   ],
   "source": [
    "name=\"Manish Shiwakoti\"\n",
    "age=24\n",
    "price=232.4\n",
    "# Positional Arguments\n",
    "print(\"How are you, {0}\\nYour age: {1} years old.\\nProduct Price: ${2}\".format(name, age, price))\n",
    "# Keyword Arguments\n",
    "print(\"How are you, {name}\\nYour age: {age} years old.\\nProduct Price: ${price}\".format(name=\"Dr. Wolf\", age=23, price=234.43))"
   ]
  }
 ],
 "metadata": {
  "kernelspec": {
   "display_name": "base",
   "language": "python",
   "name": "python3"
  },
  "language_info": {
   "codemirror_mode": {
    "name": "ipython",
    "version": 3
   },
   "file_extension": ".py",
   "mimetype": "text/x-python",
   "name": "python",
   "nbconvert_exporter": "python",
   "pygments_lexer": "ipython3",
   "version": "3.12.4"
  }
 },
 "nbformat": 4,
 "nbformat_minor": 2
}
