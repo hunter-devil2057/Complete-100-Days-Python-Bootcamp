{
 "cells": [
  {
   "cell_type": "markdown",
   "metadata": {},
   "source": [
    "**Python List Introduction**\n",
    "- List is the data type used in Python \n",
    "- List is the mutable data type. \n",
    "- List work like array\n",
    "- List contain multiple values having a sequence of items/elements. \n",
    "- List is the ordered data structure having a sequence in items/elements. \n",
    "- List stored elements/items enclosed with square bracket. \n",
    "- We can create a list inside another list, as Nested List. \n",
    "- We can Concatenate most List (List + List)\n",
    "- We can repeat a list may times using \"*\" symbol. \n",
    "- We can use Membership Operator to check any element in the list. \n",
    "- We can iterate list item one by one. "
   ]
  },
  {
   "cell_type": "markdown",
   "metadata": {},
   "source": [
    "**Python List Examples**\n",
    "- ['Python', 'C++', 'JavaScript', 'C', 'Java', 'HTML']\n",
    "- language=[\"Python\", \"C++\", \"JavaScript\", \"C\", \"Java\", \"HTML\"]\n",
    "- [1, 3.4, 4+4j, 'Jafri']"
   ]
  },
  {
   "cell_type": "markdown",
   "metadata": {},
   "source": [
    "**Access List Items**\n",
    "- language=[\"Python\", \"C++\", \"JavaScript\", \"C\", \"Java\", \"HTML\"]\n",
    "1. Index Number: \n",
    "    - listName[indexNumber]   #we can mention positive or negative index number\n",
    "    - language[3]   //C\n",
    "    - language[-1]  //HTML\n",
    "2. Using Loop: \n",
    "    - for i in language: \n",
    "        - print(i)"
   ]
  },
  {
   "cell_type": "markdown",
   "metadata": {},
   "source": [
    "**Change/Modify List Items**\n",
    "- We can change list item because list is the mutable object: \n",
    "    - Example: \n",
    "        - language=[\"Python\", \"C++\", \"JavaScript\", \"C\", \"Java\", \"HTML\"]\n",
    "        - listName[indexNumber]=\"New Value\" #give index number of that elemen, you want update\n",
    "        - language[0]=\"C#\"  #at 0 index number element will be change."
   ]
  },
  {
   "cell_type": "markdown",
   "metadata": {},
   "source": [
    "**Example:**"
   ]
  },
  {
   "cell_type": "code",
   "execution_count": 3,
   "metadata": {},
   "outputs": [
    {
     "name": "stdout",
     "output_type": "stream",
     "text": [
      "3\n",
      "5\n",
      "1\n",
      "6\n",
      "23\n",
      "5\n",
      "4\n"
     ]
    }
   ],
   "source": [
    "lst=[3, 5, 1, 6, 23, 5, 4]\n",
    "print(lst[0])\n",
    "print(lst[1])\n",
    "print(lst[2])\n",
    "print(lst[3])\n",
    "print(lst[4])\n",
    "print(lst[5])\n",
    "print(lst[6])"
   ]
  },
  {
   "cell_type": "code",
   "execution_count": 2,
   "metadata": {},
   "outputs": [
    {
     "name": "stdout",
     "output_type": "stream",
     "text": [
      "h\n",
      "s\n",
      "i\n",
      "n\n",
      "a\n",
      "m\n"
     ]
    }
   ],
   "source": [
    "lst=[\"m\", \"a\", \"n\", \"i\", \"s\", \"h\"]\n",
    "print(lst[-1])\n",
    "print(lst[-2])\n",
    "print(lst[-3])\n",
    "print(lst[-4])\n",
    "print(lst[-5])\n",
    "print(lst[-6])"
   ]
  },
  {
   "cell_type": "code",
   "execution_count": 5,
   "metadata": {},
   "outputs": [
    {
     "name": "stdout",
     "output_type": "stream",
     "text": [
      "['h', 'u', 'n', 't', 'e', 'r']\n",
      "['u', 'n', 't', 'e', 'r']\n",
      "['n', 't', 'e']\n",
      "['t']\n"
     ]
    }
   ],
   "source": [
    "lst=['h', 'u', 'n', 't', 'e', 'r']\n",
    "print(lst[0:7])\n",
    "print(lst[1:6])\n",
    "print(lst[2:5])\n",
    "print(lst[3:4])"
   ]
  },
  {
   "cell_type": "code",
   "execution_count": 17,
   "metadata": {},
   "outputs": [
    {
     "name": "stdout",
     "output_type": "stream",
     "text": [
      "['h', 'u', 'n', 't', 'e']\n",
      "['u', 'n', 't']\n",
      "['n']\n",
      "[]\n"
     ]
    }
   ],
   "source": [
    "lst=['h', 'u', 'n', 't', 'e', 'r']\n",
    "print(lst[-6:-1])\n",
    "print(lst[-5:-2])\n",
    "print(lst[-4:-3])\n",
    "print(lst[-3:-3])\n"
   ]
  },
  {
   "cell_type": "code",
   "execution_count": 20,
   "metadata": {},
   "outputs": [
    {
     "name": "stdout",
     "output_type": "stream",
     "text": [
      "h\n",
      "a\n",
      "n\n",
      "t\n",
      "y\n",
      "r\n"
     ]
    }
   ],
   "source": [
    "lst=['h', 'u', 'n', 't', 'e', 'r']\n",
    "lst[1]='a'\n",
    "lst[-2]='y'\n",
    "for i in lst:\n",
    "    print(i)"
   ]
  },
  {
   "cell_type": "code",
   "execution_count": 22,
   "metadata": {},
   "outputs": [
    {
     "name": "stdout",
     "output_type": "stream",
     "text": [
      "List 1: ['h', 'u', 'n', 't', 'e', 'r']\n",
      "List 2: ['d', 'e', 'v', 'i', 'l', 'z']\n",
      "Result: ['h', 'u', 'n', 't', 'e', 'r', 'd', 'e', 'v', 'i', 'l', 'z']\n"
     ]
    }
   ],
   "source": [
    "lst1=['h', 'u', 'n', 't', 'e', 'r']\n",
    "lst2=['d', 'e', 'v', 'i', 'l', 'z']\n",
    "# It concatenates/combines two lists\n",
    "result=lst1+lst2\n",
    "print(f\"List 1: {lst1}\")\n",
    "print(f\"List 2: {lst2}\")\n",
    "print(f\"Result: {result}\")"
   ]
  }
 ],
 "metadata": {
  "kernelspec": {
   "display_name": "base",
   "language": "python",
   "name": "python3"
  },
  "language_info": {
   "codemirror_mode": {
    "name": "ipython",
    "version": 3
   },
   "file_extension": ".py",
   "mimetype": "text/x-python",
   "name": "python",
   "nbconvert_exporter": "python",
   "pygments_lexer": "ipython3",
   "version": "3.12.4"
  }
 },
 "nbformat": 4,
 "nbformat_minor": 2
}
