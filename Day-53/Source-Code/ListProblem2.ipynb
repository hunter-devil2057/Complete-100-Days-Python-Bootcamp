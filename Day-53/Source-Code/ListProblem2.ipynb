{
 "cells": [
  {
   "cell_type": "markdown",
   "metadata": {},
   "source": [
    "Write a Python program to get 10 numbers from User, store in list, and display only Odd Number getting from List."
   ]
  },
  {
   "cell_type": "code",
   "execution_count": 10,
   "metadata": {},
   "outputs": [
    {
     "name": "stdout",
     "output_type": "stream",
     "text": [
      "num=[1, 2, 3, 4, 5, 6, 7, 8, 9, 10]\n",
      "Odd Numbers are: \n",
      "[1, 3, 5, 7, 9]\n"
     ]
    }
   ],
   "source": [
    "num=[]\n",
    "odd=[]\n",
    "for i in range(10):\n",
    "    num.append(int(input(\"Enter a Number:\")))\n",
    "print(f\"num={num}\")\n",
    "print(\"Odd Numbers are: \")\n",
    "for i in num:\n",
    "    if i%2!=0:\n",
    "        odd.append(i)\n",
    "print(odd)"
   ]
  }
 ],
 "metadata": {
  "kernelspec": {
   "display_name": "base",
   "language": "python",
   "name": "python3"
  },
  "language_info": {
   "codemirror_mode": {
    "name": "ipython",
    "version": 3
   },
   "file_extension": ".py",
   "mimetype": "text/x-python",
   "name": "python",
   "nbconvert_exporter": "python",
   "pygments_lexer": "ipython3",
   "version": "3.12.4"
  }
 },
 "nbformat": 4,
 "nbformat_minor": 2
}
