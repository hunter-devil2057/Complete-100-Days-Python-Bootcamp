{
 "cells": [
  {
   "cell_type": "markdown",
   "metadata": {},
   "source": [
    "Write a Python program to create a dictionary from a list which display length of those word which contains greater than 5 character as value. "
   ]
  },
  {
   "cell_type": "code",
   "execution_count": 9,
   "metadata": {},
   "outputs": [
    {
     "name": "stdout",
     "output_type": "stream",
     "text": [
      "{'yellow': 6}\n"
     ]
    }
   ],
   "source": [
    "color={\"red\", \"white\", \"pink\", \"gray\", \"yellow\", \"black\"}\n",
    "colorDict={i:len(i) for i in color if len(i)>5}\n",
    "print(colorDict)"
   ]
  }
 ],
 "metadata": {
  "language_info": {
   "name": "python"
  }
 },
 "nbformat": 4,
 "nbformat_minor": 2
}
