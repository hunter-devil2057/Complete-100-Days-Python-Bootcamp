{
 "cells": [
  {
   "cell_type": "markdown",
   "metadata": {},
   "source": [
    "**Comprehension**\n",
    "- We create a sequence from a given sequence is called **Comprehension**. \n",
    "- Sequence means list, tuple string and range. \n",
    "- Some sequence allow comprehension but some does not. \n",
    "- As tuple did not allow comprehension as we do in list. \n",
    "- We can create dictionary from another dictionary or sequence. "
   ]
  },
  {
   "cell_type": "markdown",
   "metadata": {},
   "source": [
    "**Need of Comprehension**\n",
    "- Filtering and Searching\n",
    "- Fastest Way\n",
    "- One line of code\n",
    "- Simplicity"
   ]
  }
 ],
 "metadata": {
  "language_info": {
   "name": "python"
  }
 },
 "nbformat": 4,
 "nbformat_minor": 2
}
