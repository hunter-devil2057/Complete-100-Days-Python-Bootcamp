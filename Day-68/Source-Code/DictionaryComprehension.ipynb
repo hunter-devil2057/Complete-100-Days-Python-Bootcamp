{
 "cells": [
  {
   "cell_type": "markdown",
   "metadata": {},
   "source": [
    "**Python Dictionary Comprehension**\n",
    "- Using dictionary comprehension, we can create another dictionary from existing dictionry or existing sequence on teh basis of some conditions. \n",
    "- **Understand:** Key, Value, Item\n",
    "- **Example:** dict={\"a\": 4, \"b\": 1, \"c\": 6, \"d\": 2, \"e\": 3}\n",
    "- **Syntax:** dictVar={key: value for key, value} in dictionary items()/sequence"
   ]
  },
  {
   "cell_type": "markdown",
   "metadata": {},
   "source": [
    "**Example:**"
   ]
  },
  {
   "cell_type": "code",
   "execution_count": 1,
   "metadata": {},
   "outputs": [
    {
     "name": "stdout",
     "output_type": "stream",
     "text": [
      "{'a': 12, 'b': 3, 'c': 18, 'd': 6, 'e': 9}\n"
     ]
    }
   ],
   "source": [
    "dict={\"a\": 4, \"b\": 1, \"c\": 6, \"d\": 2, \"e\": 3}\n",
    "newDict={k:v*3 for (k, v) in dict.items()}\n",
    "print(newDict)"
   ]
  },
  {
   "cell_type": "code",
   "execution_count": 2,
   "metadata": {},
   "outputs": [
    {
     "name": "stdout",
     "output_type": "stream",
     "text": [
      "{'Manish': 4, 'Shiwakoti': 1, 'Hunter': 6, 'Devil': 2}\n",
      "{'Manish': 20, 'Shiwakoti': 5, 'Hunter': 30, 'Devil': 10}\n"
     ]
    }
   ],
   "source": [
    "dict={\"Manish\": 4, \"Shiwakoti\": 1, \"Hunter\": 6, \"Devil\": 2}\n",
    "print(dict)\n",
    "newDict={k:v*5 for (k, v) in dict.items()}\n",
    "print(newDict)"
   ]
  },
  {
   "cell_type": "markdown",
   "metadata": {},
   "source": [
    "**Syntax:**\n",
    "- newDict=[key:value for (key, value) in dictionary.items/sequence]\n",
    "- newDict=[key:value for (key, value) in dictionary.items/sequence ***if statement***]\n",
    "- newDict=[key:value ***if statement else statement*** for (key, value) in dictionary.items/sequence]\n",
    "- newDict=[key:value for (key, value) in dictionary.items/sequence ***nested if statement***]"
   ]
  },
  {
   "cell_type": "markdown",
   "metadata": {},
   "source": [
    "**Example:**"
   ]
  },
  {
   "cell_type": "code",
   "execution_count": 5,
   "metadata": {},
   "outputs": [
    {
     "name": "stdout",
     "output_type": "stream",
     "text": [
      "{'a': 4, 'b': 1, 'c': 6, 'd': 2, 'e': 3}\n",
      "{'a': 20, 'b': 5, 'c': 30, 'd': 10, 'e': 15}\n"
     ]
    }
   ],
   "source": [
    "dict={'a': 4, 'b': 1, 'c': 6, 'd': 2, 'e': 3}\n",
    "print(dict)\n",
    "newDict={k: v*5 for (k, v) in dict.items()}\n",
    "print(newDict)"
   ]
  },
  {
   "cell_type": "code",
   "execution_count": 8,
   "metadata": {},
   "outputs": [
    {
     "name": "stdout",
     "output_type": "stream",
     "text": [
      "{'a': 4, 'b': 1, 'c': 6, 'd': 2, 'e': 3}\n",
      "{'a': 4}\n"
     ]
    }
   ],
   "source": [
    "dict={'a': 4, 'b': 1, 'c': 6, 'd': 2, 'e': 3}\n",
    "print(dict)\n",
    "newDict={k: v for (k, v) in dict.items() if 'a' in k}\n",
    "print(newDict)"
   ]
  },
  {
   "cell_type": "code",
   "execution_count": 12,
   "metadata": {},
   "outputs": [
    {
     "name": "stdout",
     "output_type": "stream",
     "text": [
      "{'a': 3, 'b': 12, 'c': 6, 'd': 10, 'e': 15, 'f': 9}\n",
      "{'a': 'Odd', 'b': 'Even', 'c': 'Even', 'd': 'Even', 'e': 'Odd', 'f': 'Odd'}\n"
     ]
    }
   ],
   "source": [
    "dict={'a': 3, 'b': 12, 'c': 6, 'd': 10, 'e': 15, 'f': 9}\n",
    "print(dict)\n",
    "newDict={k:('Even' if v%2==0 else \"Odd\") for (k, v) in dict.items()}\n",
    "print(newDict)"
   ]
  },
  {
   "cell_type": "code",
   "execution_count": 11,
   "metadata": {},
   "outputs": [
    {
     "name": "stdout",
     "output_type": "stream",
     "text": [
      "{'a': 20, 'b': 12, 'c': 6, 'd': 10, 'e': 15, 'f': 9}\n",
      "{'b': 12, 'c': 6}\n"
     ]
    }
   ],
   "source": [
    "dict={'a': 20, 'b': 12, 'c': 6, 'd': 10, 'e': 15, 'f': 9}\n",
    "print(dict)\n",
    "newDict={k: v for (k, v) in dict.items() if v%2==0 if v%3==0}\n",
    "print(newDict)"
   ]
  },
  {
   "cell_type": "code",
   "execution_count": 13,
   "metadata": {},
   "outputs": [
    {
     "name": "stdout",
     "output_type": "stream",
     "text": [
      "{'red': 32, 'blue': 82, 'white': 89}\n",
      "{'red': 35, 'blue': 85, 'white': 92}\n"
     ]
    }
   ],
   "source": [
    "dict={\"red\": 32, \"blue\": 82, \"white\": 89}\n",
    "print(dict)\n",
    "simpleDict={k:v+3 for (k, v) in dict.items()}\n",
    "print(simpleDict)"
   ]
  },
  {
   "cell_type": "code",
   "execution_count": 14,
   "metadata": {},
   "outputs": [
    {
     "name": "stdout",
     "output_type": "stream",
     "text": [
      "{'red': 32, 'blue': 82, 'white': 89}\n",
      "{'red': 35, 'blue': 85}\n"
     ]
    }
   ],
   "source": [
    "dict={\"red\": 32, \"blue\": 82, \"white\": 89}\n",
    "print(dict)\n",
    "simpleDict={k:v+3 for (k, v) in dict.items() if v%2==0}\n",
    "print(simpleDict)"
   ]
  },
  {
   "cell_type": "code",
   "execution_count": 15,
   "metadata": {},
   "outputs": [
    {
     "name": "stdout",
     "output_type": "stream",
     "text": [
      "{'red': 32, 'blue': 82, 'white': 89}\n",
      "{'white': 92}\n"
     ]
    }
   ],
   "source": [
    "dict={\"red\": 32, \"blue\": 82, \"white\": 89}\n",
    "print(dict)\n",
    "ifDict={k:v+3 for (k, v) in dict.items() if v%2!=0}\n",
    "print(ifDict)"
   ]
  },
  {
   "cell_type": "code",
   "execution_count": 17,
   "metadata": {},
   "outputs": [
    {
     "name": "stdout",
     "output_type": "stream",
     "text": [
      "{'red': 32, 'blue': 82, 'white': 89}\n",
      "{'red': 'Even', 'blue': 'Even', 'white': 'Odd'}\n"
     ]
    }
   ],
   "source": [
    "dict={\"red\": 32, \"blue\": 82, \"white\": 89}\n",
    "print(dict)\n",
    "ifElseDict={k:(\"Even\" if v%2==0 else \"Odd\") for (k, v) in dict.items()}\n",
    "print(ifElseDict)"
   ]
  },
  {
   "cell_type": "code",
   "execution_count": 18,
   "metadata": {},
   "outputs": [
    {
     "name": "stdout",
     "output_type": "stream",
     "text": [
      "{'red': 32, 'blue': 82, 'white': 89}\n",
      "{}\n"
     ]
    }
   ],
   "source": [
    "dict={\"red\": 32, \"blue\": 82, \"white\": 89}\n",
    "print(dict)\n",
    "nestedIfDict={k:v+3 for (k, v) in dict.items() if v%2==0 if v%3==0}\n",
    "print(nestedIfDict)"
   ]
  },
  {
   "cell_type": "code",
   "execution_count": 19,
   "metadata": {},
   "outputs": [
    {
     "name": "stdout",
     "output_type": "stream",
     "text": [
      "{'red': 32, 'blue': 82, 'white': 89}\n",
      "{'red': 35}\n"
     ]
    }
   ],
   "source": [
    "dict={\"red\": 32, \"blue\": 82, \"white\": 89}\n",
    "print(dict)\n",
    "nestedIfDict={k:v+3 for (k, v) in dict.items() if v%2==0 if v%4==0}\n",
    "print(nestedIfDict)"
   ]
  }
 ],
 "metadata": {
  "kernelspec": {
   "display_name": "base",
   "language": "python",
   "name": "python3"
  },
  "language_info": {
   "codemirror_mode": {
    "name": "ipython",
    "version": 3
   },
   "file_extension": ".py",
   "mimetype": "text/x-python",
   "name": "python",
   "nbconvert_exporter": "python",
   "pygments_lexer": "ipython3",
   "version": "3.12.4"
  }
 },
 "nbformat": 4,
 "nbformat_minor": 2
}
