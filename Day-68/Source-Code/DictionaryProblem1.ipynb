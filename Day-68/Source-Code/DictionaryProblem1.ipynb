{
 "cells": [
  {
   "cell_type": "markdown",
   "metadata": {},
   "source": [
    "Write a Python program to create a dictionary from a list which display length of each word as value. "
   ]
  },
  {
   "cell_type": "code",
   "execution_count": 1,
   "metadata": {},
   "outputs": [
    {
     "name": "stdout",
     "output_type": "stream",
     "text": [
      "{'red': 3, 'white': 5, 'pink': 4, 'gray': 4, 'yellow': 6, 'black': 5}\n"
     ]
    }
   ],
   "source": [
    "color=[\"red\", \"white\", \"pink\", \"gray\", \"yellow\", \"black\"]\n",
    "colorDict={i:len(i) for i in color}\n",
    "print(colorDict)"
   ]
  }
 ],
 "metadata": {
  "kernelspec": {
   "display_name": "base",
   "language": "python",
   "name": "python3"
  },
  "language_info": {
   "codemirror_mode": {
    "name": "ipython",
    "version": 3
   },
   "file_extension": ".py",
   "mimetype": "text/x-python",
   "name": "python",
   "nbconvert_exporter": "python",
   "pygments_lexer": "ipython3",
   "version": "3.12.4"
  }
 },
 "nbformat": 4,
 "nbformat_minor": 2
}
