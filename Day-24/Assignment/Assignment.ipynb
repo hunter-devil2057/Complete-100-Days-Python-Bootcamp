{
 "cells": [
  {
   "cell_type": "markdown",
   "metadata": {},
   "source": [
    "Bitwise Operations"
   ]
  },
  {
   "cell_type": "markdown",
   "metadata": {},
   "source": [
    "1. Create two variables 'num1' and 'num2' with values '10' and '5' respectively.\n",
    "\n",
    "2. Perform the following bitwise operations and store the results in variables:\n",
    "    - Bitwise AND: Perform a bitwise AND operation between 'num1' and 'num2' and store the result in a variable named 'and_result'.\n",
    "    - Bitwise OR: Perform a bitwise OR operation between 'num1' and 'num2' and store the result in a variable named 'or_result'.\n",
    "    - Bitwise XOR: Perform a bitwise XOR operation between 'num1' and 'num2' and store the result in a variable named 'xor_result'.\n",
    "    - Bitwise NOT: Perform a bitwise NOT operation on 'num1' and store the result in a variable named 'not_num1'.\n",
    "\n",
    "3. Print the results of all the operations."
   ]
  },
  {
   "cell_type": "code",
   "execution_count": 6,
   "metadata": {},
   "outputs": [
    {
     "name": "stdout",
     "output_type": "stream",
     "text": [
      "0\n",
      "15\n",
      "-11\n",
      "15\n"
     ]
    }
   ],
   "source": [
    "num1=10\n",
    "num2=5\n",
    "# Bitwise AND Operation\n",
    "and_result = num1 & num2\n",
    "print(and_result)\n",
    "\n",
    "# Bitwise OR Operation\n",
    "or_result = num1 | num2\n",
    "print(or_result)\n",
    "\n",
    "# Bitwise NOT Operation\n",
    "not_result= ~num1\n",
    "print(not_result)\n",
    "\n",
    "# Bitwise XOR Operation\n",
    "xor_result=num1 ^ num2\n",
    "print(xor_result)"
   ]
  },
  {
   "cell_type": "code",
   "execution_count": null,
   "metadata": {},
   "outputs": [],
   "source": []
  }
 ],
 "metadata": {
  "kernelspec": {
   "display_name": "base",
   "language": "python",
   "name": "python3"
  },
  "language_info": {
   "codemirror_mode": {
    "name": "ipython",
    "version": 3
   },
   "file_extension": ".py",
   "mimetype": "text/x-python",
   "name": "python",
   "nbconvert_exporter": "python",
   "pygments_lexer": "ipython3",
   "version": "3.12.4"
  }
 },
 "nbformat": 4,
 "nbformat_minor": 2
}
