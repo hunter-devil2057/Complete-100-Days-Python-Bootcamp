{
 "cells": [
  {
   "cell_type": "markdown",
   "metadata": {},
   "source": [
    "Bitwise Operator: \n",
    "- rarely used operator in development\n",
    "- convert integers into binary at first, then perform operations then again convert decimal and gives result to the user. "
   ]
  },
  {
   "cell_type": "markdown",
   "metadata": {},
   "source": [
    "Bitwise Logical Operators: \n",
    "- | Symbol  | Name | Example |\n",
    "- |    &    | AND  | a & b   |\n",
    "- |    |    | OR   | a | b   |\n",
    "- |    ~    | NOT  |  ~a     |\n",
    "- |    ^    | XOR  |  a ^ b  |"
   ]
  },
  {
   "cell_type": "markdown",
   "metadata": {},
   "source": [
    "Bitwise AND Operators: \n",
    "- | a Operand  | b Operand | a & b |\n",
    "- |    1       |     1     |   1   |\n",
    "- |    1       |     0     |   0   |\n",
    "- |    0       |     1     |   0   |\n",
    "- |    0       |     0     |   0   |"
   ]
  },
  {
   "cell_type": "code",
   "execution_count": 1,
   "metadata": {},
   "outputs": [
    {
     "name": "stdout",
     "output_type": "stream",
     "text": [
      "10\n"
     ]
    }
   ],
   "source": [
    "# Logical Bitwise AND Operator \n",
    "a=10\n",
    "b=15\n",
    "print(a&b)"
   ]
  },
  {
   "cell_type": "markdown",
   "metadata": {},
   "source": [
    "Bitwise OR Operators: \n",
    "- | a Operand  | b Operand | a | b |\n",
    "- |    1       |     1     |   1   |\n",
    "- |    1       |     0     |   1   |\n",
    "- |    0       |     1     |   1   |\n",
    "- |    0       |     0     |   0   |"
   ]
  },
  {
   "cell_type": "code",
   "execution_count": 2,
   "metadata": {},
   "outputs": [
    {
     "name": "stdout",
     "output_type": "stream",
     "text": [
      "15\n"
     ]
    }
   ],
   "source": [
    "a=10\n",
    "b=15\n",
    "print(a|b)"
   ]
  },
  {
   "cell_type": "markdown",
   "metadata": {},
   "source": [
    "Bitwise NOT Operators: \n",
    "    - to work with bitwise NOT Operator, we have to find it's 1's complement, then convert it to decimal number.\n",
    "- | a Operand  |   ~a  |\n",
    "- |    1       |   0   |\n",
    "- |    0       |   1   |"
   ]
  },
  {
   "cell_type": "code",
   "execution_count": 5,
   "metadata": {},
   "outputs": [
    {
     "name": "stdout",
     "output_type": "stream",
     "text": [
      "-11\n",
      "-16\n"
     ]
    }
   ],
   "source": [
    "a=10\n",
    "b=15\n",
    "print(~a)\n",
    "print(~b)"
   ]
  },
  {
   "cell_type": "markdown",
   "metadata": {},
   "source": [
    "Bitwise XOR Operators: \n",
    "- | a Operand  | b Operand | a ^ b |\n",
    "- |    1       |     1     |   0   |\n",
    "- |    1       |     0     |   1   |\n",
    "- |    0       |     1     |   1   |\n",
    "- |    0       |     0     |   0   |"
   ]
  },
  {
   "cell_type": "code",
   "execution_count": 4,
   "metadata": {},
   "outputs": [
    {
     "name": "stdout",
     "output_type": "stream",
     "text": [
      "5\n"
     ]
    }
   ],
   "source": [
    "a=10\n",
    "b=15\n",
    "print(a^b)"
   ]
  }
 ],
 "metadata": {
  "kernelspec": {
   "display_name": "base",
   "language": "python",
   "name": "python3"
  },
  "language_info": {
   "codemirror_mode": {
    "name": "ipython",
    "version": 3
   },
   "file_extension": ".py",
   "mimetype": "text/x-python",
   "name": "python",
   "nbconvert_exporter": "python",
   "pygments_lexer": "ipython3",
   "version": "3.12.4"
  }
 },
 "nbformat": 4,
 "nbformat_minor": 2
}
