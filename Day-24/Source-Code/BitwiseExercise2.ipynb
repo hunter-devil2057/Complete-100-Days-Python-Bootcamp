{
 "cells": [
  {
   "cell_type": "markdown",
   "metadata": {},
   "source": [
    "Write a python program to get a number from a user to find it's right and left shift"
   ]
  },
  {
   "cell_type": "code",
   "execution_count": 3,
   "metadata": {},
   "outputs": [
    {
     "name": "stdout",
     "output_type": "stream",
     "text": [
      "10\n",
      "3\n",
      "Left Shift:  3072\n",
      "Right Shift:  1\n"
     ]
    }
   ],
   "source": [
    "num=int(input(\"Enter Number: \"))\n",
    "shift=int(input(\"Enter a number to Shift:\"))\n",
    "print(\"num=\", num)\n",
    "print(\"shift=\", shift)\n",
    "leftShift=shift<<num\n",
    "print(\"Left Shift: \", leftShift)\n",
    "rightShift=num>>shift\n",
    "print(\"Right Shift: \", rightShift)"
   ]
  }
 ],
 "metadata": {
  "kernelspec": {
   "display_name": "base",
   "language": "python",
   "name": "python3"
  },
  "language_info": {
   "codemirror_mode": {
    "name": "ipython",
    "version": 3
   },
   "file_extension": ".py",
   "mimetype": "text/x-python",
   "name": "python",
   "nbconvert_exporter": "python",
   "pygments_lexer": "ipython3",
   "version": "3.12.4"
  }
 },
 "nbformat": 4,
 "nbformat_minor": 2
}
