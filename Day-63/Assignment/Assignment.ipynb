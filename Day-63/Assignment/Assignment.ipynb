{
 "cells": [
  {
   "cell_type": "markdown",
   "metadata": {},
   "source": [
    "1. Create a tuple named numbers containing the numbers 1 to 5.\n",
    "2. Print the numbers tuple.\n",
    "3. Prompt the user to enter a number.\n",
    "4. Find and print the index of the entered number in the numbers tuple."
   ]
  },
  {
   "cell_type": "code",
   "execution_count": 3,
   "metadata": {},
   "outputs": [
    {
     "name": "stdout",
     "output_type": "stream",
     "text": [
      "(1, 2, 3, 4, 5)\n",
      "3 is found in Index: 3\n"
     ]
    }
   ],
   "source": [
    "numbers=(1, 2, 3, 4, 5)\n",
    "print(numbers)\n",
    "userInput=int(input(\"Enter a Number: \"))\n",
    "\n",
    "if userInput in numbers: \n",
    "    index=numbers.index(userInput)\n",
    "    print(f\"{userInput} is found in Index: {index+1}\")\n",
    "else:\n",
    "    print(f\"{userInput} not found in Tuple\")"
   ]
  }
 ],
 "metadata": {
  "kernelspec": {
   "display_name": "base",
   "language": "python",
   "name": "python3"
  },
  "language_info": {
   "codemirror_mode": {
    "name": "ipython",
    "version": 3
   },
   "file_extension": ".py",
   "mimetype": "text/x-python",
   "name": "python",
   "nbconvert_exporter": "python",
   "pygments_lexer": "ipython3",
   "version": "3.12.4"
  }
 },
 "nbformat": 4,
 "nbformat_minor": 2
}
