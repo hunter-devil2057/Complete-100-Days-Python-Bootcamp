{
 "cells": [
  {
   "cell_type": "markdown",
   "metadata": {},
   "source": [
    "**isdigit()**\n",
    "- It return True if all character in string are number. "
   ]
  },
  {
   "cell_type": "markdown",
   "metadata": {},
   "source": [
    "**Using isdigit():**\n",
    "- print(a.**isdigit**())      #True\n",
    "- print(b.**isdigit**())     #False\n",
    "- print(c.**isdigit**())     #False\n"
   ]
  },
  {
   "cell_type": "markdown",
   "metadata": {},
   "source": [
    "**isdecimal()**\n",
    "- It return True if all character in string are number. "
   ]
  },
  {
   "cell_type": "markdown",
   "metadata": {},
   "source": [
    "**Using isdecimal():**\n",
    "- print(a.**isdecimal**())      #True\n",
    "- print(b.**isdecimal**())     #False\n",
    "- print(c.**isdecimal**())     #False\n"
   ]
  },
  {
   "cell_type": "markdown",
   "metadata": {},
   "source": [
    "**Difference:**\n",
    "- **Unicode:** Unicode provides a unique number for every character. \n",
    "    - a=\"\\u0030\"    #unicode for 0\n",
    "    - b=\"\\u00B2\"    #unicode for supscript^2\n",
    "    - c=\"\\u2081\"    #unicode for subscript_1"
   ]
  },
  {
   "cell_type": "markdown",
   "metadata": {},
   "source": [
    "**Example:**"
   ]
  },
  {
   "cell_type": "code",
   "execution_count": 4,
   "metadata": {},
   "outputs": [
    {
     "name": "stdout",
     "output_type": "stream",
     "text": [
      "0 ² ₁ ¹ ¼ ₁\n",
      "True\n",
      "True\n",
      "True\n",
      "True\n",
      "False\n",
      "True\n",
      "True\n",
      "False\n",
      "False\n",
      "False\n",
      "False\n",
      "False\n"
     ]
    }
   ],
   "source": [
    "a=\"\\u0030\"  #unicode for 0\n",
    "b=\"\\u00B2\"  #unicode for supscript ^2\n",
    "c=\"\\u2081\"  #unicode for subscript 1\n",
    "d=\"\\u00B9\"\n",
    "e=\"\\u00BC\"\n",
    "f=\"\\u2081\"\n",
    "\n",
    "print(a, b, c, d, e, f)\n",
    "print(a.isdigit())\n",
    "print(b.isdigit())\n",
    "print(c.isdigit())\n",
    "print(d.isdigit())\n",
    "print(e.isdigit())\n",
    "print(f.isdigit())\n",
    "print(a.isdecimal())\n",
    "print(b.isdecimal())\n",
    "print(c.isdecimal())\n",
    "print(d.isdecimal())\n",
    "print(e.isdecimal())\n",
    "print(f.isdecimal())"
   ]
  }
 ],
 "metadata": {
  "kernelspec": {
   "display_name": "base",
   "language": "python",
   "name": "python3"
  },
  "language_info": {
   "codemirror_mode": {
    "name": "ipython",
    "version": 3
   },
   "file_extension": ".py",
   "mimetype": "text/x-python",
   "name": "python",
   "nbconvert_exporter": "python",
   "pygments_lexer": "ipython3",
   "version": "3.12.4"
  }
 },
 "nbformat": 4,
 "nbformat_minor": 2
}
