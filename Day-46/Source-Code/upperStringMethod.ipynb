{
 "cells": [
  {
   "cell_type": "markdown",
   "metadata": {},
   "source": [
    "**String Method upper()**\n",
    "- converts all the character into uppercase. "
   ]
  },
  {
   "cell_type": "markdown",
   "metadata": {},
   "source": [
    "**Syntax:** string.upper()"
   ]
  },
  {
   "cell_type": "markdown",
   "metadata": {},
   "source": [
    "**Example:**"
   ]
  },
  {
   "cell_type": "code",
   "execution_count": 4,
   "metadata": {},
   "outputs": [
    {
     "name": "stdout",
     "output_type": "stream",
     "text": [
      "MANISHSHIWAKOTI\n",
      "HOW ARE YOU\n"
     ]
    }
   ],
   "source": [
    "str=\"manishshiwakoti\"\n",
    "str1=\"hOW aRe yoU\"\n",
    "print(str.upper())\n",
    "print(str1.upper())"
   ]
  },
  {
   "cell_type": "code",
   "execution_count": 3,
   "metadata": {},
   "outputs": [
    {
     "name": "stdout",
     "output_type": "stream",
     "text": [
      "Your String: hunterdevil\n",
      "Upper Case String: HUNTERDEVIL\n"
     ]
    }
   ],
   "source": [
    "str=input(\"Enter a String: \")\n",
    "print(f\"Your String: {str}\")\n",
    "newStr=str.upper()\n",
    "print(f\"Upper Case String: {newStr}\")"
   ]
  }
 ],
 "metadata": {
  "kernelspec": {
   "display_name": "base",
   "language": "python",
   "name": "python3"
  },
  "language_info": {
   "codemirror_mode": {
    "name": "ipython",
    "version": 3
   },
   "file_extension": ".py",
   "mimetype": "text/x-python",
   "name": "python",
   "nbconvert_exporter": "python",
   "pygments_lexer": "ipython3",
   "version": "3.12.4"
  }
 },
 "nbformat": 4,
 "nbformat_minor": 2
}
