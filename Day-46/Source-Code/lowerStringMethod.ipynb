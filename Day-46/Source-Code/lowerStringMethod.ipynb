{
 "cells": [
  {
   "cell_type": "markdown",
   "metadata": {},
   "source": [
    "**String Method lower()**\n",
    "- converts all the character into lowercase. "
   ]
  },
  {
   "cell_type": "markdown",
   "metadata": {},
   "source": [
    "**Syntax:** string.lower()"
   ]
  },
  {
   "cell_type": "markdown",
   "metadata": {},
   "source": [
    "**Example:**"
   ]
  },
  {
   "cell_type": "code",
   "execution_count": 1,
   "metadata": {},
   "outputs": [
    {
     "name": "stdout",
     "output_type": "stream",
     "text": [
      "manishshiwakoti\n",
      "how are you\n"
     ]
    }
   ],
   "source": [
    "str=\"MANISHSHIWAKOTI\"\n",
    "str1=\"hOW aRe yoU\"\n",
    "print(str.lower())\n",
    "print(str1.lower())"
   ]
  },
  {
   "cell_type": "code",
   "execution_count": 3,
   "metadata": {},
   "outputs": [
    {
     "name": "stdout",
     "output_type": "stream",
     "text": [
      "Your String: HUNTERDEVIL\n",
      "Lower Case String: hunterdevil\n"
     ]
    }
   ],
   "source": [
    "str=input(\"Enter a String: \")\n",
    "print(f\"Your String: {str}\")\n",
    "newStr=str.lower()\n",
    "print(f\"Lower Case String: {newStr}\")"
   ]
  }
 ],
 "metadata": {
  "kernelspec": {
   "display_name": "base",
   "language": "python",
   "name": "python3"
  },
  "language_info": {
   "codemirror_mode": {
    "name": "ipython",
    "version": 3
   },
   "file_extension": ".py",
   "mimetype": "text/x-python",
   "name": "python",
   "nbconvert_exporter": "python",
   "pygments_lexer": "ipython3",
   "version": "3.12.4"
  }
 },
 "nbformat": 4,
 "nbformat_minor": 2
}
