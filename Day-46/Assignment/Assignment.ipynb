{
 "cells": [
  {
   "cell_type": "markdown",
   "metadata": {},
   "source": [
    "1. Prompt the user to enter a string. \n",
    "2. Print the following information about the entered string: \n",
    "    - Length of the String. \n",
    "    - Convert the string to uppercase. \n",
    "    - Convert the string to lowercase. \n",
    "    - Count the number of occurrences of a specific character (e.g., 'a' in the string.)"
   ]
  },
  {
   "cell_type": "code",
   "execution_count": 2,
   "metadata": {},
   "outputs": [
    {
     "name": "stdout",
     "output_type": "stream",
     "text": [
      "Your Entered String: Manish Shiwakoti\n",
      "Length of Entered String: 16\n",
      "String to Uppercase: MANISH SHIWAKOTI\n",
      "String to Lowercase: manish shiwakoti\n",
      "No. of Occurrences of 'a': 2 times\n"
     ]
    }
   ],
   "source": [
    "stringInput=input(\"Enter a String: \")\n",
    "print(f\"Your Entered String: {stringInput}\")\n",
    "lenString=len(stringInput)\n",
    "print(f\"Length of Entered String: {lenString}\")\n",
    "uppString=stringInput.upper()\n",
    "print(f\"String to Uppercase: {uppString}\")\n",
    "lowString=stringInput.lower()\n",
    "print(f\"String to Lowercase: {lowString}\")\n",
    "charOccur=stringInput.count(\"a\")\n",
    "print(f\"No. of Occurrences of \\'a\\': {charOccur} times\")"
   ]
  }
 ],
 "metadata": {
  "kernelspec": {
   "display_name": "base",
   "language": "python",
   "name": "python3"
  },
  "language_info": {
   "codemirror_mode": {
    "name": "ipython",
    "version": 3
   },
   "file_extension": ".py",
   "mimetype": "text/x-python",
   "name": "python",
   "nbconvert_exporter": "python",
   "pygments_lexer": "ipython3",
   "version": "3.12.4"
  }
 },
 "nbformat": 4,
 "nbformat_minor": 2
}
