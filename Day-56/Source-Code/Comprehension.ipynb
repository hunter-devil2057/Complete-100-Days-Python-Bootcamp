{
 "cells": [
  {
   "cell_type": "markdown",
   "metadata": {},
   "source": [
    "**What is Comprehension?**\n",
    "- We create a sequence from a given sequence is called Comprehension. \n",
    "- Sequence means, list tuple, string and range. \n",
    "- We can also create a new dictionary from existing dictionary. \n",
    "- Some sequence allow comprehension but some not. "
   ]
  },
  {
   "cell_type": "markdown",
   "metadata": {},
   "source": [
    "**Need of Comprehension**\n",
    "- Simple way of creating new sequence \n",
    "- Filtering and Searching\n",
    "- One Line of Code\n",
    "- Fastest Way"
   ]
  }
 ],
 "metadata": {
  "kernelspec": {
   "display_name": "base",
   "language": "python",
   "name": "python3"
  },
  "language_info": {
   "name": "python",
   "version": "3.12.4"
  }
 },
 "nbformat": 4,
 "nbformat_minor": 2
}
