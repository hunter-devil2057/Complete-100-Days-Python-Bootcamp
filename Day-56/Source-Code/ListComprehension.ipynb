{
 "cells": [
  {
   "cell_type": "markdown",
   "metadata": {},
   "source": [
    "**Python List Comprehension**\n",
    "- Python list comprehension means, creating a new list from given list. \n",
    "- On the basis of condition, we can create a new list from created (given) list. \n",
    "- We can filter a old list to get required elements/items to store in a new list. \n",
    "- It is fastest way and one line code to create new list from given list on the basis of some condition. "
   ]
  },
  {
   "cell_type": "markdown",
   "metadata": {},
   "source": [
    "**Syntax:** newSeq=[expression for item/element in sequence]"
   ]
  },
  {
   "cell_type": "markdown",
   "metadata": {},
   "source": [
    "**Without Comprehension**"
   ]
  },
  {
   "cell_type": "code",
   "execution_count": 4,
   "metadata": {},
   "outputs": [
    {
     "name": "stdout",
     "output_type": "stream",
     "text": [
      "['yellow', 'green', 'white', 'green', 'blue']\n"
     ]
    }
   ],
   "source": [
    "colors=[\"pink\", \"yellow\", \"green\", \"gold\", \"white\", \"gray\", \"green\", \"brown\", \"blue\"]\n",
    "newColor=[]\n",
    "for i in colors: \n",
    "    if 'e' in i:\n",
    "        newColor.append(i)\n",
    "print(newColor)"
   ]
  },
  {
   "cell_type": "markdown",
   "metadata": {},
   "source": [
    "**With Comprehension**"
   ]
  },
  {
   "cell_type": "code",
   "execution_count": 3,
   "metadata": {},
   "outputs": [
    {
     "name": "stdout",
     "output_type": "stream",
     "text": [
      "['yellow', 'green', 'white', 'green', 'blue']\n"
     ]
    }
   ],
   "source": [
    "colors=[\"pink\", \"yellow\", \"green\", \"gold\", \"white\", \"gray\", \"green\", \"brown\", \"blue\"]\n",
    "newColors=[i for i in colors if 'e' in i]\n",
    "print(newColors)"
   ]
  }
 ],
 "metadata": {
  "kernelspec": {
   "display_name": "base",
   "language": "python",
   "name": "python3"
  },
  "language_info": {
   "codemirror_mode": {
    "name": "ipython",
    "version": 3
   },
   "file_extension": ".py",
   "mimetype": "text/x-python",
   "name": "python",
   "nbconvert_exporter": "python",
   "pygments_lexer": "ipython3",
   "version": "3.12.4"
  }
 },
 "nbformat": 4,
 "nbformat_minor": 2
}
