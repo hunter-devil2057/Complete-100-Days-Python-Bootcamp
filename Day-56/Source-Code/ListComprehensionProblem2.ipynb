{
 "cells": [
  {
   "cell_type": "markdown",
   "metadata": {},
   "source": [
    "Write a Python program to get only student name with starting character 'a' from a complete list of students, using List Comprehension."
   ]
  },
  {
   "cell_type": "code",
   "execution_count": 12,
   "metadata": {},
   "outputs": [
    {
     "name": "stdout",
     "output_type": "stream",
     "text": [
      "['aakash']\n"
     ]
    }
   ],
   "source": [
    "stdName=[\"aakash\", \"manish\", \"hari\", \"rakesh\", \"bhawana\", \"prekshya\", \"sandhya\", \"sarika\", \"radha\"]\n",
    "newStdName=[i for i in stdName if i.startswith('a')]\n",
    "print(newStdName)"
   ]
  }
 ],
 "metadata": {
  "kernelspec": {
   "display_name": "base",
   "language": "python",
   "name": "python3"
  },
  "language_info": {
   "codemirror_mode": {
    "name": "ipython",
    "version": 3
   },
   "file_extension": ".py",
   "mimetype": "text/x-python",
   "name": "python",
   "nbconvert_exporter": "python",
   "pygments_lexer": "ipython3",
   "version": "3.12.4"
  }
 },
 "nbformat": 4,
 "nbformat_minor": 2
}
