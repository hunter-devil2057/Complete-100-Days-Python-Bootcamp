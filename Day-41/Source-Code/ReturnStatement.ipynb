{
 "cells": [
  {
   "cell_type": "markdown",
   "metadata": {},
   "source": [
    "**Python Return Statement**\n",
    "- **Return** statement is used to send value to function calling point. \n",
    "- The **return** statement is used to exit a function and return a value to the caller. \n",
    "- It can optionally return a value or multiple values, allowing functions to produce output that can be used elsewhere in the code. \n",
    "- After **return** statement, statement or set of statement cannot be executed. "
   ]
  },
  {
   "cell_type": "markdown",
   "metadata": {},
   "source": [
    "**Example:**"
   ]
  },
  {
   "cell_type": "code",
   "execution_count": 1,
   "metadata": {},
   "outputs": [
    {
     "name": "stdout",
     "output_type": "stream",
     "text": [
      "44\n"
     ]
    }
   ],
   "source": [
    "def Show():\n",
    "    a=32; b=12\n",
    "    return (a+b)\n",
    "    # print(\"Cannot Execute...\")  #gives error \n",
    "print(Show())"
   ]
  },
  {
   "cell_type": "code",
   "execution_count": 2,
   "metadata": {},
   "outputs": [
    {
     "name": "stdout",
     "output_type": "stream",
     "text": [
      "Hi!, Manish\n"
     ]
    }
   ],
   "source": [
    "def ShowName():\n",
    "    name=input(\"Enter your name: \")\n",
    "    return name\n",
    "userName=ShowName()\n",
    "print(f\"Hi!, {userName}\")"
   ]
  }
 ],
 "metadata": {
  "kernelspec": {
   "display_name": "base",
   "language": "python",
   "name": "python3"
  },
  "language_info": {
   "codemirror_mode": {
    "name": "ipython",
    "version": 3
   },
   "file_extension": ".py",
   "mimetype": "text/x-python",
   "name": "python",
   "nbconvert_exporter": "python",
   "pygments_lexer": "ipython3",
   "version": "3.12.4"
  }
 },
 "nbformat": 4,
 "nbformat_minor": 2
}
