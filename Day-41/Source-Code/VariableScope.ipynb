{
 "cells": [
  {
   "cell_type": "markdown",
   "metadata": {},
   "source": [
    "**Python Variable Scope**\n",
    "- Variable scope refers to the accessibility and visibility of variables within a program. \n",
    "- In Python, variables can have either **local scope** (accessible only within a specific function) or **global scope** (accessible throughout the entire program).\n",
    "- Two types of Variable Scope in Python. \n",
    "    - Local Scope \n",
    "    - Global Scope"
   ]
  },
  {
   "cell_type": "markdown",
   "metadata": {},
   "source": [
    "**Local Scope**\n",
    "- When we declare and initialize a variable in side of any specific block of code as in Side Loop Body, Function Body, Class Body, etc. \n",
    "- That scope of variable says that it is Local Scope. \n",
    "- We cannot access variable having Local Scope, outside the specific block of code, in which it is declared. "
   ]
  },
  {
   "cell_type": "markdown",
   "metadata": {},
   "source": [
    "**Example:**"
   ]
  },
  {
   "cell_type": "code",
   "execution_count": 4,
   "metadata": {},
   "outputs": [],
   "source": [
    "a=30\n",
    "if a>30:\n",
    "    b=a \n",
    "    #b is the local variable having local scope, we cannot access b outside of if body\n",
    "def Function():\n",
    "    a=10    #a is the local variable having local scope, we cannot access 'a' outside of function\n",
    "    b=20    #a is the local variable having local scope, we cannot access 'b' outside of function\n",
    "    c=a+b   #a is the local variable having local scope, we cannot access 'c' outside of function\n",
    "    # print(c)\n",
    "# print(c)  #you'll get an error \n",
    "Function()"
   ]
  },
  {
   "cell_type": "markdown",
   "metadata": {},
   "source": [
    "**Global Scope**\n",
    "- When we declare and initialize a variable outside of any specific block of code. \n",
    "- That scope of variable say that it is Global Scope. \n",
    "- We can access variable having Global Scope, outside and inside or anywhere in the program. "
   ]
  },
  {
   "cell_type": "code",
   "execution_count": 9,
   "metadata": {},
   "outputs": [
    {
     "name": "stdout",
     "output_type": "stream",
     "text": [
      "How are you\n",
      "10 Manish Shiwakoti\n"
     ]
    }
   ],
   "source": [
    "name=\"Manish Shiwakoti\" #global variable\n",
    "def Test():\n",
    "    print(\"How are you\")\n",
    "    x=10        #Local Variable\n",
    "    print(x, name)\n",
    "Test()\n",
    "# print(x, name)      throws an error saying x is not defined \n",
    "# x is an scope variable"
   ]
  }
 ],
 "metadata": {
  "kernelspec": {
   "display_name": "base",
   "language": "python",
   "name": "python3"
  },
  "language_info": {
   "codemirror_mode": {
    "name": "ipython",
    "version": 3
   },
   "file_extension": ".py",
   "mimetype": "text/x-python",
   "name": "python",
   "nbconvert_exporter": "python",
   "pygments_lexer": "ipython3",
   "version": "3.12.4"
  }
 },
 "nbformat": 4,
 "nbformat_minor": 2
}
