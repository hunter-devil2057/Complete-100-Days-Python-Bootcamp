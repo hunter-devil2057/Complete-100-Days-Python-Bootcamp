{
 "cells": [
  {
   "cell_type": "markdown",
   "metadata": {},
   "source": [
    "**Python Pass Keyword**\n",
    "- Interpreter cannot ignore **pass** statement\n",
    "- Does not Display Anything\n",
    "- **Pass** statement is the null statement which does not operate any operations, when executed. \n",
    "- It is often used as a placeholder when a statement is syntactically required but no action needs to be taken. \n",
    "- We used **pass** statement to avoid any error. \n",
    "- We used **pass** statement to write code in future. \n",
    "- We make just structure of function using **pass** keyword that will be created in the future. "
   ]
  },
  {
   "cell_type": "markdown",
   "metadata": {},
   "source": [
    "**Example:**"
   ]
  },
  {
   "cell_type": "code",
   "execution_count": 1,
   "metadata": {},
   "outputs": [],
   "source": [
    "def Show():\n",
    "    # print(\"How are you?\")\n",
    "    pass\n",
    "Show()\n",
    "\n",
    "for i in range(1, 10):\n",
    "    pass"
   ]
  }
 ],
 "metadata": {
  "kernelspec": {
   "display_name": "base",
   "language": "python",
   "name": "python3"
  },
  "language_info": {
   "codemirror_mode": {
    "name": "ipython",
    "version": 3
   },
   "file_extension": ".py",
   "mimetype": "text/x-python",
   "name": "python",
   "nbconvert_exporter": "python",
   "pygments_lexer": "ipython3",
   "version": "3.12.4"
  }
 },
 "nbformat": 4,
 "nbformat_minor": 2
}
