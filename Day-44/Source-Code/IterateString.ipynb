{
 "cells": [
  {
   "cell_type": "markdown",
   "metadata": {},
   "source": [
    "**Iterate String Using For Loop**\n",
    "-  We can iterate string items using for loop to ***access any specific items*** or ***to check any specific item in a string at specific location (index number)***.\n",
    "- Iterate means, we can get items of sequence data type one by one. "
   ]
  },
  {
   "cell_type": "markdown",
   "metadata": {},
   "source": [
    "**Example:**"
   ]
  },
  {
   "cell_type": "code",
   "execution_count": 1,
   "metadata": {},
   "outputs": [
    {
     "name": "stdout",
     "output_type": "stream",
     "text": [
      "H\n",
      "u\n",
      "n\n",
      "t\n",
      "e\n",
      "r\n",
      " \n",
      "D\n",
      "e\n",
      "v\n",
      "i\n",
      "l\n"
     ]
    }
   ],
   "source": [
    "str=\"Hunter Devil\"\n",
    "for i in str:\n",
    "    print(i)"
   ]
  },
  {
   "cell_type": "code",
   "execution_count": 2,
   "metadata": {},
   "outputs": [
    {
     "name": "stdout",
     "output_type": "stream",
     "text": [
      "It did not contain 1\n",
      "1\n",
      "It did not contain 1\n",
      "2\n",
      "It did not contain 1\n",
      "k\n",
      "It did not contain 1\n",
      "l\n",
      "It did not contain 1\n",
      "d\n",
      "It did not contain 1\n",
      "s\n",
      "It did not contain 1\n",
      "a\n",
      "It did not contain 1\n",
      "8\n",
      "It did not contain 1\n",
      "3\n",
      "It did not contain 1\n",
      "4\n",
      "It did not contain 1\n",
      "9\n",
      "It did not contain 1\n",
      "l\n",
      "It did not contain 1\n",
      "d\n",
      "It did not contain 1\n",
      "s\n",
      "It did not contain 1\n",
      "l\n",
      "It did not contain 1\n",
      "a\n"
     ]
    }
   ],
   "source": [
    "str='12kldsa8349ldsla'\n",
    "for i in str: \n",
    "    if i==1: \n",
    "        print(\"It contains 1\")\n",
    "    else:\n",
    "        print(\"It did not contain 1\")\n",
    "    print(i)"
   ]
  }
 ],
 "metadata": {
  "kernelspec": {
   "display_name": "base",
   "language": "python",
   "name": "python3"
  },
  "language_info": {
   "codemirror_mode": {
    "name": "ipython",
    "version": 3
   },
   "file_extension": ".py",
   "mimetype": "text/x-python",
   "name": "python",
   "nbconvert_exporter": "python",
   "pygments_lexer": "ipython3",
   "version": "3.12.4"
  }
 },
 "nbformat": 4,
 "nbformat_minor": 2
}
