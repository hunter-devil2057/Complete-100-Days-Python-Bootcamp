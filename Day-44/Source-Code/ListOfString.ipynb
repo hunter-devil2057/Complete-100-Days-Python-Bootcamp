{
 "cells": [
  {
   "cell_type": "markdown",
   "metadata": {},
   "source": [
    "**List of String Methods in Python**\n",
    "- capitalize()\t\n",
    "- casefold()\t\n",
    "- center()\t\n",
    "- count()\t\n",
    "- encode()\t\n",
    "- endswith()\t\n",
    "- expandtabs()\t\n",
    "- find()\t\n",
    "- format()\t\n",
    "- format_map()\t\n",
    "- index()\n",
    "- isalnum()\t\n",
    "- isalpha()\t\n",
    "- isascii()\t\n",
    "- isdecimal()\t\n",
    "- isdigit()\t\n",
    "- isidentifier()\t\n",
    "- islower()\t\n",
    "- isnumeric()\n",
    "- isprintable()\t\n",
    "- isspace()\t\n",
    "- istitle()\t\n",
    "- isupper()\t\n",
    "- join()\t\n",
    "- ljust()\t\n",
    "- lower()\t\n",
    "- lstrip()\t\n",
    "- maketrans()\t\n",
    "- partition()\t\n",
    "- replace()\n",
    "- rfind()\t\n",
    "- rindex()\t\n",
    "- rjust()\t\n",
    "- rpartition()\t\n",
    "- rsplit()\t\n",
    "- rstrip()\t\n",
    "- split()\t\n",
    "- splitlines()\t\n",
    "- startswith()\t\n",
    "- strip()\t\n",
    "- swapcase()\t\n",
    "- title()\t\n",
    "- translate()\t\n",
    "- upper()\t\n",
    "- zfill()\t"
   ]
  }
 ],
 "metadata": {
  "language_info": {
   "name": "python"
  }
 },
 "nbformat": 4,
 "nbformat_minor": 2
}
