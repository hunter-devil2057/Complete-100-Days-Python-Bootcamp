{
 "cells": [
  {
   "cell_type": "markdown",
   "metadata": {},
   "source": [
    "**String Data Type in Python**\n",
    "- String is the collection of alpha numeric data, special character, etc. in single or double quotation. \n",
    "- There are many built in method to perform operations on string. \n",
    "- like to convert any string to uppercase, lowercase, to check is digit? is number?, length of string, searching in string, etc. \n",
    "- String is the immutable data type, that cannot be update or modify after creation. "
   ]
  },
  {
   "cell_type": "markdown",
   "metadata": {},
   "source": [
    "**How to Create String?**\n",
    "- Examples: \n",
    "    - str1=\"Manish Shiwakoti\"\n",
    "    - str2=\"238843\"     #numeric string\n",
    "    - str3=\"Manish1123\"  #alpha numeric string \n",
    "    - str4=\"True\"   #Boolean String"
   ]
  },
  {
   "cell_type": "code",
   "execution_count": 1,
   "metadata": {},
   "outputs": [
    {
     "name": "stdout",
     "output_type": "stream",
     "text": [
      "Manish21231ljkdsljasdf\n",
      "<class 'str'>\n",
      "39048092380591893048019\n",
      "<class 'str'>\n"
     ]
    }
   ],
   "source": [
    "str1=\"Manish21231ljkdsljasdf\"\n",
    "print(str1)\n",
    "print(type(str1))\n",
    "str2=\"39048092380591893048019\"\n",
    "print(str2)\n",
    "print(type(str2))"
   ]
  }
 ],
 "metadata": {
  "kernelspec": {
   "display_name": "base",
   "language": "python",
   "name": "python3"
  },
  "language_info": {
   "codemirror_mode": {
    "name": "ipython",
    "version": 3
   },
   "file_extension": ".py",
   "mimetype": "text/x-python",
   "name": "python",
   "nbconvert_exporter": "python",
   "pygments_lexer": "ipython3",
   "version": "3.12.4"
  }
 },
 "nbformat": 4,
 "nbformat_minor": 2
}
