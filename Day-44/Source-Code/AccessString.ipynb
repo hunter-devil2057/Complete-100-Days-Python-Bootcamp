{
 "cells": [
  {
   "cell_type": "markdown",
   "metadata": {},
   "source": [
    "**Accessing String (Element)**\n",
    "- We can access string element using different ways: \n",
    "    - Example: \n",
    "        - str=\"Manish Shiwakoti\"\n",
    "    1. Using Variable Method:\n",
    "        - Eg: print(str)\n",
    "    2. Using Array Method:\n",
    "        - Eg: print(str[index number])\n",
    "    3. Using Slice Method:\n",
    "        - Eg: print(str[startingIndex, endingPoint])\n",
    "    4. Using for loop method:\n",
    "        - Eg: \n",
    "                - str=\"Manish Shiwakoti\"\n",
    "                - for i in str: \n",
    "                    - print (i)"
   ]
  },
  {
   "cell_type": "code",
   "execution_count": 5,
   "metadata": {},
   "outputs": [
    {
     "name": "stdout",
     "output_type": "stream",
     "text": [
      "Manish Shiwakoti\n",
      "Manish Shiwakoti\n",
      "t\n",
      "is\n",
      "M\n",
      "Manish Shiwakoti contains 'a' character\n",
      "a\n",
      "n\n",
      "i\n",
      "s\n",
      "h\n",
      " \n",
      "S\n",
      "h\n",
      "i\n",
      "w\n",
      "Manish Shiwakoti contains 'a' character\n",
      "a\n",
      "k\n",
      "o\n",
      "t\n",
      "i\n"
     ]
    }
   ],
   "source": [
    "str1=\"Manish Shiwakoti\"\n",
    "print(str1)\n",
    "print(str1[0:])\n",
    "print(str1[-2])\n",
    "print(str1[3:5])\n",
    "\n",
    "for i in str1: \n",
    "    if i=='a':\n",
    "        print(f\"{str1} contains 'a' character\")\n",
    "    print(i)"
   ]
  }
 ],
 "metadata": {
  "kernelspec": {
   "display_name": "base",
   "language": "python",
   "name": "python3"
  },
  "language_info": {
   "codemirror_mode": {
    "name": "ipython",
    "version": 3
   },
   "file_extension": ".py",
   "mimetype": "text/x-python",
   "name": "python",
   "nbconvert_exporter": "python",
   "pygments_lexer": "ipython3",
   "version": "3.12.4"
  }
 },
 "nbformat": 4,
 "nbformat_minor": 2
}
