{
 "cells": [
  {
   "cell_type": "markdown",
   "metadata": {},
   "source": [
    "1. Prompt the user to enter a sentence. \n",
    "2. Count the numebr of voewls (a, e, i, o, u) in the entered sentence. \n",
    "3. Print the count of vowels. "
   ]
  },
  {
   "cell_type": "code",
   "execution_count": 4,
   "metadata": {},
   "outputs": [
    {
     "name": "stdout",
     "output_type": "stream",
     "text": [
      "Total Vowels are:  7\n"
     ]
    }
   ],
   "source": [
    "# Taking Input from the User\n",
    "Sentence=input(\"Enter a Sentence: \").lower()\n",
    "vowelCount=0\n",
    "\n",
    "for character in Sentence: \n",
    "    if character in \"aeiou\":\n",
    "        vowelCount+=1\n",
    "# Checking if any vowel is available \n",
    "if vowelCount==0:\n",
    "    print(\"No Vowels Found.\")\n",
    "else:\n",
    "    print(\"Total Vowels are: \", vowelCount)"
   ]
  }
 ],
 "metadata": {
  "kernelspec": {
   "display_name": "base",
   "language": "python",
   "name": "python3"
  },
  "language_info": {
   "codemirror_mode": {
    "name": "ipython",
    "version": 3
   },
   "file_extension": ".py",
   "mimetype": "text/x-python",
   "name": "python",
   "nbconvert_exporter": "python",
   "pygments_lexer": "ipython3",
   "version": "3.12.4"
  }
 },
 "nbformat": 4,
 "nbformat_minor": 2
}
