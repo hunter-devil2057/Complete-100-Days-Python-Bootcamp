{
 "cells": [
  {
   "cell_type": "markdown",
   "metadata": {},
   "source": [
    "1. Prompt the user to enter two numbers separated by a space. \n",
    "2. Calculate and print the sum, difference, product and quotient of the two numbers. "
   ]
  },
  {
   "cell_type": "code",
   "execution_count": 7,
   "metadata": {},
   "outputs": [
    {
     "name": "stdout",
     "output_type": "stream",
     "text": [
      "81 + 9 = 90\n",
      "81 - 9 = 72\n",
      "81 * 9 = 729\n",
      "81 / 9 = 9.0\n"
     ]
    }
   ],
   "source": [
    "inputNum=input(\"Enter two numbers separated by a space: \")\n",
    "\n",
    "# Splitting the number into two parts\n",
    "num1, num2=inputNum.split()\n",
    "\n",
    "# Converting the splitting input into integers. \n",
    "num1=int(num1)\n",
    "num2=int(num2)\n",
    "\n",
    "add=num1+num2\n",
    "print(f\"{num1} + {num2} = {add}\")\n",
    "\n",
    "# Subtraction\n",
    "difference=num1-num2\n",
    "print(f\"{num1} - {num2} = {difference}\")\n",
    "\n",
    "# Product\n",
    "product=num1*num2\n",
    "print(f\"{num1} * {num2} = {product}\")\n",
    "\n",
    "# Quotient\n",
    "quotient=num1/num2\n",
    "print(f\"{num1} / {num2} = {quotient}\")\n"
   ]
  }
 ],
 "metadata": {
  "kernelspec": {
   "display_name": "base",
   "language": "python",
   "name": "python3"
  },
  "language_info": {
   "codemirror_mode": {
    "name": "ipython",
    "version": 3
   },
   "file_extension": ".py",
   "mimetype": "text/x-python",
   "name": "python",
   "nbconvert_exporter": "python",
   "pygments_lexer": "ipython3",
   "version": "3.12.4"
  }
 },
 "nbformat": 4,
 "nbformat_minor": 2
}
