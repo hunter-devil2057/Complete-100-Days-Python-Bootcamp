{
 "cells": [
  {
   "cell_type": "markdown",
   "metadata": {},
   "source": [
    "Write a Python program to get color name and it's code, and display all the color name in uppercase with their code. "
   ]
  },
  {
   "cell_type": "code",
   "execution_count": 5,
   "metadata": {},
   "outputs": [
    {
     "name": "stdout",
     "output_type": "stream",
     "text": [
      "{'Red': 1, 'White': 2, 'Black': 3, 'Yellow': 4, 'Pink': 5}\n",
      "{'RED': 1, 'WHITE': 2, 'BLACK': 3, 'YELLOW': 4, 'PINK': 5}\n"
     ]
    }
   ],
   "source": [
    "color={}\n",
    "for i in range(5):\n",
    "    name=input(\"Enter Name of Country: \")\n",
    "    code=int(input(\"Enter Color Code: \"))\n",
    "    color[name]=code\n",
    "print(color)\n",
    "\n",
    "newColors={k.upper():v for (k, v) in color.items()}\n",
    "print(newColors)\n",
    "\n",
    "for k, v, in newColors.items():\n",
    "    print(f\"{k} : {v}\")"
   ]
  }
 ],
 "metadata": {
  "kernelspec": {
   "display_name": "base",
   "language": "python",
   "name": "python3"
  },
  "language_info": {
   "codemirror_mode": {
    "name": "ipython",
    "version": 3
   },
   "file_extension": ".py",
   "mimetype": "text/x-python",
   "name": "python",
   "nbconvert_exporter": "python",
   "pygments_lexer": "ipython3",
   "version": "3.12.4"
  }
 },
 "nbformat": 4,
 "nbformat_minor": 2
}
