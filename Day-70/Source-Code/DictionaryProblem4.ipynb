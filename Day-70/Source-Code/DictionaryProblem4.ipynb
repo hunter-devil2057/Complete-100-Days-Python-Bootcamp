{
 "cells": [
  {
   "cell_type": "markdown",
   "metadata": {},
   "source": [
    "Write a Python program to display min and max value from a dictionary value. "
   ]
  },
  {
   "cell_type": "code",
   "execution_count": 3,
   "metadata": {},
   "outputs": [
    {
     "name": "stdout",
     "output_type": "stream",
     "text": [
      "943094\n",
      "794\n",
      "434\n",
      "71992\n",
      "7943\n",
      "18943\n"
     ]
    }
   ],
   "source": [
    "num={1: 943094, 2: 794, 32: 434, 0: 71992, 12: 7943, 8: 18943}\n",
    "for v in num.values():\n",
    "    print(v)"
   ]
  },
  {
   "cell_type": "code",
   "execution_count": 4,
   "metadata": {},
   "outputs": [
    {
     "name": "stdout",
     "output_type": "stream",
     "text": [
      "943094\n"
     ]
    }
   ],
   "source": [
    "num={1: 943094, 2: 794, 32: 434, 0: 71992, 12: 7943, 8: 18943}\n",
    "maxValue=max(num.values())\n",
    "print(maxValue)"
   ]
  },
  {
   "cell_type": "code",
   "execution_count": 5,
   "metadata": {},
   "outputs": [
    {
     "name": "stdout",
     "output_type": "stream",
     "text": [
      "943094\n"
     ]
    }
   ],
   "source": [
    "num={1: 943094, 2: 794, 32: 434, 0: 71992, 12: 7943, 8: 18943}\n",
    "maxValue=max(num.values())\n",
    "print(maxValue)"
   ]
  }
 ],
 "metadata": {
  "kernelspec": {
   "display_name": "base",
   "language": "python",
   "name": "python3"
  },
  "language_info": {
   "codemirror_mode": {
    "name": "ipython",
    "version": 3
   },
   "file_extension": ".py",
   "mimetype": "text/x-python",
   "name": "python",
   "nbconvert_exporter": "python",
   "pygments_lexer": "ipython3",
   "version": "3.12.4"
  }
 },
 "nbformat": 4,
 "nbformat_minor": 2
}
