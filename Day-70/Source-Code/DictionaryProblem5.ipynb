{
 "cells": [
  {
   "cell_type": "markdown",
   "metadata": {},
   "source": [
    "Write a Python program to check specific key, whether that Key exists in dictionary or not. "
   ]
  },
  {
   "cell_type": "code",
   "execution_count": 1,
   "metadata": {},
   "outputs": [
    {
     "name": "stdout",
     "output_type": "stream",
     "text": [
      "1 not available🥺\n",
      "2 not available🥺\n",
      "4 not available🥺\n",
      "8 not available🥺\n",
      "19 not available🥺\n"
     ]
    }
   ],
   "source": [
    "dict={1: \"pink\", 2: \"gray\", 4: \"black\", 8: \"Manish\", 19: \"HunterDevil\"}\n",
    "userKey=int(input(\"Enter a key to check: \"))\n",
    "for k in dict.keys():\n",
    "    if userKey==k:\n",
    "        print(f\"{k} Key existed....\")\n",
    "    else:\n",
    "        print(f\"{k} not available🥺\")"
   ]
  }
 ],
 "metadata": {
  "kernelspec": {
   "display_name": "base",
   "language": "python",
   "name": "python3"
  },
  "language_info": {
   "codemirror_mode": {
    "name": "ipython",
    "version": 3
   },
   "file_extension": ".py",
   "mimetype": "text/x-python",
   "name": "python",
   "nbconvert_exporter": "python",
   "pygments_lexer": "ipython3",
   "version": "3.12.4"
  }
 },
 "nbformat": 4,
 "nbformat_minor": 2
}
