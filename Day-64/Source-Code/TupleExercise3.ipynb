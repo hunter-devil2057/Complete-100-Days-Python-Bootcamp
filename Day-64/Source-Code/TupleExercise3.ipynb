{
 "cells": [
  {
   "cell_type": "markdown",
   "metadata": {},
   "source": [
    "Write a Python program to create a Tuple and User able to find occurrence of a specific item in Tuple. "
   ]
  },
  {
   "cell_type": "code",
   "execution_count": 3,
   "metadata": {},
   "outputs": [
    {
     "name": "stdout",
     "output_type": "stream",
     "text": [
      "(1, 2, 3, 4, 5, 6, 6)\n",
      "Occurrence of 6: 2 times\n"
     ]
    }
   ],
   "source": [
    "tple=(1, 2, 3, 4, 5, 6, 6)\n",
    "print(tple)\n",
    "item=int(input(\"Enter a Element: \"))\n",
    "result=tple.count(item)\n",
    "print(f\"Occurrence of {item}: {result} times\")"
   ]
  }
 ],
 "metadata": {
  "kernelspec": {
   "display_name": "base",
   "language": "python",
   "name": "python3"
  },
  "language_info": {
   "codemirror_mode": {
    "name": "ipython",
    "version": 3
   },
   "file_extension": ".py",
   "mimetype": "text/x-python",
   "name": "python",
   "nbconvert_exporter": "python",
   "pygments_lexer": "ipython3",
   "version": "3.12.4"
  }
 },
 "nbformat": 4,
 "nbformat_minor": 2
}
