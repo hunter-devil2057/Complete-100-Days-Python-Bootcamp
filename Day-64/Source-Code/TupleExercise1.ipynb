{
 "cells": [
  {
   "cell_type": "markdown",
   "metadata": {},
   "source": [
    "Write a Python program to create a tuple with 10 numbers, add and find multiplication of all numbers and display the result. "
   ]
  },
  {
   "cell_type": "code",
   "execution_count": 3,
   "metadata": {},
   "outputs": [
    {
     "name": "stdout",
     "output_type": "stream",
     "text": [
      "325\n",
      "372432453120\n"
     ]
    }
   ],
   "source": [
    "tuple=(90, 12, 43, 54, 2, 4, 1, 7, 78, 34)\n",
    "add=0\n",
    "for i in tuple: \n",
    "    add+=i\n",
    "print(add)\n",
    "\n",
    "multiple=1\n",
    "for i in tuple: \n",
    "    multiple*=i\n",
    "print(multiple)"
   ]
  }
 ],
 "metadata": {
  "kernelspec": {
   "display_name": "base",
   "language": "python",
   "name": "python3"
  },
  "language_info": {
   "codemirror_mode": {
    "name": "ipython",
    "version": 3
   },
   "file_extension": ".py",
   "mimetype": "text/x-python",
   "name": "python",
   "nbconvert_exporter": "python",
   "pygments_lexer": "ipython3",
   "version": "3.12.4"
  }
 },
 "nbformat": 4,
 "nbformat_minor": 2
}
