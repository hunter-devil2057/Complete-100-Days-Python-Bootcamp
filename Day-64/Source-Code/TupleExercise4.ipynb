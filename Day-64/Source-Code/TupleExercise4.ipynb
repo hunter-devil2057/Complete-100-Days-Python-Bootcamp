{
 "cells": [
  {
   "cell_type": "markdown",
   "metadata": {},
   "source": [
    "Write a Python program to create a Tuple with 10 Numbers and display only those Numbers which is divisible by 2 and 3. "
   ]
  },
  {
   "cell_type": "code",
   "execution_count": 7,
   "metadata": {},
   "outputs": [
    {
     "name": "stdout",
     "output_type": "stream",
     "text": [
      "Available Tuple: \n",
      " (9, 6, 5, 28, 12, 65, 18, 3, 65, 12)\n",
      "Numbers Divisible by 2:  (6, 28, 12, 18, 12)\n",
      "Numbers Divisible by 3:  (9, 6, 12, 18, 3, 12)\n"
     ]
    }
   ],
   "source": [
    "num=(9, 6, 5, 28, 12, 65, 18, 3, 65, 12)\n",
    "print(\"Available Tuple: \\n\", num)\n",
    "div2=[]\n",
    "div3=[]\n",
    "for i in num: \n",
    "    if i%2==0:\n",
    "        div2.append(i)\n",
    "    if i%3==0:\n",
    "        div3.append(i)\n",
    "tup1=tuple(div2)\n",
    "tup2=tuple(div3)\n",
    "print(\"Numbers Divisible by 2: \", tup1)\n",
    "print(\"Numbers Divisible by 3: \", tup2)"
   ]
  },
  {
   "cell_type": "code",
   "execution_count": 8,
   "metadata": {},
   "outputs": [
    {
     "name": "stdout",
     "output_type": "stream",
     "text": [
      "Available Tuple: \n",
      " (9, 6, 5, 23, 12, 65, 18, 3, 65, 12)\n",
      "Numbers Divisible by 2 and 3:  (6, 12, 18, 12)\n"
     ]
    }
   ],
   "source": [
    "num=(9, 6, 5, 23, 12, 65, 18, 3, 65, 12)\n",
    "print(\"Available Tuple: \\n\", num)\n",
    "div=[]\n",
    "for i in num: \n",
    "    if i%2==0 and i%3==0:\n",
    "        div.append(i)\n",
    "tup=tuple(div)\n",
    "print(\"Numbers Divisible by 2 and 3: \", tup)"
   ]
  }
 ],
 "metadata": {
  "kernelspec": {
   "display_name": "base",
   "language": "python",
   "name": "python3"
  },
  "language_info": {
   "codemirror_mode": {
    "name": "ipython",
    "version": 3
   },
   "file_extension": ".py",
   "mimetype": "text/x-python",
   "name": "python",
   "nbconvert_exporter": "python",
   "pygments_lexer": "ipython3",
   "version": "3.12.4"
  }
 },
 "nbformat": 4,
 "nbformat_minor": 2
}
