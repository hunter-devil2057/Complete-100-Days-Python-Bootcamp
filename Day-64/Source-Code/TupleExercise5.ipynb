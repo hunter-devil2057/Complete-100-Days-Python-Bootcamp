{
 "cells": [
  {
   "cell_type": "markdown",
   "metadata": {},
   "source": [
    "Write a Python program to create a Tuple with 10 items User will be able to find position of any element in tuple. "
   ]
  },
  {
   "cell_type": "code",
   "execution_count": 6,
   "metadata": {},
   "outputs": [
    {
     "name": "stdout",
     "output_type": "stream",
     "text": [
      "('pink', 'red', 'yellow', 'green', 'gray', 'blue', 'white')\n",
      "red is available in Index: 2\n"
     ]
    }
   ],
   "source": [
    "color=(\"pink\", \"red\", \"yellow\", \"green\", \"gray\", \"blue\", \"white\")\n",
    "print(color)\n",
    "userInput=input(\"Enter the element: \").lower()\n",
    "ind=color.index(userInput)\n",
    "print(f\"{userInput} is available in Index: {ind+1}\")"
   ]
  }
 ],
 "metadata": {
  "kernelspec": {
   "display_name": "base",
   "language": "python",
   "name": "python3"
  },
  "language_info": {
   "codemirror_mode": {
    "name": "ipython",
    "version": 3
   },
   "file_extension": ".py",
   "mimetype": "text/x-python",
   "name": "python",
   "nbconvert_exporter": "python",
   "pygments_lexer": "ipython3",
   "version": "3.12.4"
  }
 },
 "nbformat": 4,
 "nbformat_minor": 2
}
