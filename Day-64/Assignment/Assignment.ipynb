{
 "cells": [
  {
   "cell_type": "markdown",
   "metadata": {},
   "source": [
    "1. Create a tuple named **fruits** containing the following fruits: \"Apple\", \"Orange\", \"Banana\", \"Mango\", \"Pineapple\".\n",
    "2. Print the **fruits** tuple.\n",
    "3. Prompt the user to enter the name of a fruit.\n",
    "4. Check if the entered fruit is present in the **fruits** tuple.\n",
    "5. Print whether the fruit is present or not."
   ]
  },
  {
   "cell_type": "code",
   "execution_count": 4,
   "metadata": {},
   "outputs": [
    {
     "name": "stdout",
     "output_type": "stream",
     "text": [
      "('Apple', 'Orange', 'Banana', 'Mango', 'Pineapple')\n",
      "Apple is present in Index: 1\n"
     ]
    }
   ],
   "source": [
    "fruits=(\"Apple\", \"Orange\", \"Banana\", \"Mango\", \"Pineapple\")\n",
    "print(fruits)\n",
    "userInput=input(\"Enter Fruit Name: \").capitalize()\n",
    "if userInput in fruits: \n",
    "    ind=fruits.index(userInput)\n",
    "    print(f\"{userInput} is present in Index: {ind+1}\")\n",
    "else: \n",
    "    print(f\"{userInput} is not found.\")"
   ]
  }
 ],
 "metadata": {
  "kernelspec": {
   "display_name": "base",
   "language": "python",
   "name": "python3"
  },
  "language_info": {
   "codemirror_mode": {
    "name": "ipython",
    "version": 3
   },
   "file_extension": ".py",
   "mimetype": "text/x-python",
   "name": "python",
   "nbconvert_exporter": "python",
   "pygments_lexer": "ipython3",
   "version": "3.12.4"
  }
 },
 "nbformat": 4,
 "nbformat_minor": 2
}
