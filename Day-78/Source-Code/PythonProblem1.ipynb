{
 "cells": [
  {
   "cell_type": "markdown",
   "metadata": {},
   "source": [
    "Write a Python program to count total number of character with and without space from a sentence. (Given from User)"
   ]
  },
  {
   "cell_type": "code",
   "execution_count": 2,
   "metadata": {},
   "outputs": [
    {
     "name": "stdout",
     "output_type": "stream",
     "text": [
      "Total Number of Character in Sentence:  22\n",
      "Total No. of Char in Sentence without space:  18\n"
     ]
    }
   ],
   "source": [
    "sentence=input(\"Enter a Sentence: \")\n",
    "totalCharWithSpace=len(sentence)\n",
    "print(\"Total Number of Character in Sentence: \", totalCharWithSpace)\n",
    "totalCharWithoutSpace=sum(not i.isspace() for i in sentence)\n",
    "print(\"Total No. of Char in Sentence without space: \", totalCharWithoutSpace)"
   ]
  }
 ],
 "metadata": {
  "kernelspec": {
   "display_name": "base",
   "language": "python",
   "name": "python3"
  },
  "language_info": {
   "codemirror_mode": {
    "name": "ipython",
    "version": 3
   },
   "file_extension": ".py",
   "mimetype": "text/x-python",
   "name": "python",
   "nbconvert_exporter": "python",
   "pygments_lexer": "ipython3",
   "version": "3.12.4"
  }
 },
 "nbformat": 4,
 "nbformat_minor": 2
}
