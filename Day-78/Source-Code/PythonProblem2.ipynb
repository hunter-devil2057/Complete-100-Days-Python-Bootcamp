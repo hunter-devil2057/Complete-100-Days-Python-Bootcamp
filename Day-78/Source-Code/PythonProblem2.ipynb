{
 "cells": [
  {
   "cell_type": "markdown",
   "metadata": {},
   "source": [
    "Write a Python program to display \"Even\" and \"Odd\" in a List when it finds even numebr and odd number respectively. "
   ]
  },
  {
   "cell_type": "code",
   "execution_count": 2,
   "metadata": {},
   "outputs": [
    {
     "name": "stdout",
     "output_type": "stream",
     "text": [
      "1 is Odd\n",
      "3 is Odd\n",
      "5 is Odd\n",
      "12 is Even\n",
      "54 is Even\n",
      "13 is Odd\n",
      "76 is Even\n",
      "11 is Odd\n",
      "9 is Odd\n",
      "4 is Even\n",
      "124 is Even\n",
      "653 is Odd\n",
      "15 is Odd\n"
     ]
    }
   ],
   "source": [
    "numList=[1, 3, 5, 12, 54, 13, 76, 11, 9, 4, 124, 653, 15]\n",
    "for i in numList:\n",
    "    if i%2==0:\n",
    "        print(f\"{i} is Even\")\n",
    "    else:\n",
    "        print(f\"{i} is Odd\")"
   ]
  }
 ],
 "metadata": {
  "kernelspec": {
   "display_name": "base",
   "language": "python",
   "name": "python3"
  },
  "language_info": {
   "codemirror_mode": {
    "name": "ipython",
    "version": 3
   },
   "file_extension": ".py",
   "mimetype": "text/x-python",
   "name": "python",
   "nbconvert_exporter": "python",
   "pygments_lexer": "ipython3",
   "version": "3.12.4"
  }
 },
 "nbformat": 4,
 "nbformat_minor": 2
}
