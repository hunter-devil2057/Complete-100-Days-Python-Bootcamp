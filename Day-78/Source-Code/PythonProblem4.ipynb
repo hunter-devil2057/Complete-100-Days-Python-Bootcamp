{
 "cells": [
  {
   "cell_type": "markdown",
   "metadata": {},
   "source": [
    "Write a Python program to find Min and Max number from a List. Then, find multiplication of min and max number. Then, find square root of that number to display to user. "
   ]
  },
  {
   "cell_type": "code",
   "execution_count": 2,
   "metadata": {},
   "outputs": [
    {
     "name": "stdout",
     "output_type": "stream",
     "text": [
      "List= [32, 24, 14, 41, 54]\n",
      "Minimum Number:  14\n",
      "Maximum Number:  54\n",
      "14 * 54 = 756\n",
      "Square root of 756 = 27.49545416973504\n"
     ]
    }
   ],
   "source": [
    "import math\n",
    "numList=[]  #creating blank list. \n",
    "for i in range(5):\n",
    "    item=int(input(\"Enter Number: \"))\n",
    "    numList.append(item)\n",
    "print(\"List=\", numList)\n",
    "minNum=min(numList)\n",
    "print(\"Minimum Number: \", minNum)\n",
    "maxNum=max(numList)\n",
    "print(\"Maximum Number: \", maxNum)\n",
    "product=minNum*maxNum\n",
    "print(f\"{minNum} * {maxNum} = {product}\")\n",
    "sqRoot=math.sqrt(product)\n",
    "print(f\"Square root of {product} = {sqRoot}\")"
   ]
  }
 ],
 "metadata": {
  "kernelspec": {
   "display_name": "base",
   "language": "python",
   "name": "python3"
  },
  "language_info": {
   "codemirror_mode": {
    "name": "ipython",
    "version": 3
   },
   "file_extension": ".py",
   "mimetype": "text/x-python",
   "name": "python",
   "nbconvert_exporter": "python",
   "pygments_lexer": "ipython3",
   "version": "3.12.4"
  }
 },
 "nbformat": 4,
 "nbformat_minor": 2
}
