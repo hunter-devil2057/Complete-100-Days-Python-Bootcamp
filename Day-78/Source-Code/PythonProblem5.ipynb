{
 "cells": [
  {
   "cell_type": "markdown",
   "metadata": {},
   "source": [
    "Write a Python program to get Computer Memory in GB and then convert it into Bytes."
   ]
  },
  {
   "cell_type": "code",
   "execution_count": 4,
   "metadata": {},
   "outputs": [
    {
     "name": "stdout",
     "output_type": "stream",
     "text": [
      "512.0 GB = 524288.0 MB\n",
      "524288.0 MB = 536870912.0 KB\n",
      "536870912.0 KB = 549755813888.0 bytes\n",
      "Therefore, 512.0 GB = 549755813888.0 bytes\n"
     ]
    }
   ],
   "source": [
    "gbSize=float(input(\"Enter Memory Size (in GB): \"))\n",
    "mbSize=1024*gbSize\n",
    "kbsize=1024*mbSize\n",
    "bsize=kbsize*1024\n",
    "print(f\"{gbSize} GB = {mbSize} MB\")\n",
    "print(f\"{mbSize} MB = {kbsize} KB\")\n",
    "print(f\"{kbsize} KB = {bsize} bytes\")\n",
    "print(f\"Therefore, {gbSize} GB = {bsize} bytes\")"
   ]
  }
 ],
 "metadata": {
  "kernelspec": {
   "display_name": "base",
   "language": "python",
   "name": "python3"
  },
  "language_info": {
   "codemirror_mode": {
    "name": "ipython",
    "version": 3
   },
   "file_extension": ".py",
   "mimetype": "text/x-python",
   "name": "python",
   "nbconvert_exporter": "python",
   "pygments_lexer": "ipython3",
   "version": "3.12.4"
  }
 },
 "nbformat": 4,
 "nbformat_minor": 2
}
