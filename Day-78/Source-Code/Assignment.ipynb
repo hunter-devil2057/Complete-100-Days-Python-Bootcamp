{
 "cells": [
  {
   "cell_type": "markdown",
   "metadata": {},
   "source": [
    "Write a Python function named count_vowels that takes a string as input and returns the count of vowels (a, e, i, o, u) in the input string.\n",
    "\n",
    "**Steps:**\n",
    "- Define a function named count_vowels that takes a string, input_string, as a parameter.\n",
    "- Initialize a variable count to 0 to store the count of vowels.\n",
    "- Iterate through each character in input_string.\n",
    "- If the character is a vowel, increment the count variable.\n",
    "- Return the final value of count."
   ]
  },
  {
   "cell_type": "code",
   "execution_count": 4,
   "metadata": {},
   "outputs": [
    {
     "name": "stdout",
     "output_type": "stream",
     "text": [
      "9\n"
     ]
    }
   ],
   "source": [
    "def count_vowels(input_string):\n",
    "    count=0\n",
    "    for i in input_string:\n",
    "        if i in \"aeiou\":\n",
    "            count+=1\n",
    "    print(count)\n",
    "count_vowels(\"This is me Manish Shiwakoti\")"
   ]
  }
 ],
 "metadata": {
  "kernelspec": {
   "display_name": "base",
   "language": "python",
   "name": "python3"
  },
  "language_info": {
   "codemirror_mode": {
    "name": "ipython",
    "version": 3
   },
   "file_extension": ".py",
   "mimetype": "text/x-python",
   "name": "python",
   "nbconvert_exporter": "python",
   "pygments_lexer": "ipython3",
   "version": "3.12.4"
  }
 },
 "nbformat": 4,
 "nbformat_minor": 2
}
