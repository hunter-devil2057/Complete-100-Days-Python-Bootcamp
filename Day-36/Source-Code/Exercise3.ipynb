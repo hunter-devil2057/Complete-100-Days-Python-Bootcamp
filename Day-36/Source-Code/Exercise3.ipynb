{
 "cells": [
  {
   "cell_type": "markdown",
   "metadata": {},
   "source": [
    "Write a program to get starting and ending number from user to generate a sequence of number. You should check at first, starting number should be less than ending number. "
   ]
  },
  {
   "cell_type": "code",
   "execution_count": 2,
   "metadata": {},
   "outputs": [
    {
     "name": "stdout",
     "output_type": "stream",
     "text": [
      "12\n",
      "13\n",
      "14\n",
      "15\n",
      "16\n",
      "17\n",
      "18\n"
     ]
    }
   ],
   "source": [
    "startingNum=int(input(\"Enter a Starting Number: \"))\n",
    "endingNum=int(input(\"Enter a Ending Number: \"))\n",
    "if startingNum<endingNum:\n",
    "    i=startingNum\n",
    "    while i<=endingNum:\n",
    "        print(i)\n",
    "        i+=1\n",
    "else:\n",
    "    print(\"Starting number should be less than ending number\")"
   ]
  }
 ],
 "metadata": {
  "kernelspec": {
   "display_name": "base",
   "language": "python",
   "name": "python3"
  },
  "language_info": {
   "codemirror_mode": {
    "name": "ipython",
    "version": 3
   },
   "file_extension": ".py",
   "mimetype": "text/x-python",
   "name": "python",
   "nbconvert_exporter": "python",
   "pygments_lexer": "ipython3",
   "version": "3.12.4"
  }
 },
 "nbformat": 4,
 "nbformat_minor": 2
}
