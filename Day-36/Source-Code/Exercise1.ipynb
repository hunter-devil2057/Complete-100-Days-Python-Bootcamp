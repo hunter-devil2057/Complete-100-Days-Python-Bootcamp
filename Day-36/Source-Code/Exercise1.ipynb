{
 "cells": [
  {
   "cell_type": "markdown",
   "metadata": {},
   "source": [
    "Write a Python Program to Get a Number From User To Display Table of That Number Using While Loop"
   ]
  },
  {
   "cell_type": "code",
   "execution_count": 1,
   "metadata": {},
   "outputs": [
    {
     "name": "stdout",
     "output_type": "stream",
     "text": [
      "Multiplication Table of 21:\n",
      "21*1=21\n",
      "21*2=42\n",
      "21*3=63\n",
      "21*4=84\n",
      "21*5=105\n",
      "21*6=126\n",
      "21*7=147\n",
      "21*8=168\n",
      "21*9=189\n",
      "21*10=210\n"
     ]
    }
   ],
   "source": [
    "i=1\n",
    "num=int(input(\"Enter a Number: \"))\n",
    "print(f\"Multiplication Table of {num}:\")\n",
    "while i<=10:\n",
    "    product=num*i\n",
    "    print(f\"{num}*{i}={product}\")\n",
    "    i+=1\n"
   ]
  }
 ],
 "metadata": {
  "kernelspec": {
   "display_name": "base",
   "language": "python",
   "name": "python3"
  },
  "language_info": {
   "codemirror_mode": {
    "name": "ipython",
    "version": 3
   },
   "file_extension": ".py",
   "mimetype": "text/x-python",
   "name": "python",
   "nbconvert_exporter": "python",
   "pygments_lexer": "ipython3",
   "version": "3.12.4"
  }
 },
 "nbformat": 4,
 "nbformat_minor": 2
}
