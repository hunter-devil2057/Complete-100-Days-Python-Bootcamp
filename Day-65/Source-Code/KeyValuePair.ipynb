{
 "cells": [
  {
   "cell_type": "markdown",
   "metadata": {},
   "source": [
    "# What is Key Value Pair?"
   ]
  },
  {
   "cell_type": "markdown",
   "metadata": {},
   "source": [
    "- **key-value** pair: attribute of any object or entity\n",
    "- Key-value pair means, we used attribute name and its value that become an item. "
   ]
  },
  {
   "cell_type": "markdown",
   "metadata": {},
   "source": [
    "**Example:**"
   ]
  },
  {
   "cell_type": "code",
   "execution_count": 1,
   "metadata": {},
   "outputs": [],
   "source": [
    "Dictionary={\"name\": \"Hunter\", \"subject\": \"Python\"}"
   ]
  },
  {
   "cell_type": "markdown",
   "metadata": {},
   "source": [
    "- Here, \n",
    "    - **\"name\"**: **\"Hunter\"** is the item (key-value pair)\n",
    "    - **\"name\"**: is the key\n",
    "    - **\"Hunter\"** is the value. \n",
    "    - **\"Hunter\"** is the value\n",
    "- Each item is separated with commas"
   ]
  },
  {
   "cell_type": "code",
   "execution_count": 6,
   "metadata": {},
   "outputs": [
    {
     "name": "stdout",
     "output_type": "stream",
     "text": [
      "747701\n",
      "Manish\n",
      "Manhattan\n",
      "{'ID': 747701, 'Name': 'Manish', 'Location': 'Manhattan'}\n"
     ]
    }
   ],
   "source": [
    "dict={\"ID\": 747701, \"Name\": \"Manish\", \"Location\": \"Manhattan\"}\n",
    "print(dict[\"ID\"])\n",
    "print(dict[\"Name\"])\n",
    "print(dict[\"Location\"])\n",
    "print(dict)"
   ]
  }
 ],
 "metadata": {
  "kernelspec": {
   "display_name": "base",
   "language": "python",
   "name": "python3"
  },
  "language_info": {
   "codemirror_mode": {
    "name": "ipython",
    "version": 3
   },
   "file_extension": ".py",
   "mimetype": "text/x-python",
   "name": "python",
   "nbconvert_exporter": "python",
   "pygments_lexer": "ipython3",
   "version": "3.12.4"
  }
 },
 "nbformat": 4,
 "nbformat_minor": 2
}
