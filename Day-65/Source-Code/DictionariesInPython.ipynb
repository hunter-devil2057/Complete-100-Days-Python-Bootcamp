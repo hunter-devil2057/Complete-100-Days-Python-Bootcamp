{
 "cells": [
  {
   "cell_type": "markdown",
   "metadata": {},
   "source": [
    "# **Python Dictionary**"
   ]
  },
  {
   "cell_type": "markdown",
   "metadata": {},
   "source": [
    "- Dictionary is the data structure used to store data. \n",
    "- Data stored in dictionary in **key value** pair. \n",
    "- Dictionary is mutable/changeable. \n",
    "- Dictionary is the ordered, that item have a specific order, that cannot be changed. \n",
    "- Dictionary do not allow to duplication. \n",
    "- Dictionary items can be accessed using **key** that is name of value. \n",
    "- Items stored in curly braces. "
   ]
  },
  {
   "cell_type": "code",
   "execution_count": 1,
   "metadata": {},
   "outputs": [],
   "source": [
    "Dictionary={'name': 'JafriCode', 'subj':'Python'}"
   ]
  },
  {
   "cell_type": "markdown",
   "metadata": {},
   "source": [
    "- **'name': 'JafriCode'** is the item\n",
    "- **'name'** is the key\n",
    "- **'JafriCode'** is the value\n",
    "- Each item is separated with comma\n",
    "- We can access any key value: print(dictionary['name']) #JafriCode"
   ]
  },
  {
   "cell_type": "code",
   "execution_count": 2,
   "metadata": {},
   "outputs": [
    {
     "name": "stdout",
     "output_type": "stream",
     "text": [
      "shiwakoti\n"
     ]
    }
   ],
   "source": [
    "dict={\"name\": \"manish\", 3: \"shiwakoti\", \"price\": 323}\n",
    "print(dict[3])"
   ]
  },
  {
   "cell_type": "markdown",
   "metadata": {},
   "source": [
    "When do we use Dictionary Data Structure TO Store Data? \n",
    "- If you want to store data of any object with key value pair, we used dictionary data structure to store data. \n",
    "- For Example: \n",
    "    - An object which have attributes or properties like object id, object name, object price, etc. \n",
    "- Then, we used dictionary to store name of attributes and value of attributes. \n",
    "- When we want, it becomes easy to manage and easy to remember detail of any object that is needed to be stored. \n",
    "- When object have different properties. \n",
    "- When you want, it becomes easy to manage data. \n",
    "- When you want, it becomes easy to search/modify. \n",
    "- When you want to store complex data. \n",
    "- When you want to store data in key-value pair. "
   ]
  }
 ],
 "metadata": {
  "kernelspec": {
   "display_name": "base",
   "language": "python",
   "name": "python3"
  },
  "language_info": {
   "codemirror_mode": {
    "name": "ipython",
    "version": 3
   },
   "file_extension": ".py",
   "mimetype": "text/x-python",
   "name": "python",
   "nbconvert_exporter": "python",
   "pygments_lexer": "ipython3",
   "version": "3.12.4"
  }
 },
 "nbformat": 4,
 "nbformat_minor": 2
}
