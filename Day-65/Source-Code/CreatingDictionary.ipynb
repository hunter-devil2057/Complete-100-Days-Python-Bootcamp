{
 "cells": [
  {
   "cell_type": "markdown",
   "metadata": {},
   "source": [
    "**Different Styles to Create Dictionaries**"
   ]
  },
  {
   "cell_type": "markdown",
   "metadata": {},
   "source": [
    "**Example:**"
   ]
  },
  {
   "cell_type": "code",
   "execution_count": 11,
   "metadata": {},
   "outputs": [
    {
     "name": "stdout",
     "output_type": "stream",
     "text": [
      "{'sId': 74001, 'sName': 'Manish', 'sCourse': 'Python'}\n"
     ]
    }
   ],
   "source": [
    "std={\"sId\": 74001, \"sName\": \"Manish\", \"sCourse\": \"Python\"}\n",
    "print(std)"
   ]
  },
  {
   "cell_type": "code",
   "execution_count": 10,
   "metadata": {},
   "outputs": [
    {
     "name": "stdout",
     "output_type": "stream",
     "text": [
      "{1: 'Red', 2: 'Blue', 3: 'Yellow', 4: 'Pink', 5: 'Black'}\n"
     ]
    }
   ],
   "source": [
    "color={1: \"Red\", 2: \"Blue\", 3: \"Yellow\", 4: \"Pink\", 5: \"Black\"}\n",
    "print(color)"
   ]
  },
  {
   "cell_type": "markdown",
   "metadata": {},
   "source": [
    "We can also write as: "
   ]
  },
  {
   "cell_type": "code",
   "execution_count": 9,
   "metadata": {},
   "outputs": [
    {
     "name": "stdout",
     "output_type": "stream",
     "text": [
      "{'sId': 74001, 'sName': 'Manish', 'sCourse': 'Python'}\n"
     ]
    }
   ],
   "source": [
    "std={\n",
    "    \"sId\": 74001, \n",
    "    \"sName\": \"Manish\", \n",
    "    \"sCourse\": \"Python\"\n",
    "    }\n",
    "print(std)"
   ]
  },
  {
   "cell_type": "code",
   "execution_count": 8,
   "metadata": {},
   "outputs": [
    {
     "name": "stdout",
     "output_type": "stream",
     "text": [
      "{1: 'Red', 2: 'Blue', 3: 'Yellow', 4: 'Pink', 5: 'Black'}\n"
     ]
    }
   ],
   "source": [
    "color={\n",
    "    1: \"Red\", \n",
    "    2: \"Blue\", \n",
    "    3: \"Yellow\", \n",
    "    4: \"Pink\", \n",
    "    5: \"Black\"\n",
    "    }\n",
    "print(color)"
   ]
  }
 ],
 "metadata": {
  "kernelspec": {
   "display_name": "base",
   "language": "python",
   "name": "python3"
  },
  "language_info": {
   "codemirror_mode": {
    "name": "ipython",
    "version": 3
   },
   "file_extension": ".py",
   "mimetype": "text/x-python",
   "name": "python",
   "nbconvert_exporter": "python",
   "pygments_lexer": "ipython3",
   "version": "3.12.4"
  }
 },
 "nbformat": 4,
 "nbformat_minor": 2
}
