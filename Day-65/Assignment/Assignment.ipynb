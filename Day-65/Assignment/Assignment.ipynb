{
 "cells": [
  {
   "cell_type": "markdown",
   "metadata": {},
   "source": [
    "1. Create a dictionary named **student** with the following key-value pairs: \n",
    "    - \"name\": \"John\"\n",
    "    - \"age\": 25\n",
    "    - \"city\": \"New York\" \n",
    "    - \"country\": \"USA\"\n",
    "2. Print the student dictionary. \n",
    "3. Update the value of the \"age\" key to 26. "
   ]
  },
  {
   "cell_type": "code",
   "execution_count": 2,
   "metadata": {},
   "outputs": [
    {
     "name": "stdout",
     "output_type": "stream",
     "text": [
      "{'name': 'John', 'age': 25, 'city': 'New York', 'country': 'USA'}\n",
      "{'name': 'John', 'age': 26, 'city': 'New York', 'country': 'USA'}\n"
     ]
    }
   ],
   "source": [
    "student={\"name\":\"John\", \"age\": 25, \"city\": \"New York\", \"country\": \"USA\"}\n",
    "print(student)\n",
    "student[\"age\"]=26\n",
    "print(student)"
   ]
  }
 ],
 "metadata": {
  "kernelspec": {
   "display_name": "base",
   "language": "python",
   "name": "python3"
  },
  "language_info": {
   "codemirror_mode": {
    "name": "ipython",
    "version": 3
   },
   "file_extension": ".py",
   "mimetype": "text/x-python",
   "name": "python",
   "nbconvert_exporter": "python",
   "pygments_lexer": "ipython3",
   "version": "3.12.4"
  }
 },
 "nbformat": 4,
 "nbformat_minor": 2
}
