{
 "cells": [
  {
   "cell_type": "markdown",
   "metadata": {},
   "source": [
    "**Introduction to Python SET: set()**\n",
    "- SET can be created using set() method. \n",
    "- It take iterable object as argument. \n",
    "- It stores unique elements. \n",
    "- It removes duplicated elements/items. \n",
    "- We can create empty set using set() method. \n",
    "- unchangeable(immutable)/unmodifiable, unordered, unindexable\n",
    "- No Duplication. \n",
    "- Supports Same and different data types\n",
    "- Cannot use \"+\" or \"*\""
   ]
  },
  {
   "cell_type": "markdown",
   "metadata": {},
   "source": [
    "**Modification of Elements in SET**\n",
    "- We cannot modify an element of a set. \n",
    "- We can add a element using the add() method. \n",
    "- To add multiple items, we use update() method. \n",
    "- It takes tuples, lists, strings or other sets as argument. "
   ]
  },
  {
   "cell_type": "markdown",
   "metadata": {},
   "source": [
    "**Duplication of Elements in SET**\n",
    "- A set cannot contain duplicate items. \n",
    "- **set()** method remove automatically duplicate elements."
   ]
  },
  {
   "cell_type": "code",
   "execution_count": 10,
   "metadata": {},
   "outputs": [
    {
     "name": "stdout",
     "output_type": "stream",
     "text": [
      "{'red', 434.23, 2324, 'green', 'pink', 'yellow'}\n",
      "red\n",
      "434.23\n",
      "2324\n",
      "green\n",
      "pink\n",
      "yellow\n",
      "{'red', 434.23, 2324, 'green', 'pink', 'yellow'}\n"
     ]
    }
   ],
   "source": [
    "setEx={\"red\", \"green\", 434.23, 2324, \"yellow\", \"pink\"}\n",
    "# setEx[\"red\"]=\"blue\"   #set is immutable\n",
    "print(setEx)\n",
    "\n",
    "# displaying the elements in Set\n",
    "for i in setEx: \n",
    "    print(i)\n",
    "print(setEx)"
   ]
  },
  {
   "cell_type": "code",
   "execution_count": 8,
   "metadata": {},
   "outputs": [
    {
     "name": "stdout",
     "output_type": "stream",
     "text": [
      "<class 'dict'>\n",
      "<class 'set'>\n"
     ]
    }
   ],
   "source": [
    "st={}\n",
    "stSet=set(st)\n",
    "print(type(st))\n",
    "print(type(stSet))"
   ]
  }
 ],
 "metadata": {
  "kernelspec": {
   "display_name": "base",
   "language": "python",
   "name": "python3"
  },
  "language_info": {
   "codemirror_mode": {
    "name": "ipython",
    "version": 3
   },
   "file_extension": ".py",
   "mimetype": "text/x-python",
   "name": "python",
   "nbconvert_exporter": "python",
   "pygments_lexer": "ipython3",
   "version": "3.12.4"
  }
 },
 "nbformat": 4,
 "nbformat_minor": 2
}
