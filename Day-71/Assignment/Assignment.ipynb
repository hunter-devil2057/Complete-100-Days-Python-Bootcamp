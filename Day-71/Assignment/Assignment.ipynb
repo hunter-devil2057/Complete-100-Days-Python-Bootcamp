{
 "cells": [
  {
   "cell_type": "markdown",
   "metadata": {},
   "source": [
    "1. Define a function named common_elements that takes two sets, set1 and set2, as parameters.\n",
    "2. Use the intersection() method to find the common elements between set1 and set2.\n",
    "3. Return the resulting set."
   ]
  },
  {
   "cell_type": "code",
   "execution_count": 2,
   "metadata": {},
   "outputs": [
    {
     "name": "stdout",
     "output_type": "stream",
     "text": [
      "{3, 6, 9, 12, 15}\n"
     ]
    }
   ],
   "source": [
    "def commmon_elements():\n",
    "    set1={1, 2, 3, 4, 5, 6, 7, 8, 9, 10, 11, 12, 13, 14, 15}\n",
    "    set2={3, 6, 9, 12, 15, 18, 21, 24, 27, 30}\n",
    "    common=set1.intersection(set2)\n",
    "    print(common)\n",
    "commmon_elements()"
   ]
  }
 ],
 "metadata": {
  "kernelspec": {
   "display_name": "base",
   "language": "python",
   "name": "python3"
  },
  "language_info": {
   "codemirror_mode": {
    "name": "ipython",
    "version": 3
   },
   "file_extension": ".py",
   "mimetype": "text/x-python",
   "name": "python",
   "nbconvert_exporter": "python",
   "pygments_lexer": "ipython3",
   "version": "3.12.4"
  }
 },
 "nbformat": 4,
 "nbformat_minor": 2
}
