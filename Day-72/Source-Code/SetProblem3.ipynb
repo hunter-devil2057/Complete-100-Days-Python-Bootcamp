{
 "cells": [
  {
   "cell_type": "markdown",
   "metadata": {},
   "source": [
    "Write a Python program to get 5 numbers from the user to store in a Set to find their Addition and Product. "
   ]
  },
  {
   "cell_type": "code",
   "execution_count": 1,
   "metadata": {},
   "outputs": [
    {
     "name": "stdout",
     "output_type": "stream",
     "text": [
      "{1, 2, 3, 4, 5}\n",
      "Addition:  15\n",
      "Product:  120\n"
     ]
    }
   ],
   "source": [
    "numSet=set()\n",
    "# Receiving 5 Numbers from the User\n",
    "for i in range(5):\n",
    "    num=int(input(\"Enter a Number: \"))\n",
    "    # Adding Number  in set \"numSet\"\n",
    "    numSet.add(num)\n",
    "print(numSet)\n",
    "\n",
    "# For Addition\n",
    "add=0\n",
    "for i in numSet:\n",
    "    add+=i\n",
    "print(\"Addition: \", add)\n",
    "\n",
    "# For Multiplication\n",
    "product=1\n",
    "for i in numSet:\n",
    "    product*=i\n",
    "print(\"Product: \", product)"
   ]
  }
 ],
 "metadata": {
  "kernelspec": {
   "display_name": "base",
   "language": "python",
   "name": "python3"
  },
  "language_info": {
   "codemirror_mode": {
    "name": "ipython",
    "version": 3
   },
   "file_extension": ".py",
   "mimetype": "text/x-python",
   "name": "python",
   "nbconvert_exporter": "python",
   "pygments_lexer": "ipython3",
   "version": "3.12.4"
  }
 },
 "nbformat": 4,
 "nbformat_minor": 2
}
