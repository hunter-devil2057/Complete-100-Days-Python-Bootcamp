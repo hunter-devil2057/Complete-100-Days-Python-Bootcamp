{
 "cells": [
  {
   "cell_type": "markdown",
   "metadata": {},
   "source": [
    "Write a Python program to get 5 items from User to store in a Set to display in lower and uppercase both. "
   ]
  },
  {
   "cell_type": "code",
   "execution_count": 3,
   "metadata": {},
   "outputs": [
    {
     "name": "stdout",
     "output_type": "stream",
     "text": [
      "{'Mark', 'Tom', 'David', 'Harry', 'Gwen'}\n",
      "{'TOM', 'GWEN', 'HARRY', 'DAVID', 'MARK'}\n",
      "{'gwen', 'david', 'tom', 'mark', 'harry'}\n"
     ]
    }
   ],
   "source": [
    "st=set()\n",
    "for i in range(5):\n",
    "    item=input(\"Enter Set Item: \")\n",
    "    st.add(item)\n",
    "print(st)\n",
    "setUpper=set()\n",
    "setLower=set()\n",
    "for i in st: \n",
    "    setUpper.add(i.upper())\n",
    "    setLower.add(i.lower())\n",
    "print(setUpper)\n",
    "print(setLower)"
   ]
  }
 ],
 "metadata": {
  "kernelspec": {
   "display_name": "base",
   "language": "python",
   "name": "python3"
  },
  "language_info": {
   "codemirror_mode": {
    "name": "ipython",
    "version": 3
   },
   "file_extension": ".py",
   "mimetype": "text/x-python",
   "name": "python",
   "nbconvert_exporter": "python",
   "pygments_lexer": "ipython3",
   "version": "3.12.4"
  }
 },
 "nbformat": 4,
 "nbformat_minor": 2
}
