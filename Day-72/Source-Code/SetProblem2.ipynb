{
 "cells": [
  {
   "cell_type": "markdown",
   "metadata": {},
   "source": [
    "Write a Python program to create a Set, then take any item from User to update that set."
   ]
  },
  {
   "cell_type": "code",
   "execution_count": 4,
   "metadata": {},
   "outputs": [
    {
     "name": "stdout",
     "output_type": "stream",
     "text": [
      "SET Before Updating: \n",
      "{'black', 'pink', 'white'}\n",
      "SET After Updating: \n",
      "{'green', 'black', 'pink', 'white'}\n"
     ]
    }
   ],
   "source": [
    "st={\"pink\", \"white\", \"black\"}\n",
    "print(\"SET Before Updating: \")\n",
    "print(st)\n",
    "for i in range(5):\n",
    "    item=input(\"Enter Item to Update a Set: \")\n",
    "userItem={item}\n",
    "st.update(userItem)\n",
    "print(\"SET After Updating: \")\n",
    "print(st)"
   ]
  }
 ],
 "metadata": {
  "kernelspec": {
   "display_name": "base",
   "language": "python",
   "name": "python3"
  },
  "language_info": {
   "codemirror_mode": {
    "name": "ipython",
    "version": 3
   },
   "file_extension": ".py",
   "mimetype": "text/x-python",
   "name": "python",
   "nbconvert_exporter": "python",
   "pygments_lexer": "ipython3",
   "version": "3.12.4"
  }
 },
 "nbformat": 4,
 "nbformat_minor": 2
}
