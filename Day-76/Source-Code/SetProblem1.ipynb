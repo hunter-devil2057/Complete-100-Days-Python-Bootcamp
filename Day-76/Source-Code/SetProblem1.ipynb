{
 "cells": [
  {
   "cell_type": "markdown",
   "metadata": {},
   "source": [
    "Write a Python program to get two set from user to find the intersection of that set. "
   ]
  },
  {
   "cell_type": "code",
   "execution_count": 2,
   "metadata": {},
   "outputs": [
    {
     "name": "stdout",
     "output_type": "stream",
     "text": [
      "Set A= {'4', '2', '3', '1', '5'}\n",
      "Set B= {'3', '9', '1', '7', '5'}\n",
      "Intersection of Two Set:\n",
      " {'1', '3', '5'}\n"
     ]
    }
   ],
   "source": [
    "# Empty Set\n",
    "a=set()\n",
    "b=set()\n",
    "\n",
    "# Set A\n",
    "for i in range(5):\n",
    "    a.add(input(\"Enter a Item:\"))\n",
    "print(\"Set A=\", a)\n",
    "\n",
    "# Set B\n",
    "for i in range(5):\n",
    "    b.add(input(\"Enter a Item:\"))\n",
    "print(\"Set B=\", b)\n",
    "\n",
    "c=a.intersection(b)\n",
    "print(\"Intersection of Two Set:\\n\", c)"
   ]
  }
 ],
 "metadata": {
  "kernelspec": {
   "display_name": "base",
   "language": "python",
   "name": "python3"
  },
  "language_info": {
   "codemirror_mode": {
    "name": "ipython",
    "version": 3
   },
   "file_extension": ".py",
   "mimetype": "text/x-python",
   "name": "python",
   "nbconvert_exporter": "python",
   "pygments_lexer": "ipython3",
   "version": "3.12.4"
  }
 },
 "nbformat": 4,
 "nbformat_minor": 2
}
