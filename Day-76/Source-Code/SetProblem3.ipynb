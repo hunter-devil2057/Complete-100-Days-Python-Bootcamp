{
 "cells": [
  {
   "cell_type": "markdown",
   "metadata": {},
   "source": [
    "Write a Python program to create a Set, User would be able to remove any element from that set, then display set element to User, then add removed element to set, then display. "
   ]
  },
  {
   "cell_type": "code",
   "execution_count": 6,
   "metadata": {},
   "outputs": [
    {
     "name": "stdout",
     "output_type": "stream",
     "text": [
      "{'buffalo', 'tiger', 'cow', 'elephant', 'dog', 'cat', 'monkey'}\n",
      "{'buffalo', 'tiger', 'cow', 'dog', 'cat', 'monkey'}\n",
      "You removed:  elephant\n",
      "Final Set Elements:\n",
      " {'buffalo', 'tiger', 'cow', 'elephant', 'dog', 'cat', 'monkey'}\n",
      "You added elephant again after removing \n"
     ]
    }
   ],
   "source": [
    "a={\"monkey\", \"tiger\", \"elephant\", \"dog\", \"cat\", \"cow\", \"buffalo\"}\n",
    "print(a)\n",
    "remo=input(\"Enter an Item to Remove:\").lower()\n",
    "a.remove(remo)\n",
    "print(a)\n",
    "print(\"You removed: \", remo)\n",
    "a.add(remo)\n",
    "print(\"Final Set Elements:\\n\", a)\n",
    "print(f\"You added {remo} again after removing \")"
   ]
  }
 ],
 "metadata": {
  "kernelspec": {
   "display_name": "base",
   "language": "python",
   "name": "python3"
  },
  "language_info": {
   "codemirror_mode": {
    "name": "ipython",
    "version": 3
   },
   "file_extension": ".py",
   "mimetype": "text/x-python",
   "name": "python",
   "nbconvert_exporter": "python",
   "pygments_lexer": "ipython3",
   "version": "3.12.4"
  }
 },
 "nbformat": 4,
 "nbformat_minor": 2
}
