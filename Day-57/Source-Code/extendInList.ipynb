{
 "cells": [
  {
   "cell_type": "markdown",
   "metadata": {},
   "source": [
    "**Python List Method: extend()**\n",
    "- It is used to extend a list. \n",
    "- A list can be extended, adding more elements at the end of list."
   ]
  },
  {
   "cell_type": "markdown",
   "metadata": {},
   "source": [
    "**Syntax:** lst.extend(sequence)"
   ]
  },
  {
   "cell_type": "markdown",
   "metadata": {},
   "source": [
    "**Example:**"
   ]
  },
  {
   "cell_type": "code",
   "execution_count": 1,
   "metadata": {},
   "outputs": [
    {
     "name": "stdout",
     "output_type": "stream",
     "text": [
      "['Python', 'C++', 'JavaScript', 'C', 'Java', 'HTML', 'F', 'R']\n"
     ]
    }
   ],
   "source": [
    "lst=['Python', 'C++', 'JavaScript', 'C', 'Java', 'HTML']\n",
    "lst1=['F', 'R']\n",
    "lst.extend(lst1)\n",
    "print(lst)"
   ]
  },
  {
   "cell_type": "code",
   "execution_count": 3,
   "metadata": {},
   "outputs": [
    {
     "name": "stdout",
     "output_type": "stream",
     "text": [
      "['red', 'gray', 'yellow', 'green', 'black']\n",
      "['red', 'gray', 'yellow', 'green', 'black', 'red', 'gray', 'yellow', 'green', 'black']\n"
     ]
    }
   ],
   "source": [
    "lst=['red', 'gray', 'yellow', 'green', 'black']\n",
    "print(lst)\n",
    "lst1=['pink', 'white']\n",
    "lst.extend(lst)\n",
    "print(lst)"
   ]
  }
 ],
 "metadata": {
  "kernelspec": {
   "display_name": "base",
   "language": "python",
   "name": "python3"
  },
  "language_info": {
   "codemirror_mode": {
    "name": "ipython",
    "version": 3
   },
   "file_extension": ".py",
   "mimetype": "text/x-python",
   "name": "python",
   "nbconvert_exporter": "python",
   "pygments_lexer": "ipython3",
   "version": "3.12.4"
  }
 },
 "nbformat": 4,
 "nbformat_minor": 2
}
