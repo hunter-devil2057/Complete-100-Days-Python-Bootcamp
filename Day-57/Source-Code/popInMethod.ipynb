{
 "cells": [
  {
   "cell_type": "markdown",
   "metadata": {},
   "source": [
    "**Python List Method: pop()**\n",
    "- It is used to remove item/element from ending of a list and return removed element. "
   ]
  },
  {
   "cell_type": "markdown",
   "metadata": {},
   "source": [
    "**Syntax:** lst.pop()\n",
    "- lst.pop(index)    #index parameter is the optional, if not mention, it removes last item. "
   ]
  },
  {
   "cell_type": "markdown",
   "metadata": {},
   "source": [
    "**Example:**"
   ]
  },
  {
   "cell_type": "code",
   "execution_count": 1,
   "metadata": {},
   "outputs": [
    {
     "name": "stdout",
     "output_type": "stream",
     "text": [
      "HTML\n"
     ]
    }
   ],
   "source": [
    "lst=[\"Python\", \"C++\", \"C\", \"JavaScript\", \"C\", \"Java\", \"HTML\"]\n",
    "removeItem=lst.pop()\n",
    "print(removeItem)"
   ]
  },
  {
   "cell_type": "code",
   "execution_count": 2,
   "metadata": {},
   "outputs": [
    {
     "name": "stdout",
     "output_type": "stream",
     "text": [
      "['red', 'green', 'gray', 'red', 'yellow', 'black', 'red']\n",
      "['red', 'green', 'gray', 'red', 'yellow', 'black']\n"
     ]
    }
   ],
   "source": [
    "lst=[\"red\", \"green\", \"gray\", \"red\", \"yellow\", \"black\", \"red\"]\n",
    "print(lst)\n",
    "lst.pop()\n",
    "print(lst)"
   ]
  }
 ],
 "metadata": {
  "kernelspec": {
   "display_name": "base",
   "language": "python",
   "name": "python3"
  },
  "language_info": {
   "codemirror_mode": {
    "name": "ipython",
    "version": 3
   },
   "file_extension": ".py",
   "mimetype": "text/x-python",
   "name": "python",
   "nbconvert_exporter": "python",
   "pygments_lexer": "ipython3",
   "version": "3.12.4"
  }
 },
 "nbformat": 4,
 "nbformat_minor": 2
}
