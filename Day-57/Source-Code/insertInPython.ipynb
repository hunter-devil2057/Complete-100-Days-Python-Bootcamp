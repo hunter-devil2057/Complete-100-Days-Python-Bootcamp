{
 "cells": [
  {
   "cell_type": "markdown",
   "metadata": {},
   "source": [
    "**Python List Method: insert()**\n",
    "- It is used to insert item/element at specific position in a list. "
   ]
  },
  {
   "cell_type": "markdown",
   "metadata": {},
   "source": [
    "**Syntax:** lst.insert(index, element)"
   ]
  },
  {
   "cell_type": "markdown",
   "metadata": {},
   "source": [
    "**Example:**"
   ]
  },
  {
   "cell_type": "code",
   "execution_count": 1,
   "metadata": {},
   "outputs": [
    {
     "name": "stdout",
     "output_type": "stream",
     "text": [
      "['CSS', 'Python', 'C++', 'C', 'JavaScript', 'C', 'Java', 'HTML']\n"
     ]
    }
   ],
   "source": [
    "lst=[\"Python\", \"C++\", \"C\", \"JavaScript\", \"C\", \"Java\", \"HTML\"]\n",
    "lst.insert(0, 'CSS')\n",
    "print(lst)"
   ]
  },
  {
   "cell_type": "code",
   "execution_count": 2,
   "metadata": {},
   "outputs": [
    {
     "name": "stdout",
     "output_type": "stream",
     "text": [
      "['white', 'red', 'green', 'gray', 'red', 'yellow', 'black', 'red']\n"
     ]
    }
   ],
   "source": [
    "lst=[\"red\", \"green\", \"gray\", \"red\", \"yellow\", \"black\", \"red\"]\n",
    "lst.insert(0, \"white\")\n",
    "print(lst)"
   ]
  }
 ],
 "metadata": {
  "kernelspec": {
   "display_name": "base",
   "language": "python",
   "name": "python3"
  },
  "language_info": {
   "codemirror_mode": {
    "name": "ipython",
    "version": 3
   },
   "file_extension": ".py",
   "mimetype": "text/x-python",
   "name": "python",
   "nbconvert_exporter": "python",
   "pygments_lexer": "ipython3",
   "version": "3.12.4"
  }
 },
 "nbformat": 4,
 "nbformat_minor": 2
}
