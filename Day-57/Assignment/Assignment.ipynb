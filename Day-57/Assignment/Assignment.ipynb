{
 "cells": [
  {
   "cell_type": "markdown",
   "metadata": {},
   "source": [
    "1. Create an empty list named **fruits**\n",
    "2. Prompt the user to enter the names of five fruits, one at a time. \n",
    "3. Add each fruit to the **fruits** list. \n",
    "4. Print the **fruits** list. \n",
    "5. Sort the **fruits** list in alphabetical order. \n",
    "6. Print the sorted **fruits** list. \n",
    "7. Remove the last fruit from the list. \n",
    "8. Print the updated **fruits** list."
   ]
  },
  {
   "cell_type": "code",
   "execution_count": 4,
   "metadata": {},
   "outputs": [
    {
     "name": "stdout",
     "output_type": "stream",
     "text": [
      "['Dragon Fruit', 'Litchi', 'Kiwi', 'Orange', 'Banana']\n",
      "['Banana', 'Dragon Fruit', 'Kiwi', 'Litchi', 'Orange']\n",
      "['Banana', 'Dragon Fruit', 'Kiwi', 'Litchi']\n"
     ]
    }
   ],
   "source": [
    "fruit=[]\n",
    "for i in range(1, 6):\n",
    "    fruit.append(input(\"Enter the name of Fruit: \"))\n",
    "print(fruit)\n",
    "fruit.sort()\n",
    "print(fruit)\n",
    "result=fruit.pop()\n",
    "print(fruit)"
   ]
  }
 ],
 "metadata": {
  "kernelspec": {
   "display_name": "base",
   "language": "python",
   "name": "python3"
  },
  "language_info": {
   "codemirror_mode": {
    "name": "ipython",
    "version": 3
   },
   "file_extension": ".py",
   "mimetype": "text/x-python",
   "name": "python",
   "nbconvert_exporter": "python",
   "pygments_lexer": "ipython3",
   "version": "3.12.4"
  }
 },
 "nbformat": 4,
 "nbformat_minor": 2
}
