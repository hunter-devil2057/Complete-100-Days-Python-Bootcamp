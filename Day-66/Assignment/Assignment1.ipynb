{
 "cells": [
  {
   "cell_type": "markdown",
   "metadata": {},
   "source": [
    "Write a Python Program To Create a Dictionary Which Display Student Basic Information In This Format"
   ]
  },
  {
   "cell_type": "code",
   "execution_count": 1,
   "metadata": {},
   "outputs": [
    {
     "name": "stdout",
     "output_type": "stream",
     "text": [
      "Id: 74001\n",
      "Name: Manish\n",
      "Course: Python\n",
      "Address: Calcutta\n",
      "Contact: 1231239128\n"
     ]
    }
   ],
   "source": [
    "stdInfo={\"Id\": 74001, \"Name\": \"Manish\", \"Course\": \"Python\", \"Address\": \"Calcutta\", \"Contact\": 1231239128}\n",
    "id=stdInfo[\"Id\"]\n",
    "name=stdInfo[\"Name\"]\n",
    "course=stdInfo[\"Course\"]\n",
    "address=stdInfo[\"Address\"]\n",
    "contact=stdInfo[\"Contact\"]\n",
    "print(f\"Id: {id}\")\n",
    "print(f\"Name: {name}\")\n",
    "print(f\"Course: {course}\")\n",
    "print(f\"Address: {address}\")\n",
    "print(f\"Contact: {contact}\")"
   ]
  }
 ],
 "metadata": {
  "kernelspec": {
   "display_name": "base",
   "language": "python",
   "name": "python3"
  },
  "language_info": {
   "codemirror_mode": {
    "name": "ipython",
    "version": 3
   },
   "file_extension": ".py",
   "mimetype": "text/x-python",
   "name": "python",
   "nbconvert_exporter": "python",
   "pygments_lexer": "ipython3",
   "version": "3.12.4"
  }
 },
 "nbformat": 4,
 "nbformat_minor": 2
}
