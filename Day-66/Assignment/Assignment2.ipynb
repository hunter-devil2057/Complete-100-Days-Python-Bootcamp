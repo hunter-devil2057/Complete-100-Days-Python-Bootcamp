{
 "cells": [
  {
   "cell_type": "markdown",
   "metadata": {},
   "source": [
    "Write a Python Program to Get 5 Number from User and Create a Dictionary Which Display Square Of Every Number as Value."
   ]
  },
  {
   "cell_type": "code",
   "execution_count": 1,
   "metadata": {},
   "outputs": [
    {
     "name": "stdout",
     "output_type": "stream",
     "text": [
      "{3: 9, 5: 25, 7: 49, 9: 81, 11: 121}\n"
     ]
    }
   ],
   "source": [
    "numSq={}    #Empty Dictionary\n",
    "for i in range(5):  #loop to receive 5 numbers\n",
    "    n=int(input(\"Enter a Number: \"))\n",
    "    numSq[n]=n**2\n",
    "print(numSq)"
   ]
  }
 ],
 "metadata": {
  "kernelspec": {
   "display_name": "base",
   "language": "python",
   "name": "python3"
  },
  "language_info": {
   "codemirror_mode": {
    "name": "ipython",
    "version": 3
   },
   "file_extension": ".py",
   "mimetype": "text/x-python",
   "name": "python",
   "nbconvert_exporter": "python",
   "pygments_lexer": "ipython3",
   "version": "3.12.4"
  }
 },
 "nbformat": 4,
 "nbformat_minor": 2
}
