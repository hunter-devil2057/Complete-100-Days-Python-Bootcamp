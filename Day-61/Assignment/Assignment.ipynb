{
 "cells": [
  {
   "cell_type": "markdown",
   "metadata": {},
   "source": [
    "1. Create a tuple named numbers containing the numbers 1 to 10. \n",
    "2. Use a loop to print the square of each number in the numbers tuple. "
   ]
  },
  {
   "cell_type": "code",
   "execution_count": 4,
   "metadata": {},
   "outputs": [
    {
     "name": "stdout",
     "output_type": "stream",
     "text": [
      "Given, tuple: \n",
      " (1, 2, 3, 4, 5, 6, 7, 8, 9, 10)\n",
      "Square of Numbers from 1 to 10 are: \n",
      " (1, 4, 9, 16, 25, 36, 49, 64, 81, 100)\n"
     ]
    }
   ],
   "source": [
    "numbers=(1, 2, 3, 4, 5, 6, 7, 8, 9, 10)\n",
    "print(\"Given, tuple: \\n\", numbers)\n",
    "sq=[]\n",
    "for i in numbers: \n",
    "    sq.append(pow(i, 2))\n",
    "result=tuple(sq)\n",
    "print(\"Square of Numbers from 1 to 10 are: \\n\", result)"
   ]
  }
 ],
 "metadata": {
  "kernelspec": {
   "display_name": "base",
   "language": "python",
   "name": "python3"
  },
  "language_info": {
   "codemirror_mode": {
    "name": "ipython",
    "version": 3
   },
   "file_extension": ".py",
   "mimetype": "text/x-python",
   "name": "python",
   "nbconvert_exporter": "python",
   "pygments_lexer": "ipython3",
   "version": "3.12.4"
  }
 },
 "nbformat": 4,
 "nbformat_minor": 2
}
