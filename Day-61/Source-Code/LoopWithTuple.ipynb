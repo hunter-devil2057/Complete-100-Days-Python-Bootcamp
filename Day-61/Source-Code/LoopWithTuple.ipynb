{
 "cells": [
  {
   "cell_type": "markdown",
   "metadata": {},
   "source": [
    "**Loop with Python Tuple**\n",
    "- Using loop with Tuple, we can iterate one by one items of a tuple. \n",
    "- We can check all the items, one by one to get required items in different ways. "
   ]
  },
  {
   "cell_type": "markdown",
   "metadata": {},
   "source": [
    "**Examples:**\n",
    "- Finding specific student name in a student that stored in tuple. \n",
    "- Getting EVEN numbers from tuple which contain numbers. \n",
    "- Getting ODD numbers from tuple which contain numbers. \n",
    "- Analyzing different items from a tuple. \n",
    "- Perform different operations to a specific item in a tuple. "
   ]
  },
  {
   "cell_type": "markdown",
   "metadata": {},
   "source": [
    "**Example:**"
   ]
  },
  {
   "cell_type": "code",
   "execution_count": 1,
   "metadata": {},
   "outputs": [
    {
     "name": "stdout",
     "output_type": "stream",
     "text": [
      "Python\n",
      "C++\n",
      "JavaScript\n",
      "C\n",
      "Java\n",
      "HTML\n"
     ]
    }
   ],
   "source": [
    "language=(\"Python\", \"C++\", \"JavaScript\", \"C\", \"Java\", \"HTML\")\n",
    "for i in language: \n",
    "    print(i)"
   ]
  },
  {
   "cell_type": "markdown",
   "metadata": {},
   "source": [
    "**Use of Loop with Tuple:** \n",
    "- Using loop, we can analyze all the items or elements of a tuple\n",
    "- Using loop, we can display all the items to screen. \n",
    "- Using loop, we can find any specific items or element from a Tuple. \n",
    "- A lots of problem can be solved using loop with tuple. "
   ]
  },
  {
   "cell_type": "markdown",
   "metadata": {},
   "source": [
    "**Changing Element While Using Loop with Tuple**"
   ]
  },
  {
   "cell_type": "code",
   "execution_count": 2,
   "metadata": {},
   "outputs": [],
   "source": [
    "language=(3, 5, 1, 51, 6, 7, 8, 12)"
   ]
  },
  {
   "cell_type": "markdown",
   "metadata": {},
   "source": [
    "Displaying Element:"
   ]
  },
  {
   "cell_type": "code",
   "execution_count": 3,
   "metadata": {},
   "outputs": [
    {
     "name": "stdout",
     "output_type": "stream",
     "text": [
      "3\n",
      "5\n",
      "1\n",
      "51\n",
      "6\n",
      "7\n",
      "8\n",
      "12\n"
     ]
    }
   ],
   "source": [
    "for i in language: \n",
    "    print(i)"
   ]
  },
  {
   "cell_type": "markdown",
   "metadata": {},
   "source": [
    "Changing Element:"
   ]
  },
  {
   "cell_type": "code",
   "execution_count": 5,
   "metadata": {},
   "outputs": [
    {
     "ename": "TypeError",
     "evalue": "'tuple' object does not support item assignment",
     "output_type": "error",
     "traceback": [
      "\u001b[1;31m---------------------------------------------------------------------------\u001b[0m",
      "\u001b[1;31mTypeError\u001b[0m                                 Traceback (most recent call last)",
      "Cell \u001b[1;32mIn[5], line 3\u001b[0m\n\u001b[0;32m      1\u001b[0m \u001b[38;5;28;01mfor\u001b[39;00m i \u001b[38;5;129;01min\u001b[39;00m language: \n\u001b[0;32m      2\u001b[0m     \u001b[38;5;28;01mif\u001b[39;00m i\u001b[38;5;241m==\u001b[39m\u001b[38;5;241m3\u001b[39m:\n\u001b[1;32m----> 3\u001b[0m         \u001b[43mlanguage\u001b[49m\u001b[43m[\u001b[49m\u001b[43mi\u001b[49m\u001b[43m]\u001b[49m\u001b[38;5;241m=\u001b[39m\u001b[38;5;241m4\u001b[39m   \u001b[38;5;66;03m#throws an error\u001b[39;00m\n",
      "\u001b[1;31mTypeError\u001b[0m: 'tuple' object does not support item assignment"
     ]
    }
   ],
   "source": [
    "for i in language: \n",
    "    if i==3:\n",
    "        language[i]=4   #throws an error"
   ]
  },
  {
   "cell_type": "code",
   "execution_count": 7,
   "metadata": {},
   "outputs": [
    {
     "name": "stdout",
     "output_type": "stream",
     "text": [
      "Colors Starting with \"g\" are:  ['gray', 'green']\n"
     ]
    }
   ],
   "source": [
    "gStart=[]\n",
    "tple=(\"red\", \"gray\", \"green\", \"brown\", \"white\", \"black\")\n",
    "for i in tple: \n",
    "    if i.startswith(\"g\"):\n",
    "        gStart.append(i)\n",
    "print(\"Colors Starting with \\\"g\\\" are: \", gStart)"
   ]
  },
  {
   "cell_type": "code",
   "execution_count": 8,
   "metadata": {},
   "outputs": [
    {
     "name": "stdout",
     "output_type": "stream",
     "text": [
      "RED\n",
      "GRAY\n",
      "GREEN\n",
      "BROWN\n",
      "WHITE\n",
      "BLACK\n"
     ]
    }
   ],
   "source": [
    "tple=(\"red\", \"gray\", \"green\", \"brown\", \"white\", \"black\")\n",
    "for i in tple: \n",
    "    print(i.upper())"
   ]
  }
 ],
 "metadata": {
  "kernelspec": {
   "display_name": "base",
   "language": "python",
   "name": "python3"
  },
  "language_info": {
   "codemirror_mode": {
    "name": "ipython",
    "version": 3
   },
   "file_extension": ".py",
   "mimetype": "text/x-python",
   "name": "python",
   "nbconvert_exporter": "python",
   "pygments_lexer": "ipython3",
   "version": "3.12.4"
  }
 },
 "nbformat": 4,
 "nbformat_minor": 2
}
