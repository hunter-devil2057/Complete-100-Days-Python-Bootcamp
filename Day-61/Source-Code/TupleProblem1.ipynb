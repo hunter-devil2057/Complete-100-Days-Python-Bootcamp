{
 "cells": [
  {
   "cell_type": "markdown",
   "metadata": {},
   "source": [
    "Write a Python program to get 5 any word from User, iterate that Tuple to display only those word name that ends with \"n\". "
   ]
  },
  {
   "cell_type": "code",
   "execution_count": 5,
   "metadata": {},
   "outputs": [
    {
     "name": "stdout",
     "output_type": "stream",
     "text": [
      "Words you have entered:  ('man', 'fan', 'ban', 'hari', 'sita')\n",
      "Words ending with \"n\":  ('man', 'fan', 'ban')\n"
     ]
    }
   ],
   "source": [
    "word=[]\n",
    "for i in range(5):\n",
    "    word.append(input(\"Enter a Word: \"))\n",
    "tple=tuple(word)    #converting list to word\n",
    "print(\"Words you have entered: \", tple)\n",
    "lst=[]\n",
    "for i in tple: \n",
    "    if i.endswith('n'):\n",
    "        lst.append(i)\n",
    "lsttup=tuple(lst)\n",
    "print(\"Words ending with \\\"n\\\": \", lsttup)"
   ]
  }
 ],
 "metadata": {
  "kernelspec": {
   "display_name": "base",
   "language": "python",
   "name": "python3"
  },
  "language_info": {
   "codemirror_mode": {
    "name": "ipython",
    "version": 3
   },
   "file_extension": ".py",
   "mimetype": "text/x-python",
   "name": "python",
   "nbconvert_exporter": "python",
   "pygments_lexer": "ipython3",
   "version": "3.12.4"
  }
 },
 "nbformat": 4,
 "nbformat_minor": 2
}
