{
 "cells": [
  {
   "cell_type": "markdown",
   "metadata": {},
   "source": [
    "Write a Python program to get 10 number from the User, display number that is divisible by 2 and 3. "
   ]
  },
  {
   "cell_type": "code",
   "execution_count": 6,
   "metadata": {},
   "outputs": [
    {
     "name": "stdout",
     "output_type": "stream",
     "text": [
      "Entered Numbers:  (12, 22, 23, 24, 26, 81, 32, 79, 69, 96)\n",
      "Multiplication of 2:  (12, 22, 24, 26, 32, 96)\n",
      "Multiplication of 3:  (12, 24, 81, 69, 96)\n"
     ]
    }
   ],
   "source": [
    "num=[]\n",
    "for i in range(10):\n",
    "    num.append(int(input(\"Enter a Number: \")))\n",
    "numTuple=tuple(num)\n",
    "print(\"Entered Numbers: \", numTuple)\n",
    "mul2=[]\n",
    "mul3=[]\n",
    "for i in numTuple: \n",
    "    if i%2==0:\n",
    "        mul2.append(i)\n",
    "    if i%3==0:\n",
    "        mul3.append(i)\n",
    "tup2=tuple(mul2)\n",
    "tup3=tuple(mul3)\n",
    "print(\"Multiplication of 2: \", tup2)\n",
    "print(\"Multiplication of 3: \", tup3)"
   ]
  },
  {
   "cell_type": "code",
   "execution_count": null,
   "metadata": {},
   "outputs": [],
   "source": []
  }
 ],
 "metadata": {
  "kernelspec": {
   "display_name": "base",
   "language": "python",
   "name": "python3"
  },
  "language_info": {
   "codemirror_mode": {
    "name": "ipython",
    "version": 3
   },
   "file_extension": ".py",
   "mimetype": "text/x-python",
   "name": "python",
   "nbconvert_exporter": "python",
   "pygments_lexer": "ipython3",
   "version": "3.12.4"
  }
 },
 "nbformat": 4,
 "nbformat_minor": 2
}
