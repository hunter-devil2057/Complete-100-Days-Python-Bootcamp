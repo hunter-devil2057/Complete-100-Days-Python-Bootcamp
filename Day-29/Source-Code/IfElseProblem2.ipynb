{
 "cells": [
  {
   "cell_type": "markdown",
   "metadata": {},
   "source": [
    "Write a Python program to get Age and Name of Student and Display Age and Name of the user. If Age is greater than 18, otherwise a Error Message should be displayed. "
   ]
  },
  {
   "cell_type": "code",
   "execution_count": 1,
   "metadata": {},
   "outputs": [
    {
     "name": "stdout",
     "output_type": "stream",
     "text": [
      "Your age is : 21\n",
      "Your name is Manish\n"
     ]
    }
   ],
   "source": [
    "age = int(input(\"Enter a age \"))\n",
    "name = input(\"Enter your name\")\n",
    "\n",
    "if age > 18:\n",
    "    print(\"Your age is : \"+str(age))\n",
    "    print(\"Your name is \"+name)\n",
    "else:\n",
    "    print(\"Sorry, your age is less than 18\")\n"
   ]
  }
 ],
 "metadata": {
  "kernelspec": {
   "display_name": "base",
   "language": "python",
   "name": "python3"
  },
  "language_info": {
   "codemirror_mode": {
    "name": "ipython",
    "version": 3
   },
   "file_extension": ".py",
   "mimetype": "text/x-python",
   "name": "python",
   "nbconvert_exporter": "python",
   "pygments_lexer": "ipython3",
   "version": "3.12.4"
  }
 },
 "nbformat": 4,
 "nbformat_minor": 2
}
