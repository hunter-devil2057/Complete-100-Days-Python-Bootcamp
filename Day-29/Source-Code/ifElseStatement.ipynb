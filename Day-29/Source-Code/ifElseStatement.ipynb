{
 "cells": [
  {
   "cell_type": "markdown",
   "metadata": {},
   "source": [
    "If-else Statement in Python \n",
    "- It take a condition, if condition is true, then it execute a statement or set of statement. \n",
    "- If condition is false, it will display a false like statement or set of statement."
   ]
  },
  {
   "cell_type": "markdown",
   "metadata": {},
   "source": [
    "Syntax: \n",
    "- if(expression/condition):\n",
    "    - Statement or Set of Statement\n",
    "- else: \n",
    "    - Statement or Set of Statement"
   ]
  },
  {
   "cell_type": "code",
   "execution_count": 1,
   "metadata": {},
   "outputs": [
    {
     "name": "stdout",
     "output_type": "stream",
     "text": [
      "Qualified...\n"
     ]
    }
   ],
   "source": [
    "marks = 89\n",
    "if (marks > 30):\n",
    "    print(\"Qualified...\")\n",
    "else:\n",
    "    print(\"sorry!\")"
   ]
  },
  {
   "cell_type": "code",
   "execution_count": 2,
   "metadata": {},
   "outputs": [
    {
     "name": "stdout",
     "output_type": "stream",
     "text": [
      "Your name is manish\n"
     ]
    }
   ],
   "source": [
    "name = \"manish\"\n",
    "if name == 'manish':\n",
    "    print(\"Your name is manish\")\n",
    "else:\n",
    "    print(\"Not manish\")"
   ]
  }
 ],
 "metadata": {
  "kernelspec": {
   "display_name": "base",
   "language": "python",
   "name": "python3"
  },
  "language_info": {
   "codemirror_mode": {
    "name": "ipython",
    "version": 3
   },
   "file_extension": ".py",
   "mimetype": "text/x-python",
   "name": "python",
   "nbconvert_exporter": "python",
   "pygments_lexer": "ipython3",
   "version": "3.12.4"
  }
 },
 "nbformat": 4,
 "nbformat_minor": 2
}
