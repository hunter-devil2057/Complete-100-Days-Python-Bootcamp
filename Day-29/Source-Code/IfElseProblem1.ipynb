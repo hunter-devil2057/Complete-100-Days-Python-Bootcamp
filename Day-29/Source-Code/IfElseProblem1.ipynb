{
 "cells": [
  {
   "cell_type": "markdown",
   "metadata": {},
   "source": [
    "Write a Python program to get a number from User Display a Message \"Number is Even\" If Number is Even. Otherwise, display a message \"Number is Odd\". "
   ]
  },
  {
   "cell_type": "code",
   "execution_count": 1,
   "metadata": {},
   "outputs": [
    {
     "name": "stdout",
     "output_type": "stream",
     "text": [
      "21 is odd number\n"
     ]
    }
   ],
   "source": [
    "num = int(input(\"Enter a number to check whether it is even or odd\")) # 10%2\n",
    "if (num%2 == 0):\n",
    "    print(str(num)+\" is even number\")\n",
    "else:\n",
    "    print(str(num)+\" is odd number\")"
   ]
  }
 ],
 "metadata": {
  "kernelspec": {
   "display_name": "base",
   "language": "python",
   "name": "python3"
  },
  "language_info": {
   "codemirror_mode": {
    "name": "ipython",
    "version": 3
   },
   "file_extension": ".py",
   "mimetype": "text/x-python",
   "name": "python",
   "nbconvert_exporter": "python",
   "pygments_lexer": "ipython3",
   "version": "3.12.4"
  }
 },
 "nbformat": 4,
 "nbformat_minor": 2
}
