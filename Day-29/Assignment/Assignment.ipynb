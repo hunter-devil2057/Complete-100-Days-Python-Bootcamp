{
 "cells": [
  {
   "cell_type": "markdown",
   "metadata": {},
   "source": [
    "1. Prompt the user to enter a number.\n",
    "2. Check if the number is positive, negative, or zero.\n",
    "3. Print the appropriate message accordingly."
   ]
  },
  {
   "cell_type": "code",
   "execution_count": 3,
   "metadata": {},
   "outputs": [
    {
     "name": "stdout",
     "output_type": "stream",
     "text": [
      "-12\n",
      "Number is Negative.\n"
     ]
    }
   ],
   "source": [
    "num=int(input(\"Enter a Number: \"))\n",
    "print(num)\n",
    "if(num>0):\n",
    "    print(\"Number is Positive.\")\n",
    "elif(num<0):\n",
    "    print(\"Number is Negative.\")\n",
    "else:\n",
    "    print(\"Number is Zero\")"
   ]
  }
 ],
 "metadata": {
  "kernelspec": {
   "display_name": "base",
   "language": "python",
   "name": "python3"
  },
  "language_info": {
   "codemirror_mode": {
    "name": "ipython",
    "version": 3
   },
   "file_extension": ".py",
   "mimetype": "text/x-python",
   "name": "python",
   "nbconvert_exporter": "python",
   "pygments_lexer": "ipython3",
   "version": "3.12.4"
  }
 },
 "nbformat": 4,
 "nbformat_minor": 2
}
