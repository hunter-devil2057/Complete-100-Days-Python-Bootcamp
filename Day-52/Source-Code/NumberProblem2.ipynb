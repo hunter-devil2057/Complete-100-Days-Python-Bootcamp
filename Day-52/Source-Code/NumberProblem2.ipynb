{
 "cells": [
  {
   "cell_type": "markdown",
   "metadata": {},
   "source": [
    "Write a Python program to get two number from user to find their power with 3 and find sum of both answer. "
   ]
  },
  {
   "cell_type": "code",
   "execution_count": 2,
   "metadata": {},
   "outputs": [
    {
     "name": "stdout",
     "output_type": "stream",
     "text": [
      "2^3=8\n",
      "3^3=27\n",
      "Result= 35\n"
     ]
    }
   ],
   "source": [
    "num1=int(input(\"Enter First Number: \"))\n",
    "num2=int(input(\"Enter Second Number: \"))\n",
    "pow1=pow(num1, 3)\n",
    "print(f\"{num1}^3={pow1}\")\n",
    "pow2=pow(num2, 3)\n",
    "print(f\"{num2}^3={pow2}\")\n",
    "result=pow1+pow2\n",
    "print(\"Result=\", result)"
   ]
  }
 ],
 "metadata": {
  "kernelspec": {
   "display_name": "Python 3",
   "language": "python",
   "name": "python3"
  },
  "language_info": {
   "codemirror_mode": {
    "name": "ipython",
    "version": 3
   },
   "file_extension": ".py",
   "mimetype": "text/x-python",
   "name": "python",
   "nbconvert_exporter": "python",
   "pygments_lexer": "ipython3",
   "version": "3.12.4"
  }
 },
 "nbformat": 4,
 "nbformat_minor": 2
}
