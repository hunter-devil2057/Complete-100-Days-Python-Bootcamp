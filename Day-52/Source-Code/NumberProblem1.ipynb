{
 "cells": [
  {
   "cell_type": "markdown",
   "metadata": {},
   "source": [
    "Write a Python program to get a number from user to find square root of that number and again find the square root of answer then add with previous answer. Result display to user."
   ]
  },
  {
   "cell_type": "code",
   "execution_count": 5,
   "metadata": {},
   "outputs": [
    {
     "name": "stdout",
     "output_type": "stream",
     "text": [
      "Square Root of 16.0=4.0\n",
      "Square Root of 4.0=2.0\n",
      "4.0+2.0=6.0\n"
     ]
    }
   ],
   "source": [
    "import math\n",
    "num=float(input(\"Enter a Number:\"))\n",
    "sqRoot1=math.sqrt(num)\n",
    "print(f\"Square Root of {num}={sqRoot1}\")\n",
    "sqRoot2=math.sqrt(sqRoot1)\n",
    "print(f\"Square Root of {sqRoot1}={sqRoot2}\")\n",
    "result=sqRoot1+sqRoot2\n",
    "print(f\"{sqRoot1}+{sqRoot2}={result}\")"
   ]
  }
 ],
 "metadata": {
  "kernelspec": {
   "display_name": "Python 3",
   "language": "python",
   "name": "python3"
  },
  "language_info": {
   "codemirror_mode": {
    "name": "ipython",
    "version": 3
   },
   "file_extension": ".py",
   "mimetype": "text/x-python",
   "name": "python",
   "nbconvert_exporter": "python",
   "pygments_lexer": "ipython3",
   "version": "3.12.6"
  }
 },
 "nbformat": 4,
 "nbformat_minor": 2
}
