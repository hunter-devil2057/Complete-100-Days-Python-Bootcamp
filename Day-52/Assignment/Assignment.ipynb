{
 "cells": [
  {
   "cell_type": "markdown",
   "metadata": {},
   "source": [
    "1. Prompt the user to enter three numbers separated by spaces. \n",
    "2. Find and print the maximum and minimum of the three numbers. \n",
    "3. Calculate and print the average of the three numbers. "
   ]
  },
  {
   "cell_type": "code",
   "execution_count": 2,
   "metadata": {},
   "outputs": [
    {
     "name": "stdout",
     "output_type": "stream",
     "text": [
      "num1 =  23 \n",
      "num2 =  32 \n",
      "num3 =  13\n",
      "Maximum Number: 32\n",
      "Minimum Number: 13\n"
     ]
    }
   ],
   "source": [
    "numbers=input(\"Enter Three Numbers Separated By a Space: \")\n",
    "num1, num2, num3=numbers.split()  #splitting the number by space\n",
    "num1=int(num1)  \n",
    "num2=int(num2)\n",
    "num3=int(num3)\n",
    "print(\"num1 = \", num1,\"\\nnum2 = \", num2,\"\\nnum3 = \", num3)\n",
    "maxNum=max(num1, num2, num3)\n",
    "minNum=min(num1, num2, num3)\n",
    "print(f\"Maximum Number: {maxNum}\")\n",
    "print(f\"Minimum Number: {minNum}\")"
   ]
  }
 ],
 "metadata": {
  "kernelspec": {
   "display_name": "base",
   "language": "python",
   "name": "python3"
  },
  "language_info": {
   "codemirror_mode": {
    "name": "ipython",
    "version": 3
   },
   "file_extension": ".py",
   "mimetype": "text/x-python",
   "name": "python",
   "nbconvert_exporter": "python",
   "pygments_lexer": "ipython3",
   "version": "3.12.4"
  }
 },
 "nbformat": 4,
 "nbformat_minor": 2
}
