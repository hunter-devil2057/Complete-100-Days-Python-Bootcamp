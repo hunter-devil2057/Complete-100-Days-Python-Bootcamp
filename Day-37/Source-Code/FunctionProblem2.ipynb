{
 "cells": [
  {
   "cell_type": "markdown",
   "metadata": {},
   "source": [
    "Write a program to get a number from user to display table for that number in reverse mode. "
   ]
  },
  {
   "cell_type": "code",
   "execution_count": 3,
   "metadata": {},
   "outputs": [
    {
     "name": "stdout",
     "output_type": "stream",
     "text": [
      "12*10=120\n",
      "12*9=108\n",
      "12*8=96\n",
      "12*7=84\n",
      "12*6=72\n",
      "12*5=60\n",
      "12*4=48\n",
      "12*3=36\n",
      "12*2=24\n",
      "12*1=12\n"
     ]
    }
   ],
   "source": [
    "def Table(num):\n",
    "    for i in range(10, 0, -1):\n",
    "        product=num*i\n",
    "        print(f\"{num}*{i}={product}\")\n",
    "num=int(input(\"Enter a Number: \"))\n",
    "Table(num)"
   ]
  }
 ],
 "metadata": {
  "kernelspec": {
   "display_name": "base",
   "language": "python",
   "name": "python3"
  },
  "language_info": {
   "codemirror_mode": {
    "name": "ipython",
    "version": 3
   },
   "file_extension": ".py",
   "mimetype": "text/x-python",
   "name": "python",
   "nbconvert_exporter": "python",
   "pygments_lexer": "ipython3",
   "version": "3.12.4"
  }
 },
 "nbformat": 4,
 "nbformat_minor": 2
}
