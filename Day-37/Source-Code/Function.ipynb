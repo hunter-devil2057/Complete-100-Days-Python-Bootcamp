{
 "cells": [
  {
   "cell_type": "markdown",
   "metadata": {},
   "source": [
    "**Function**\n",
    "- **Function** is the important one way to enclose any functionality in programming language. \n",
    "- To perform a specific code, or to get required specific functionality we use function. \n",
    "- We make function one time, and use in anywhere many time as we want. \n",
    "- Recommended to use function to enclose any functionality\n"
   ]
  },
  {
   "cell_type": "markdown",
   "metadata": {},
   "source": [
    "**Advantages:**\n",
    "- It saves time of writing code again and again. \n",
    "- It increases readability. \n",
    "- Code length become very short."
   ]
  },
  {
   "cell_type": "markdown",
   "metadata": {},
   "source": [
    "**Function Examples**\n",
    "- To finding greatest number among 4\n",
    "- To display table of any number\n",
    "- To display user name in uppercase\n",
    "- To finding sin, cos and tan value in radian\n",
    "- Function to make Admission for student\n",
    "- Function which work for deleting a student \n",
    "- Function which work for updating a student \n",
    "- Function which work for reading a student information"
   ]
  },
  {
   "cell_type": "markdown",
   "metadata": {},
   "source": [
    "**How to Create Function in Python**\n",
    "- Syntax: \n",
    "    - **def** FunctionName( ):\n",
    "        - Set of Statements"
   ]
  },
  {
   "cell_type": "markdown",
   "metadata": {},
   "source": [
    "**How to Call a Function in Python?**\n",
    "- Without calling a function, we cannot execute code inside the function. \n",
    "- To call a function, write function name with parentheses outside the function body.\n"
   ]
  },
  {
   "cell_type": "code",
   "execution_count": 2,
   "metadata": {},
   "outputs": [
    {
     "name": "stdout",
     "output_type": "stream",
     "text": [
      "Hello, World\n"
     ]
    }
   ],
   "source": [
    "def functionName():\n",
    "    print(\"Hello, World\")\n",
    "functionName()      #Calling a Function"
   ]
  },
  {
   "cell_type": "code",
   "execution_count": 7,
   "metadata": {},
   "outputs": [
    {
     "name": "stdout",
     "output_type": "stream",
     "text": [
      "How are you\n",
      "Your name is: Manish\n",
      "12\n"
     ]
    }
   ],
   "source": [
    "def Test(n, name):\n",
    "    print(\"How are you\")\n",
    "    print(\"Your name is: \"+name)\n",
    "    print(n)\n",
    "num=int(input(\"Enter a Number: \"))\n",
    "name=input(\"Enter your name: \")\n",
    "Test(num, name)"
   ]
  }
 ],
 "metadata": {
  "kernelspec": {
   "display_name": "base",
   "language": "python",
   "name": "python3"
  },
  "language_info": {
   "codemirror_mode": {
    "name": "ipython",
    "version": 3
   },
   "file_extension": ".py",
   "mimetype": "text/x-python",
   "name": "python",
   "nbconvert_exporter": "python",
   "pygments_lexer": "ipython3",
   "version": "3.12.4"
  }
 },
 "nbformat": 4,
 "nbformat_minor": 2
}
