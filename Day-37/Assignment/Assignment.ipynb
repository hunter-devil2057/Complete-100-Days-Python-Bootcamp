{
 "cells": [
  {
   "cell_type": "markdown",
   "metadata": {},
   "source": [
    "1. Define a function named 'calculate_area' that takes two parameters 'length' and 'width'.\n",
    "2. Inside the function, calculate the area of a rectangle using the formula: 'area = length * width'.\n",
    "3. Return the calculated area.\n",
    "4. Prompt the user to enter the length and width of a rectangle.\n",
    "5. Call the 'calculate_area' function with the user input as arguments and print the result."
   ]
  },
  {
   "cell_type": "code",
   "execution_count": 1,
   "metadata": {},
   "outputs": [
    {
     "data": {
      "text/plain": [
       "120"
      ]
     },
     "execution_count": 1,
     "metadata": {},
     "output_type": "execute_result"
    }
   ],
   "source": [
    "def calculate_area(length, width):\n",
    "    area=length*width\n",
    "    return area\n",
    "\n",
    "length=int(input(\"Enter Length:\"))\n",
    "width=int(input(\"Enter Width:\"))\n",
    "calculate_area(length, width)"
   ]
  }
 ],
 "metadata": {
  "kernelspec": {
   "display_name": "base",
   "language": "python",
   "name": "python3"
  },
  "language_info": {
   "codemirror_mode": {
    "name": "ipython",
    "version": 3
   },
   "file_extension": ".py",
   "mimetype": "text/x-python",
   "name": "python",
   "nbconvert_exporter": "python",
   "pygments_lexer": "ipython3",
   "version": "3.12.4"
  }
 },
 "nbformat": 4,
 "nbformat_minor": 2
}
