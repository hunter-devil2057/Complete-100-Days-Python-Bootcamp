{
 "cells": [
  {
   "cell_type": "markdown",
   "metadata": {},
   "source": [
    "Write a Python program to get 5 any words from the user, and display that word which ends at 'n' character. "
   ]
  },
  {
   "cell_type": "code",
   "execution_count": 10,
   "metadata": {},
   "outputs": [
    {
     "name": "stdout",
     "output_type": "stream",
     "text": [
      "['ran', 'can', 'ban']\n"
     ]
    }
   ],
   "source": [
    "# Creating an Empty List\n",
    "word=[]\n",
    "\n",
    "for i in range(5):\n",
    "    word.append(input(\"Enter any Word: \"))\n",
    "endWord=[]\n",
    "for i in word: \n",
    "    if i.endswith('n'):\n",
    "        endWord.append(i)\n",
    "print(endWord)"
   ]
  }
 ],
 "metadata": {
  "kernelspec": {
   "display_name": "base",
   "language": "python",
   "name": "python3"
  },
  "language_info": {
   "codemirror_mode": {
    "name": "ipython",
    "version": 3
   },
   "file_extension": ".py",
   "mimetype": "text/x-python",
   "name": "python",
   "nbconvert_exporter": "python",
   "pygments_lexer": "ipython3",
   "version": "3.12.4"
  }
 },
 "nbformat": 4,
 "nbformat_minor": 2
}
