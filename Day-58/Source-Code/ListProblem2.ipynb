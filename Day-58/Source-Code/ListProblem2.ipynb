{
 "cells": [
  {
   "cell_type": "markdown",
   "metadata": {},
   "source": [
    "Write a Python program to get 5 integer number from user and store in a list, display that number usign for loop, every number should display with its square. "
   ]
  },
  {
   "cell_type": "code",
   "execution_count": 2,
   "metadata": {},
   "outputs": [
    {
     "name": "stdout",
     "output_type": "stream",
     "text": [
      "34 have square is: = 1156\n",
      "12 have square is: = 144\n",
      "14 have square is: = 196\n",
      "87 have square is: = 7569\n",
      "78 have square is: = 6084\n"
     ]
    }
   ],
   "source": [
    "num=[]\n",
    "for i in range(5):\n",
    "    num.append(int(input(\"Enter a Number: \")))\n",
    "for i in num:\n",
    "    sq=i**2\n",
    "    print(f\"{i} have square is: = {sq}\")"
   ]
  }
 ],
 "metadata": {
  "kernelspec": {
   "display_name": "base",
   "language": "python",
   "name": "python3"
  },
  "language_info": {
   "codemirror_mode": {
    "name": "ipython",
    "version": 3
   },
   "file_extension": ".py",
   "mimetype": "text/x-python",
   "name": "python",
   "nbconvert_exporter": "python",
   "pygments_lexer": "ipython3",
   "version": "3.12.4"
  }
 },
 "nbformat": 4,
 "nbformat_minor": 2
}
