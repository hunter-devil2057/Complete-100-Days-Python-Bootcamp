{
 "cells": [
  {
   "cell_type": "markdown",
   "metadata": {},
   "source": [
    "Write a Python program to get 5 items from user to store in a list. User should be able to remove first item of the list. "
   ]
  },
  {
   "cell_type": "code",
   "execution_count": 3,
   "metadata": {},
   "outputs": [
    {
     "name": "stdout",
     "output_type": "stream",
     "text": [
      "Old List:  ['120', '41', '63', '23', '94']\n",
      "Updated List:  ['41', '63', '23', '94']\n"
     ]
    }
   ],
   "source": [
    "lst=[]\n",
    "for i in range(5):\n",
    "    lst.append(input(\"Enter an Item: \"))\n",
    "print(\"Old List: \", lst)\n",
    "s=input(\"Type \\\"yes\\\" to delete first Item:\").lower()\n",
    "if s=='yes':\n",
    "    lst.pop(0)\n",
    "    print(\"Updated List: \", lst)\n",
    "else:\n",
    "    print(\"Please do type yes!!!\")\n"
   ]
  }
 ],
 "metadata": {
  "kernelspec": {
   "display_name": "base",
   "language": "python",
   "name": "python3"
  },
  "language_info": {
   "codemirror_mode": {
    "name": "ipython",
    "version": 3
   },
   "file_extension": ".py",
   "mimetype": "text/x-python",
   "name": "python",
   "nbconvert_exporter": "python",
   "pygments_lexer": "ipython3",
   "version": "3.12.4"
  }
 },
 "nbformat": 4,
 "nbformat_minor": 2
}
