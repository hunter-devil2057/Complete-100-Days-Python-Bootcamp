{
 "cells": [
  {
   "cell_type": "markdown",
   "metadata": {},
   "source": [
    "1. Prompt the user to enter two numbers separated by a space. \n",
    "2. Calculate and print the sum, difference, product and quotient of the two numbers. "
   ]
  },
  {
   "cell_type": "code",
   "execution_count": 5,
   "metadata": {},
   "outputs": [
    {
     "name": "stdout",
     "output_type": "stream",
     "text": [
      "num1=21\n",
      "num2=12\n",
      "21+12=33\n",
      "21-12=9\n",
      "21*12=252\n",
      "21/12=1.75\n"
     ]
    }
   ],
   "source": [
    "# Receiving number from the User\n",
    "numInput=input(\"Enter two numbers separated by spaces: \")\n",
    "\n",
    "# Splitting the number(as a string) on the basis of space. \n",
    "num1, num2=numInput.split()\n",
    "\n",
    "# Converting the number into integer\n",
    "num1=int(num1)\n",
    "num2=int(num2)\n",
    "\n",
    "print(f\"num1={num1}\\nnum2={num2}\")\n",
    "\n",
    "sum=num1+num2\n",
    "print(f\"{num1}+{num2}={sum}\")\n",
    "\n",
    "difference=num1-num2\n",
    "print(f\"{num1}-{num2}={difference}\")\n",
    "\n",
    "product=num1*num2\n",
    "print(f\"{num1}*{num2}={product}\")\n",
    "\n",
    "quotient=num1/num2\n",
    "print(f\"{num1}/{num2}={quotient}\")"
   ]
  }
 ],
 "metadata": {
  "kernelspec": {
   "display_name": "base",
   "language": "python",
   "name": "python3"
  },
  "language_info": {
   "codemirror_mode": {
    "name": "ipython",
    "version": 3
   },
   "file_extension": ".py",
   "mimetype": "text/x-python",
   "name": "python",
   "nbconvert_exporter": "python",
   "pygments_lexer": "ipython3",
   "version": "3.12.4"
  }
 },
 "nbformat": 4,
 "nbformat_minor": 2
}
