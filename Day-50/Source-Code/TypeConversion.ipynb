{
 "cells": [
  {
   "cell_type": "markdown",
   "metadata": {},
   "source": [
    "**Convert One Data Type to Another**\n",
    "- **int(y):** We can convert float data type into int data type. \n",
    "- **float(y):** We can convert int data type into float data type. \n",
    "- **complex(x)**: We can convert int or float to complex data type but we cannot convert complex data type to int or float, you will get type error. "
   ]
  },
  {
   "cell_type": "code",
   "execution_count": 7,
   "metadata": {},
   "outputs": [
    {
     "name": "stdout",
     "output_type": "stream",
     "text": [
      "84\n",
      "84.0\n",
      "<class 'float'>\n",
      "344.43\n",
      "<class 'float'>\n",
      "(3+7j)\n",
      "<class 'complex'>\n",
      "(43+0j)\n",
      "<class 'complex'>\n"
     ]
    }
   ],
   "source": [
    "a=84\n",
    "print(a)\n",
    "newA=float(a)\n",
    "print(newA)\n",
    "print(type(newA))\n",
    "\n",
    "b=344.43\n",
    "print(b)\n",
    "new_b=int(b)\n",
    "print(type(b))\n",
    "\n",
    "c=3+7j\n",
    "print(c)\n",
    "print(type(c))\n",
    "# new_c=float(c)\n",
    "# print(new_c)\n",
    "\n",
    "d=43\n",
    "newD=complex(d)\n",
    "print(newD)\n",
    "print(type(newD))"
   ]
  }
 ],
 "metadata": {
  "kernelspec": {
   "display_name": "base",
   "language": "python",
   "name": "python3"
  },
  "language_info": {
   "codemirror_mode": {
    "name": "ipython",
    "version": 3
   },
   "file_extension": ".py",
   "mimetype": "text/x-python",
   "name": "python",
   "nbconvert_exporter": "python",
   "pygments_lexer": "ipython3",
   "version": "3.12.4"
  }
 },
 "nbformat": 4,
 "nbformat_minor": 2
}
