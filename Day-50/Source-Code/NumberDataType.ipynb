{
 "cells": [
  {
   "cell_type": "markdown",
   "metadata": {},
   "source": [
    "**Introduction to Python Number Data Type**\n",
    "- We can work with number in Python like 439, 43.34, -23, etc. \n",
    "- Immutable Data Type (cannot change after creating)\n",
    "- There are different number data types used in Python like: \n",
    "    - **int**\n",
    "    - **float**\n",
    "    - **complex**\n",
    "- Using number data types, we can work with mathematical or engineering related problems to solve. \n",
    "- Using number data type, we can develop calculating type of system. "
   ]
  },
  {
   "cell_type": "markdown",
   "metadata": {},
   "source": [
    "**Different Number Data Type in Python**\n",
    "- **int**\n",
    "    - Whole Number\n",
    "    - Positive or Negative Number\n",
    "    - **Example:** 23, 434, -34, -1334, etc.\n",
    "- **float** \n",
    "    - Fraction Number\n",
    "    - Pointing NUmber\n",
    "    - E Power Number\n",
    "    - **Example:** 23.434, -544.43, 3.4x10^32\n",
    "- **Complex**\n",
    "    - The numebr in the form of x+yj\n",
    "    - Where, x is the real part, and yj is the imaginary part.\n",
    "    - **Example:** 3+3j"
   ]
  },
  {
   "cell_type": "code",
   "execution_count": 3,
   "metadata": {},
   "outputs": [
    {
     "name": "stdout",
     "output_type": "stream",
     "text": [
      "<class 'int'>\n",
      "<class 'float'>\n",
      "<class 'float'>\n",
      "<class 'float'>\n",
      "<class 'complex'>\n"
     ]
    }
   ],
   "source": [
    "num=238\n",
    "num1=32.43\n",
    "sum=num+num1\n",
    "num2=-324.12\n",
    "num3=4+7j\n",
    "print(type(num))\n",
    "print(type(num1))\n",
    "print(type(sum))\n",
    "print(type(num2))\n",
    "print(type(num3))"
   ]
  }
 ],
 "metadata": {
  "kernelspec": {
   "display_name": "base",
   "language": "python",
   "name": "python3"
  },
  "language_info": {
   "codemirror_mode": {
    "name": "ipython",
    "version": 3
   },
   "file_extension": ".py",
   "mimetype": "text/x-python",
   "name": "python",
   "nbconvert_exporter": "python",
   "pygments_lexer": "ipython3",
   "version": "3.12.4"
  }
 },
 "nbformat": 4,
 "nbformat_minor": 2
}
