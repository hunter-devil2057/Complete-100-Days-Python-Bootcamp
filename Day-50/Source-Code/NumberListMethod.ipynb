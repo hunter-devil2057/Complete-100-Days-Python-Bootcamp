{
 "cells": [
  {
   "cell_type": "markdown",
   "metadata": {},
   "source": [
    "**List of Number Methods in Python**\n",
    "- abs(x)\n",
    "- ceil(x)\n",
    "- cmp(x, y)\n",
    "- exp(x)\n",
    "- fabs(x)\n",
    "- floor(x)\n",
    "- log(x)\n",
    "- log10(x)\n",
    "- max(x1, x2,...)\n",
    "- min(x1, x2,...)\n",
    "- modf(x)\n",
    "- pow(x, y)\n",
    "- round(x, [n])\n",
    "- sqrt(x)\n",
    "- choice(seq)\n",
    "- randrange ([start], [stop], [step])\n",
    "- random()\n",
    "- seed([x])\n",
    "- shuffle(lst)\n",
    "- uniform(x, y)"
   ]
  }
 ],
 "metadata": {
  "kernelspec": {
   "display_name": "base",
   "language": "python",
   "name": "python3"
  },
  "language_info": {
   "name": "python",
   "version": "3.12.4"
  }
 },
 "nbformat": 4,
 "nbformat_minor": 2
}
