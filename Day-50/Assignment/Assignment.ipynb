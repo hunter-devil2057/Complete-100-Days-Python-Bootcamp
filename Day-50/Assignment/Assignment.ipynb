{
 "cells": [
  {
   "cell_type": "markdown",
   "metadata": {},
   "source": [
    "1. Prompt the user to enter two numbers. \n",
    "2. Calculate and print the following: \n",
    "    - Sum of the two numbers\n",
    "    - Difference of the two numbers\n",
    "    - Product of the two numbers. \n",
    "    - Quotient of the two numbers (result of division)"
   ]
  },
  {
   "cell_type": "code",
   "execution_count": 1,
   "metadata": {},
   "outputs": [
    {
     "name": "stdout",
     "output_type": "stream",
     "text": [
      "num1=12\n",
      "num2=3\n",
      "12+3=15\n",
      "12-3=9\n",
      "12*3=36\n",
      "12/3=4.0\n"
     ]
    }
   ],
   "source": [
    "num1=int(input(\"Enter First Number: \"))\n",
    "num2=int(input(\"Enter Second Number: \"))\n",
    "print(f\"num1={num1}\\nnum2={num2}\")\n",
    "sum=num1+num2\n",
    "print(f\"{num1}+{num2}={sum}\")\n",
    "difference=num1-num2\n",
    "print(f\"{num1}-{num2}={difference}\")\n",
    "product=num1*num2\n",
    "print(f\"{num1}*{num2}={product}\")\n",
    "quotient=num1/num2\n",
    "print(f\"{num1}/{num2}={quotient}\")"
   ]
  }
 ],
 "metadata": {
  "kernelspec": {
   "display_name": "base",
   "language": "python",
   "name": "python3"
  },
  "language_info": {
   "codemirror_mode": {
    "name": "ipython",
    "version": 3
   },
   "file_extension": ".py",
   "mimetype": "text/x-python",
   "name": "python",
   "nbconvert_exporter": "python",
   "pygments_lexer": "ipython3",
   "version": "3.12.4"
  }
 },
 "nbformat": 4,
 "nbformat_minor": 2
}
