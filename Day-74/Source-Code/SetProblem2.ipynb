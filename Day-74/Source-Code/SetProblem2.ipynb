{
 "cells": [
  {
   "cell_type": "markdown",
   "metadata": {},
   "source": [
    "Write a Python to get only Students Name with Ending Character \"a\" from a Set of Students. Using SET Comprehension. "
   ]
  },
  {
   "cell_type": "code",
   "execution_count": 1,
   "metadata": {},
   "outputs": [
    {
     "name": "stdout",
     "output_type": "stream",
     "text": [
      "{'Prekshya'}\n"
     ]
    }
   ],
   "source": [
    "stdName={\"Manish\", \"Prekshya\", \"Rakesh\", \"Hari\", \"Pramod\", \"Sunil\"}\n",
    "newStdName={i for i in stdName if i.endswith('a')}\n",
    "print(newStdName)"
   ]
  }
 ],
 "metadata": {
  "kernelspec": {
   "display_name": "base",
   "language": "python",
   "name": "python3"
  },
  "language_info": {
   "codemirror_mode": {
    "name": "ipython",
    "version": 3
   },
   "file_extension": ".py",
   "mimetype": "text/x-python",
   "name": "python",
   "nbconvert_exporter": "python",
   "pygments_lexer": "ipython3",
   "version": "3.12.4"
  }
 },
 "nbformat": 4,
 "nbformat_minor": 2
}
