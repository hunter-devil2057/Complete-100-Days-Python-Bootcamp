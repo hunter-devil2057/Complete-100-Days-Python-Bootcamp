{
 "cells": [
  {
   "cell_type": "markdown",
   "metadata": {},
   "source": [
    "# **Python SET Comprehension**"
   ]
  },
  {
   "cell_type": "markdown",
   "metadata": {},
   "source": [
    "**What is Comprehension?**\n",
    "- We create a sequence from a given sequence is called Comprehension. \n",
    "- Sequence means list, tuple, string and range. \n",
    "- We can also create a new dictionary from existing dictionary. \n",
    "- Some sequence allow comprehension but some do not. "
   ]
  },
  {
   "cell_type": "markdown",
   "metadata": {},
   "source": [
    "**Need of Comprehension:**\n",
    "- Simple way to create new sequence\n",
    "- Filtering and Searching\n",
    "- One line of code\n",
    "- Fastest Way"
   ]
  },
  {
   "cell_type": "markdown",
   "metadata": {},
   "source": [
    "**SET Comprehension**\n",
    "- Python set comprehension means, creating a new set from another iterable object like list, range, function, etc. \n",
    "- On the basis of condition, we can create a new set from created (given) set or otehr iterable object. \n",
    "- We can filter an odd set to get required elements/items to store in a new set. \n",
    "- It is the fastest way and one line code to create new set from given set on the basis of some condition. "
   ]
  },
  {
   "cell_type": "markdown",
   "metadata": {},
   "source": [
    "**Syntax:** \n",
    "- newSet={expression ***for*** item/element ***in*** sequence}\n",
    "- newSet{expression ***for*** item/element ***in*** sequence ***if statement***}\n",
    "- newSet{expression ***if statement else statement*** ***for*** item/element ***in*** sequence}\n",
    "- newSet{expression ***for*** item/element ***in*** sequence ***nested if statement***}"
   ]
  },
  {
   "cell_type": "markdown",
   "metadata": {},
   "source": [
    "**Example:**"
   ]
  },
  {
   "cell_type": "code",
   "execution_count": 5,
   "metadata": {},
   "outputs": [
    {
     "name": "stdout",
     "output_type": "stream",
     "text": [
      "{2, 3, 4, 5, 6, 7, 8, 9}\n"
     ]
    }
   ],
   "source": [
    "lst=[1, 2, 3, 4, 5, 6, 7, 8]\n",
    "newSet={i+1 for i in lst}\n",
    "print(newSet)"
   ]
  },
  {
   "cell_type": "code",
   "execution_count": 6,
   "metadata": {},
   "outputs": [
    {
     "name": "stdout",
     "output_type": "stream",
     "text": [
      "{3, 6, 9, 12, 15, 18, 21, 24}\n"
     ]
    }
   ],
   "source": [
    "lst=[1, 2, 3, 4, 5, 6, 7, 8]\n",
    "newSet={i*3 for i in lst}\n",
    "print(newSet)"
   ]
  },
  {
   "cell_type": "code",
   "execution_count": 7,
   "metadata": {},
   "outputs": [
    {
     "name": "stdout",
     "output_type": "stream",
     "text": [
      "{0, 3, 6, 9, 12, 15, 18, 21, 24, 27}\n"
     ]
    }
   ],
   "source": [
    "lst=[1, 2, 3, 4, 5, 6, 7, 8]\n",
    "newSet={i*3 for i in range(10)}\n",
    "print(newSet)"
   ]
  },
  {
   "cell_type": "code",
   "execution_count": 8,
   "metadata": {},
   "outputs": [
    {
     "name": "stdout",
     "output_type": "stream",
     "text": [
      "{24, 18, 12, 6}\n"
     ]
    }
   ],
   "source": [
    "lst=[1, 2, 3, 4, 5, 6, 7, 8]\n",
    "newSet={i*3 for i in lst if i%2==0}\n",
    "print(newSet)"
   ]
  },
  {
   "cell_type": "code",
   "execution_count": 9,
   "metadata": {},
   "outputs": [
    {
     "name": "stdout",
     "output_type": "stream",
     "text": [
      "{'Odd', 'Even'}\n"
     ]
    }
   ],
   "source": [
    "lst=[1, 2, 3, 4, 5, 6, 7, 8]\n",
    "newSet={\"Even\" if i%2==0 else \"Odd\" for i in lst}\n",
    "print(newSet)"
   ]
  },
  {
   "cell_type": "code",
   "execution_count": 10,
   "metadata": {},
   "outputs": [
    {
     "name": "stdout",
     "output_type": "stream",
     "text": [
      "{18}\n"
     ]
    }
   ],
   "source": [
    "lst=[1, 2, 3, 4, 5, 6, 7, 8]\n",
    "newSet={i*3 for i in lst if i%2==0 if i%3==0}\n",
    "print(newSet)"
   ]
  }
 ],
 "metadata": {
  "kernelspec": {
   "display_name": "base",
   "language": "python",
   "name": "python3"
  },
  "language_info": {
   "codemirror_mode": {
    "name": "ipython",
    "version": 3
   },
   "file_extension": ".py",
   "mimetype": "text/x-python",
   "name": "python",
   "nbconvert_exporter": "python",
   "pygments_lexer": "ipython3",
   "version": "3.12.4"
  }
 },
 "nbformat": 4,
 "nbformat_minor": 2
}
