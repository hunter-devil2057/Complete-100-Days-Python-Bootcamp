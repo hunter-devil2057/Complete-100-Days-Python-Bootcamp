{
 "cells": [
  {
   "cell_type": "markdown",
   "metadata": {},
   "source": [
    "1. Define a function named squared_set that takes a list, input_list, as a parameter.\n",
    "2. Use a set comprehension to generate a set containing the squares of all even integers from the input list.\n",
    "3. Return the resulting set."
   ]
  },
  {
   "cell_type": "code",
   "execution_count": 2,
   "metadata": {},
   "outputs": [
    {
     "name": "stdout",
     "output_type": "stream",
     "text": [
      "{64, 100, 4, 36, 16}\n"
     ]
    }
   ],
   "source": [
    "def squared_set(input_list):\n",
    "    squares={i**2 for i in input_list if i%2==0}\n",
    "    return squares\n",
    "list=[1, 2, 3, 4, 5, 6, 7, 8, 9, 10]\n",
    "result=squared_set(list)\n",
    "print(result)"
   ]
  }
 ],
 "metadata": {
  "kernelspec": {
   "display_name": "base",
   "language": "python",
   "name": "python3"
  },
  "language_info": {
   "codemirror_mode": {
    "name": "ipython",
    "version": 3
   },
   "file_extension": ".py",
   "mimetype": "text/x-python",
   "name": "python",
   "nbconvert_exporter": "python",
   "pygments_lexer": "ipython3",
   "version": "3.12.4"
  }
 },
 "nbformat": 4,
 "nbformat_minor": 2
}
