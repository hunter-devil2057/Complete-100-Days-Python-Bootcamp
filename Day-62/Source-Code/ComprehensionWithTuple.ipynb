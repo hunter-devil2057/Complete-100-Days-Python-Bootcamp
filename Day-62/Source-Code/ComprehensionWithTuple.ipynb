{
 "cells": [
  {
   "cell_type": "markdown",
   "metadata": {},
   "source": [
    "**What is Comprehension?**\n",
    "- We create a sequence from a given sequence is called as **Comprehension**. \n",
    "- Sequence means list, tuple, string and range. \n",
    "- Some sequence allow comprehension but some does not. "
   ]
  },
  {
   "cell_type": "markdown",
   "metadata": {},
   "source": [
    "**Need of Comprehension**\n",
    "- Filtering and Searching \n",
    "- Creating a new sequence on the basis of some condition. \n",
    "- Simple way to create new sequence \n",
    "- Fastest way"
   ]
  },
  {
   "cell_type": "markdown",
   "metadata": {},
   "source": [
    "**Tuple Comprehension**\n",
    "- We cannot work with tuple comprehension in Python. \n",
    "- For Comprehension, we need to use of loop or iterating over sequence elements/items to get or store in new variable or container.\n",
    "- But with tuple, we cannot do that, because tuple did not support updation. \n",
    "- As tuple is immutable object. "
   ]
  },
  {
   "cell_type": "markdown",
   "metadata": {},
   "source": [
    "**Syntax:** "
   ]
  },
  {
   "cell_type": "markdown",
   "metadata": {},
   "source": [
    "newSeq=[expression for item/element in sequence]"
   ]
  },
  {
   "cell_type": "markdown",
   "metadata": {},
   "source": [
    "**Example:**"
   ]
  },
  {
   "cell_type": "code",
   "execution_count": 1,
   "metadata": {},
   "outputs": [
    {
     "name": "stdout",
     "output_type": "stream",
     "text": [
      "<generator object <genexpr> at 0x0000023DF087ECF0>\n"
     ]
    }
   ],
   "source": [
    "t1=(1, 2, 3, 4, 11, 10, 20, 41, 15)\n",
    "t2=(i for i in t1 if i%4 == 0)\n",
    "print(t2)       #you will get a generator object"
   ]
  },
  {
   "cell_type": "markdown",
   "metadata": {},
   "source": [
    "**What is Generator Object?**\n",
    "- It is used to create iterators. \n",
    "- It returns a iterator. \n",
    "- It can iterate, that gives one value at a time. \n",
    "- To get next value, we used special method that next(). "
   ]
  },
  {
   "cell_type": "markdown",
   "metadata": {},
   "source": [
    "**Is it possible Comprehension with Tuple?**\n",
    "- No, because\n",
    "    - it is limited\n",
    "    - it becomes complex\n",
    "    - it is immutable. \n",
    "    - it returns generator object. "
   ]
  },
  {
   "cell_type": "markdown",
   "metadata": {},
   "source": [
    "**Example:**"
   ]
  },
  {
   "cell_type": "code",
   "execution_count": 5,
   "metadata": {},
   "outputs": [
    {
     "ename": "TypeError",
     "evalue": "'type' object is not iterable",
     "output_type": "error",
     "traceback": [
      "\u001b[1;31m---------------------------------------------------------------------------\u001b[0m",
      "\u001b[1;31mTypeError\u001b[0m                                 Traceback (most recent call last)",
      "Cell \u001b[1;32mIn[5], line 2\u001b[0m\n\u001b[0;32m      1\u001b[0m tple\u001b[38;5;241m=\u001b[39m(\u001b[38;5;241m4\u001b[39m, \u001b[38;5;241m2\u001b[39m, \u001b[38;5;241m6\u001b[39m, \u001b[38;5;241m1\u001b[39m, \u001b[38;5;241m63\u001b[39m, \u001b[38;5;241m12\u001b[39m, \u001b[38;5;241m61\u001b[39m, \u001b[38;5;241m87\u001b[39m, \u001b[38;5;241m10\u001b[39m)\n\u001b[1;32m----> 2\u001b[0m tple2\u001b[38;5;241m=\u001b[39m\u001b[43m(\u001b[49m\u001b[43mi\u001b[49m\u001b[43m \u001b[49m\u001b[38;5;28;43;01mfor\u001b[39;49;00m\u001b[43m \u001b[49m\u001b[43mi\u001b[49m\u001b[43m \u001b[49m\u001b[38;5;129;43;01min\u001b[39;49;00m\u001b[43m \u001b[49m\u001b[38;5;28;43mtuple\u001b[39;49m\u001b[43m \u001b[49m\u001b[38;5;28;43;01mif\u001b[39;49;00m\u001b[43m \u001b[49m\u001b[43mi\u001b[49m\u001b[38;5;241;43m%\u001b[39;49m\u001b[38;5;241;43m4\u001b[39;49m\u001b[38;5;241;43m==\u001b[39;49m\u001b[38;5;241;43m0\u001b[39;49m\u001b[43m)\u001b[49m\n\u001b[0;32m      3\u001b[0m \u001b[38;5;28mprint\u001b[39m(tple2)\n",
      "\u001b[1;31mTypeError\u001b[0m: 'type' object is not iterable"
     ]
    }
   ],
   "source": [
    "tple=(4, 2, 6, 1, 63, 12, 61, 87, 10)\n",
    "tple2=(i for i in tuple if i%4==0)\n",
    "print(tple2)"
   ]
  }
 ],
 "metadata": {
  "kernelspec": {
   "display_name": "base",
   "language": "python",
   "name": "python3"
  },
  "language_info": {
   "codemirror_mode": {
    "name": "ipython",
    "version": 3
   },
   "file_extension": ".py",
   "mimetype": "text/x-python",
   "name": "python",
   "nbconvert_exporter": "python",
   "pygments_lexer": "ipython3",
   "version": "3.12.4"
  }
 },
 "nbformat": 4,
 "nbformat_minor": 2
}
