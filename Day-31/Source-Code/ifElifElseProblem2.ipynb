{
 "cells": [
  {
   "cell_type": "markdown",
   "metadata": {},
   "source": [
    "Write a Python Program to get a Marks from User to Display Grade According to following criteria. \n",
    "- if Marks>90, Display A Grade\n",
    "- if Marks>80, Display B Grade\n",
    "- if Marks>70, Display C Grade\n",
    "- if Marks>60, Display D Grade\n",
    "- if Marks>50, Display E Grade\n",
    "- if Marks Less than 50, Then Display Fail."
   ]
  },
  {
   "cell_type": "code",
   "execution_count": 1,
   "metadata": {},
   "outputs": [
    {
     "name": "stdout",
     "output_type": "stream",
     "text": [
      "92\n",
      "You have scored A Grade\n"
     ]
    }
   ],
   "source": [
    "marks=int(input(\"Enter Marks:\"))\n",
    "print(marks)\n",
    "if marks>90: \n",
    "    print(\"You have scored A Grade\")\n",
    "elif marks>80:\n",
    "    print(\"You have scored B Grade\")\n",
    "elif marks>70:\n",
    "    print(\"You have scored C Grade\")\n",
    "elif marks>60:\n",
    "    print(\"You have scored D Grade\")\n",
    "elif marks>50:\n",
    "    print(\"You have scored E Grade\")\n",
    "else:\n",
    "    print(\"Sorry, you've Failed this time.\")"
   ]
  }
 ],
 "metadata": {
  "kernelspec": {
   "display_name": "base",
   "language": "python",
   "name": "python3"
  },
  "language_info": {
   "codemirror_mode": {
    "name": "ipython",
    "version": 3
   },
   "file_extension": ".py",
   "mimetype": "text/x-python",
   "name": "python",
   "nbconvert_exporter": "python",
   "pygments_lexer": "ipython3",
   "version": "3.12.4"
  }
 },
 "nbformat": 4,
 "nbformat_minor": 2
}
