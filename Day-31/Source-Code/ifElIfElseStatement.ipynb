{
 "cells": [
  {
   "cell_type": "markdown",
   "metadata": {},
   "source": [
    "if-elif-else Statement in Python \n",
    "- elif is used between if and else block. \n",
    "- We used elif, where we have to make multiple condition after if statement. \n",
    "- It is an alternative of else if (condition)"
   ]
  },
  {
   "cell_type": "markdown",
   "metadata": {},
   "source": [
    "Syntax: "
   ]
  },
  {
   "cell_type": "markdown",
   "metadata": {},
   "source": [
    "- if(boolean expression/condition):\n",
    "    - statement or set of statements \n",
    "- elif(boolean expression/condition):\n",
    "    - statement or set of statements \n",
    "- elif(boolean expression/condition):\n",
    "    - statement or set of statements \n",
    "- else\n",
    "    - statement or set of statements "
   ]
  },
  {
   "cell_type": "code",
   "execution_count": 1,
   "metadata": {},
   "outputs": [
    {
     "name": "stdout",
     "output_type": "stream",
     "text": [
      "Today is Monday\n"
     ]
    }
   ],
   "source": [
    "day=\"Monday\"\n",
    "if day==\"Sunday\":\n",
    "    print(\"Today is Sunday\")\n",
    "elif day==\"Monday\":\n",
    "    print(\"Today is Monday\")\n",
    "elif day==\"Tuesday\":\n",
    "    print(\"Today is Tuesday\")\n",
    "elif day==\"Wednesday\":\n",
    "    print(\"Today is Wednesday\")\n",
    "elif day==\"Thursday\":\n",
    "    print(\"Today is Thursday\")\n",
    "else:\n",
    "    print(\"No Match\")"
   ]
  }
 ],
 "metadata": {
  "kernelspec": {
   "display_name": "base",
   "language": "python",
   "name": "python3"
  },
  "language_info": {
   "codemirror_mode": {
    "name": "ipython",
    "version": 3
   },
   "file_extension": ".py",
   "mimetype": "text/x-python",
   "name": "python",
   "nbconvert_exporter": "python",
   "pygments_lexer": "ipython3",
   "version": "3.12.4"
  }
 },
 "nbformat": 4,
 "nbformat_minor": 2
}
