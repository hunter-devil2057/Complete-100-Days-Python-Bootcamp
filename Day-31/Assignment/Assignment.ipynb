{
 "cells": [
  {
   "cell_type": "markdown",
   "metadata": {},
   "source": [
    "1. Prompt the user to enter their score on a test.\n",
    "2. Based on the score, print the corresponding grade using the following criteria:\n",
    "    - If the score is between 90 and 100 (inclusive), print \"A\".\n",
    "    - If the score is between 80 and 89 (inclusive), print \"B\".\n",
    "    - If the score is between 70 and 79 (inclusive), print \"C\".\n",
    "    - If the score is between 60 and 69 (inclusive), print \"D\".\n",
    "    - If the score is below 60, print \"F\"."
   ]
  },
  {
   "cell_type": "code",
   "execution_count": 1,
   "metadata": {},
   "outputs": [
    {
     "name": "stdout",
     "output_type": "stream",
     "text": [
      "58\n",
      "F\n"
     ]
    }
   ],
   "source": [
    "score=int(input(\"Enter your Score:\"))\n",
    "print(score)\n",
    "if score>90 and score<100: \n",
    "    print(\"A\")\n",
    "elif score>80 and score<89:\n",
    "    print(\"B\")\n",
    "elif score>70 and score<79:\n",
    "    print(\"C\")\n",
    "elif score>60 and score<69:\n",
    "    print(\"D\")\n",
    "else:\n",
    "    print(\"F\")"
   ]
  }
 ],
 "metadata": {
  "kernelspec": {
   "display_name": "base",
   "language": "python",
   "name": "python3"
  },
  "language_info": {
   "codemirror_mode": {
    "name": "ipython",
    "version": 3
   },
   "file_extension": ".py",
   "mimetype": "text/x-python",
   "name": "python",
   "nbconvert_exporter": "python",
   "pygments_lexer": "ipython3",
   "version": "3.12.4"
  }
 },
 "nbformat": 4,
 "nbformat_minor": 2
}
