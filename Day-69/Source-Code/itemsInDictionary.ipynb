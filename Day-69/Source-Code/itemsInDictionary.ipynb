{
 "cells": [
  {
   "cell_type": "markdown",
   "metadata": {},
   "source": [
    "**Python Dictionary Method: items()**\n",
    "- It is used to return item from a dictionary in List Form. \n",
    "- Item is collection of key and value. \n",
    "- Dictionary is the collection of items. "
   ]
  },
  {
   "cell_type": "markdown",
   "metadata": {},
   "source": [
    "**Syntax:** dict.items()"
   ]
  },
  {
   "cell_type": "markdown",
   "metadata": {},
   "source": [
    "**Example:**"
   ]
  },
  {
   "cell_type": "code",
   "execution_count": 1,
   "metadata": {},
   "outputs": [
    {
     "name": "stdout",
     "output_type": "stream",
     "text": [
      "dict_items([(1, 'Manish'), (2, 'Shiwakoti')])\n"
     ]
    }
   ],
   "source": [
    "dict={1: \"Manish\", 2: \"Shiwakoti\"}\n",
    "dictItems=dict.items()\n",
    "print(dictItems)"
   ]
  },
  {
   "cell_type": "code",
   "execution_count": 2,
   "metadata": {},
   "outputs": [
    {
     "name": "stdout",
     "output_type": "stream",
     "text": [
      "dict_items([(1, 'Red'), (2, 'Blue'), (3, 'Yellow'), (4, 'Pink'), (5, 'Green')])\n"
     ]
    }
   ],
   "source": [
    "color={1: \"Red\", 2: \"Blue\", 3: \"Yellow\", 4: \"Pink\", 5: \"Green\"}\n",
    "colorItems=color.items()\n",
    "print(colorItems)"
   ]
  }
 ],
 "metadata": {
  "kernelspec": {
   "display_name": "base",
   "language": "python",
   "name": "python3"
  },
  "language_info": {
   "codemirror_mode": {
    "name": "ipython",
    "version": 3
   },
   "file_extension": ".py",
   "mimetype": "text/x-python",
   "name": "python",
   "nbconvert_exporter": "python",
   "pygments_lexer": "ipython3",
   "version": "3.12.4"
  }
 },
 "nbformat": 4,
 "nbformat_minor": 2
}
