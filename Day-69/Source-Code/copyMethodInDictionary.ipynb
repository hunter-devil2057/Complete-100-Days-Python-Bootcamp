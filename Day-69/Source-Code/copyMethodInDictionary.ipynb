{
 "cells": [
  {
   "cell_type": "markdown",
   "metadata": {},
   "source": [
    "**Python Dictionary Method: copy()**\n",
    "- It is used to return copy of original dictionary, it did not make any changes in original dictionary. "
   ]
  },
  {
   "cell_type": "markdown",
   "metadata": {},
   "source": [
    "**Syntax:** dict.copy()"
   ]
  },
  {
   "cell_type": "markdown",
   "metadata": {},
   "source": [
    "**Example:**"
   ]
  },
  {
   "cell_type": "code",
   "execution_count": 2,
   "metadata": {},
   "outputs": [
    {
     "name": "stdout",
     "output_type": "stream",
     "text": [
      "{1: 'Manish', 2: 'Shiwakoti'}\n",
      "{1: 'Manish', 2: 'Shiwakoti'}\n"
     ]
    }
   ],
   "source": [
    "dict={1:\"Manish\", 2:\"Shiwakoti\"}\n",
    "print(dict)\n",
    "new=dict.copy()\n",
    "print(new)"
   ]
  },
  {
   "cell_type": "code",
   "execution_count": 3,
   "metadata": {},
   "outputs": [
    {
     "name": "stdout",
     "output_type": "stream",
     "text": [
      "{1: 'Red', 2: 'Blue', 3: 'Yellow'}\n",
      "{1: 'Red', 2: 'Blue', 3: 'Yellow'}\n",
      "{}\n",
      "{1: 'Red', 2: 'Blue', 3: 'Yellow'}\n"
     ]
    }
   ],
   "source": [
    "color={1: \"Red\", 2: \"Blue\", 3: \"Yellow\"}\n",
    "print(color)\n",
    "newColor=color.copy()\n",
    "print(newColor)\n",
    "newColor.clear()\n",
    "print(newColor)\n",
    "print(color)"
   ]
  }
 ],
 "metadata": {
  "kernelspec": {
   "display_name": "base",
   "language": "python",
   "name": "python3"
  },
  "language_info": {
   "codemirror_mode": {
    "name": "ipython",
    "version": 3
   },
   "file_extension": ".py",
   "mimetype": "text/x-python",
   "name": "python",
   "nbconvert_exporter": "python",
   "pygments_lexer": "ipython3",
   "version": "3.12.4"
  }
 },
 "nbformat": 4,
 "nbformat_minor": 2
}
