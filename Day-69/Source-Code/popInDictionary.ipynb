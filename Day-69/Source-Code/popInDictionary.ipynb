{
 "cells": [
  {
   "cell_type": "markdown",
   "metadata": {},
   "source": [
    "**Python Dictionary Method: pop()**\n",
    "- It is used to remove specified item from dictionary. "
   ]
  },
  {
   "cell_type": "markdown",
   "metadata": {},
   "source": [
    "**Syntax:** dict.pop(key, default Value)\n",
    "- Default value will be returned if specified key does not exist"
   ]
  },
  {
   "cell_type": "markdown",
   "metadata": {},
   "source": [
    "**Example:**"
   ]
  },
  {
   "cell_type": "code",
   "execution_count": 1,
   "metadata": {},
   "outputs": [
    {
     "name": "stdout",
     "output_type": "stream",
     "text": [
      "Shiwakoti\n"
     ]
    }
   ],
   "source": [
    "dict={1:\"Manish\", 2:\"Shiwakoti\"}\n",
    "element=dict.pop(2)\n",
    "print(element)"
   ]
  },
  {
   "cell_type": "code",
   "execution_count": 2,
   "metadata": {},
   "outputs": [
    {
     "name": "stdout",
     "output_type": "stream",
     "text": [
      "Pink\n",
      "{1: 'Red', 2: 'Blue', 3: 'Yellow', 5: 'Green'}\n"
     ]
    }
   ],
   "source": [
    "color={1: \"Red\", 2: \"Blue\", 3: \"Yellow\", 4: \"Pink\", 5: \"Green\"}\n",
    "removedValue=color.pop(4)\n",
    "print(removedValue)\n",
    "print(color)"
   ]
  }
 ],
 "metadata": {
  "kernelspec": {
   "display_name": "base",
   "language": "python",
   "name": "python3"
  },
  "language_info": {
   "codemirror_mode": {
    "name": "ipython",
    "version": 3
   },
   "file_extension": ".py",
   "mimetype": "text/x-python",
   "name": "python",
   "nbconvert_exporter": "python",
   "pygments_lexer": "ipython3",
   "version": "3.12.4"
  }
 },
 "nbformat": 4,
 "nbformat_minor": 2
}
