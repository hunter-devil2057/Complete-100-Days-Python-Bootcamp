{
 "cells": [
  {
   "cell_type": "markdown",
   "metadata": {},
   "source": [
    "**Python Dictionary Method: get()**\n",
    "- It is used to return value for specific key. \n",
    "- If key is not exist, then none is return. \n",
    "- It also accept default value, that will display when key is not exist. "
   ]
  },
  {
   "cell_type": "markdown",
   "metadata": {},
   "source": [
    "**Syntax:** dict.get(Key)   # return value"
   ]
  },
  {
   "cell_type": "markdown",
   "metadata": {},
   "source": [
    "**Example:**"
   ]
  },
  {
   "cell_type": "code",
   "execution_count": 5,
   "metadata": {},
   "outputs": [
    {
     "name": "stdout",
     "output_type": "stream",
     "text": [
      "None\n",
      "Manish\n",
      "Shiwakoti\n",
      "None\n"
     ]
    }
   ],
   "source": [
    "dict={1: \"Manish\", 2: \"Shiwakoti\"}\n",
    "value=dict.get(0)\n",
    "print(value)\n",
    "value1=dict.get(1)\n",
    "print(value1)\n",
    "value2=dict.get(2)\n",
    "print(value2)\n",
    "value3=dict.get(3)\n",
    "print(value3)"
   ]
  },
  {
   "cell_type": "code",
   "execution_count": 7,
   "metadata": {},
   "outputs": [
    {
     "name": "stdout",
     "output_type": "stream",
     "text": [
      "None\n",
      "Red\n",
      "Blue\n",
      "Yellow\n"
     ]
    }
   ],
   "source": [
    "color={1: \"Red\", 2: \"Blue\", 3: \"Yellow\"}\n",
    "colorValue=color.get(12)\n",
    "colorValue1=color.get(1)\n",
    "colorValue2=color.get(2)\n",
    "colorValue3=color.get(3)\n",
    "print(colorValue)\n",
    "print(colorValue1)\n",
    "print(colorValue2)\n",
    "print(colorValue3)"
   ]
  },
  {
   "cell_type": "code",
   "execution_count": 8,
   "metadata": {},
   "outputs": [
    {
     "name": "stdout",
     "output_type": "stream",
     "text": [
      "Not Exist\n",
      "Red\n",
      "Blue\n",
      "Yellow\n"
     ]
    }
   ],
   "source": [
    "color={1: \"Red\", 2: \"Blue\", 3: \"Yellow\"}\n",
    "colorValue=color.get(12, \"Not Exist\")\n",
    "# \"Not Exist\" is a Default value of key 12\n",
    "colorValue1=color.get(1)\n",
    "colorValue2=color.get(2)\n",
    "colorValue3=color.get(3)\n",
    "print(colorValue)\n",
    "print(colorValue1)\n",
    "print(colorValue2)\n",
    "print(colorValue3)"
   ]
  }
 ],
 "metadata": {
  "kernelspec": {
   "display_name": "base",
   "language": "python",
   "name": "python3"
  },
  "language_info": {
   "codemirror_mode": {
    "name": "ipython",
    "version": 3
   },
   "file_extension": ".py",
   "mimetype": "text/x-python",
   "name": "python",
   "nbconvert_exporter": "python",
   "pygments_lexer": "ipython3",
   "version": "3.12.4"
  }
 },
 "nbformat": 4,
 "nbformat_minor": 2
}
