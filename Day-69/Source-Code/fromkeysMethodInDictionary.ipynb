{
 "cells": [
  {
   "cell_type": "markdown",
   "metadata": {},
   "source": [
    "**Python Dictionary Method: fromkeys()**\n",
    "- It is used to return/create dictionary with key, mapping with specific value. \n",
    "- It takes two arguments: ***sequence*** and ***value***. "
   ]
  },
  {
   "cell_type": "markdown",
   "metadata": {},
   "source": [
    "**Syntax:** dict.fromkeys(sequence, value)"
   ]
  },
  {
   "cell_type": "markdown",
   "metadata": {},
   "source": [
    "**Example:**"
   ]
  },
  {
   "cell_type": "code",
   "execution_count": 1,
   "metadata": {},
   "outputs": [
    {
     "name": "stdout",
     "output_type": "stream",
     "text": [
      "{'b': None, 'c': None, 'd': None, 'e': None, 'f': None}\n"
     ]
    }
   ],
   "source": [
    "seq=[\"b\", \"c\", \"d\", \"e\", \"f\"]\n",
    "dict=dict.fromkeys(seq) #None value will be provided to every key\n",
    "print(dict)"
   ]
  },
  {
   "cell_type": "code",
   "execution_count": 2,
   "metadata": {},
   "outputs": [
    {
     "name": "stdout",
     "output_type": "stream",
     "text": [
      "{'b': 0, 'c': 0, 'd': 0, 'e': 0, 'f': 0}\n"
     ]
    }
   ],
   "source": [
    "seq=[\"b\", \"c\", \"d\", \"e\", \"f\"]\n",
    "dict=dict.fromkeys(seq, 0) \n",
    "# 0 value will be provided to every key\n",
    "print(dict)"
   ]
  },
  {
   "cell_type": "code",
   "execution_count": 3,
   "metadata": {},
   "outputs": [
    {
     "name": "stdout",
     "output_type": "stream",
     "text": [
      "{1: 'Manish', 2: 'Manish', 3: 'Manish', 4: 'Manish', 5: 'Manish', 6: 'Manish', 7: 'Manish'}\n"
     ]
    }
   ],
   "source": [
    "lst=[1, 2, 3, 4, 5, 6, 7]\n",
    "newDict=dict.fromkeys(lst, \"Manish\")\n",
    "print(newDict)"
   ]
  },
  {
   "cell_type": "code",
   "execution_count": 5,
   "metadata": {},
   "outputs": [
    {
     "name": "stdout",
     "output_type": "stream",
     "text": [
      "{1: 'Manish', 2: 'Manish', 3: 'Manish', 4: 'Manish', 5: 'Manish', 6: 'Manish', 7: 'Manish'}\n"
     ]
    }
   ],
   "source": [
    "set={1, 2, 3, 4, 5, 6, 7}\n",
    "newDict=dict.fromkeys(set, \"Manish\")\n",
    "print(newDict)"
   ]
  }
 ],
 "metadata": {
  "kernelspec": {
   "display_name": "base",
   "language": "python",
   "name": "python3"
  },
  "language_info": {
   "codemirror_mode": {
    "name": "ipython",
    "version": 3
   },
   "file_extension": ".py",
   "mimetype": "text/x-python",
   "name": "python",
   "nbconvert_exporter": "python",
   "pygments_lexer": "ipython3",
   "version": "3.12.4"
  }
 },
 "nbformat": 4,
 "nbformat_minor": 2
}
