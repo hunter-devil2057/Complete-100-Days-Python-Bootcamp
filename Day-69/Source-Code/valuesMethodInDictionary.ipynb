{
 "cells": [
  {
   "cell_type": "markdown",
   "metadata": {},
   "source": [
    "**Python Dictionary Method: values()**\n",
    "- It is used to return all the values that are associated with keys in dictionary. "
   ]
  },
  {
   "cell_type": "markdown",
   "metadata": {},
   "source": [
    "**Syntax:** dict.values()"
   ]
  },
  {
   "cell_type": "markdown",
   "metadata": {},
   "source": [
    "**Example:**"
   ]
  },
  {
   "cell_type": "code",
   "execution_count": 1,
   "metadata": {},
   "outputs": [
    {
     "name": "stdout",
     "output_type": "stream",
     "text": [
      "<built-in method values of dict object at 0x0000020482A93480>\n"
     ]
    }
   ],
   "source": [
    "dict={1:\"Manish\", 2: \"Shiwakoti\", 3: \"HunterDevil\"}\n",
    "print(dict.values)"
   ]
  },
  {
   "cell_type": "code",
   "execution_count": 3,
   "metadata": {},
   "outputs": [
    {
     "name": "stdout",
     "output_type": "stream",
     "text": [
      "dict_values(['Red', 'Blue', 'Yellow', 'Pink', 'Green'])\n"
     ]
    }
   ],
   "source": [
    "color={1: \"Red\", 2: \"Blue\", 3: \"Yellow\", 4: \"Pink\", 5: \"Green\"}\n",
    "colorValues=color.values()\n",
    "print(colorValues)"
   ]
  }
 ],
 "metadata": {
  "kernelspec": {
   "display_name": "base",
   "language": "python",
   "name": "python3"
  },
  "language_info": {
   "codemirror_mode": {
    "name": "ipython",
    "version": 3
   },
   "file_extension": ".py",
   "mimetype": "text/x-python",
   "name": "python",
   "nbconvert_exporter": "python",
   "pygments_lexer": "ipython3",
   "version": "3.12.4"
  }
 },
 "nbformat": 4,
 "nbformat_minor": 2
}
