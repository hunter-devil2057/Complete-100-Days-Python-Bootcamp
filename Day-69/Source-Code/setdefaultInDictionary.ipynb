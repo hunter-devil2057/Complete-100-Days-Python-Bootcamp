{
 "cells": [
  {
   "cell_type": "markdown",
   "metadata": {},
   "source": [
    "**Python Dictionary Method: setdefault()**\n",
    "- It is used to return value of specified key.\n",
    "- If key does not exist then default value will be returned.\n",
    "- If default value does not gets provided then None is returned. "
   ]
  },
  {
   "cell_type": "markdown",
   "metadata": {},
   "source": [
    "**Syntax:** dict.setdefault(key, default value)\n",
    "- default value will be none if not provided"
   ]
  },
  {
   "cell_type": "markdown",
   "metadata": {},
   "source": [
    "**Example:**"
   ]
  },
  {
   "cell_type": "code",
   "execution_count": 3,
   "metadata": {},
   "outputs": [
    {
     "name": "stdout",
     "output_type": "stream",
     "text": [
      "Shiwakoti\n"
     ]
    }
   ],
   "source": [
    "dict={1: \"Manish\", 2: \"Shiwakoti\"}\n",
    "element=dict.setdefault(2)\n",
    "# element=dict.setdefault(3)        #none will return\n",
    "# element=dict.setdefault(3, \"hunterdevil\") #hunterdevil will return \n",
    "print(element)"
   ]
  },
  {
   "cell_type": "code",
   "execution_count": 4,
   "metadata": {},
   "outputs": [
    {
     "name": "stdout",
     "output_type": "stream",
     "text": [
      "None\n"
     ]
    }
   ],
   "source": [
    "dict={1: \"Manish\", 2: \"Shiwakoti\"}\n",
    "element=dict.setdefault(3)        #none will return\n",
    "# element=dict.setdefault(3, \"hunterdevil\") #hunterdevil will return \n",
    "print(element)"
   ]
  },
  {
   "cell_type": "code",
   "execution_count": 5,
   "metadata": {},
   "outputs": [
    {
     "name": "stdout",
     "output_type": "stream",
     "text": [
      "hunterdevil\n"
     ]
    }
   ],
   "source": [
    "dict={1: \"Manish\", 2: \"Shiwakoti\"}\n",
    "element=dict.setdefault(3, \"hunterdevil\") #hunterdevil will return \n",
    "print(element)"
   ]
  },
  {
   "cell_type": "code",
   "execution_count": 10,
   "metadata": {},
   "outputs": [
    {
     "name": "stdout",
     "output_type": "stream",
     "text": [
      "Not Exist\n"
     ]
    }
   ],
   "source": [
    "color={1:\"Red\", 2:\"Blue\", 3:\"Yellow\", 4:\"Pink\", 5:\"Green\"}\n",
    "colorElement=color.setdefault(10, \"Not Exist\")\n",
    "print(colorElement)"
   ]
  },
  {
   "cell_type": "code",
   "execution_count": 9,
   "metadata": {},
   "outputs": [
    {
     "name": "stdout",
     "output_type": "stream",
     "text": [
      "Red\n"
     ]
    }
   ],
   "source": [
    "color={1:\"Red\", 2:\"Blue\", 3:\"Yellow\", 4:\"Pink\", 5:\"Green\"}\n",
    "colorElement=color.setdefault(1)\n",
    "print(colorElement)"
   ]
  },
  {
   "cell_type": "code",
   "execution_count": 11,
   "metadata": {},
   "outputs": [
    {
     "name": "stdout",
     "output_type": "stream",
     "text": [
      "Yellow\n"
     ]
    }
   ],
   "source": [
    "color={1:\"Red\", 2:\"Blue\", 3:\"Yellow\", 4:\"Pink\", 5:\"Green\"}\n",
    "colorElement=color.setdefault(3, \"Not Exist\")\n",
    "print(colorElement)"
   ]
  }
 ],
 "metadata": {
  "kernelspec": {
   "display_name": "base",
   "language": "python",
   "name": "python3"
  },
  "language_info": {
   "codemirror_mode": {
    "name": "ipython",
    "version": 3
   },
   "file_extension": ".py",
   "mimetype": "text/x-python",
   "name": "python",
   "nbconvert_exporter": "python",
   "pygments_lexer": "ipython3",
   "version": "3.12.4"
  }
 },
 "nbformat": 4,
 "nbformat_minor": 2
}
