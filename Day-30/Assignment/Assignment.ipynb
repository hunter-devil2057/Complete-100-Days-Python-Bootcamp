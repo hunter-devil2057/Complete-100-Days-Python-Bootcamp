{
 "cells": [
  {
   "cell_type": "markdown",
   "metadata": {},
   "source": [
    "1. Prompt the user to enter their age. \n",
    "2. Check if the age is greater than or equal to 18. \n",
    "    - if yes, prompt the user to enter their country \n",
    "        - if the country is not \"USA\", print \"You are eligible to vote in the USA\" \n",
    "        - if the country is not \"USA\", print \"You are eligible to vote, but not in the USA.\n",
    "    - If no, print \"You are not eligible to vote.\""
   ]
  },
  {
   "cell_type": "code",
   "execution_count": 2,
   "metadata": {},
   "outputs": [
    {
     "name": "stdout",
     "output_type": "stream",
     "text": [
      "21\n",
      "USA\n",
      "You are eligible to vote in the USA\n"
     ]
    }
   ],
   "source": [
    "age=int(input(\"Enter Age: \"))\n",
    "print(age)\n",
    "if age>=18: \n",
    "    country=input(\"Enter Country: \").upper()\n",
    "    print(country)\n",
    "    if country=='USA':\n",
    "        print(\"You are eligible to vote in the USA\")\n",
    "    else:\n",
    "        print(\"You are eligible to vote, but not in the USA\")\n",
    "else:\n",
    "    print(\"You are not eligible to vote.\")"
   ]
  }
 ],
 "metadata": {
  "kernelspec": {
   "display_name": "base",
   "language": "python",
   "name": "python3"
  },
  "language_info": {
   "codemirror_mode": {
    "name": "ipython",
    "version": 3
   },
   "file_extension": ".py",
   "mimetype": "text/x-python",
   "name": "python",
   "nbconvert_exporter": "python",
   "pygments_lexer": "ipython3",
   "version": "3.12.4"
  }
 },
 "nbformat": 4,
 "nbformat_minor": 2
}
