{
 "cells": [
  {
   "cell_type": "markdown",
   "metadata": {},
   "source": [
    "Nested If Statement: \n",
    "- Nested If Statement means, if statement inside another if statement block."
   ]
  },
  {
   "cell_type": "markdown",
   "metadata": {},
   "source": [
    "Syntax: \n",
    "- if(condition1):\n",
    "    - if(condition2)\n",
    "        - Statement/Set of Statements \n",
    "- Here, when condition1 is true then condition will be checked, and inside 2nd if statement block, all the statement or set of statement will be executed if both condition becomes true. "
   ]
  },
  {
   "cell_type": "code",
   "execution_count": 9,
   "metadata": {},
   "outputs": [
    {
     "name": "stdout",
     "output_type": "stream",
     "text": [
      "Number is not divisible by 3\n"
     ]
    }
   ],
   "source": [
    "# Number divisible by 2 and 3\n",
    "num=4\n",
    "if(num%2==0):\n",
    "    if(num%3==0):\n",
    "        print(\"Number is divisible by 3 and 2.\")\n",
    "    else: \n",
    "        print(\"Number is not divisible by 3\")\n",
    "else:\n",
    "    print(\"Number is not divisible by 2.\")"
   ]
  }
 ],
 "metadata": {
  "kernelspec": {
   "display_name": "base",
   "language": "python",
   "name": "python3"
  },
  "language_info": {
   "codemirror_mode": {
    "name": "ipython",
    "version": 3
   },
   "file_extension": ".py",
   "mimetype": "text/x-python",
   "name": "python",
   "nbconvert_exporter": "python",
   "pygments_lexer": "ipython3",
   "version": "3.12.4"
  }
 },
 "nbformat": 4,
 "nbformat_minor": 2
}
