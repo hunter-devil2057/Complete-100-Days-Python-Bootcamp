{
 "cells": [
  {
   "cell_type": "markdown",
   "metadata": {},
   "source": [
    "Write a Python program to get Name from User and display the name should contain 5 character or less than 10 and name should start from \"a\" character."
   ]
  },
  {
   "cell_type": "code",
   "execution_count": 9,
   "metadata": {},
   "outputs": [
    {
     "name": "stdout",
     "output_type": "stream",
     "text": [
      "Ayush \n",
      "Length of name:  5\n",
      "Your name is: Ayush\n"
     ]
    }
   ],
   "source": [
    "getName=input(\"Enter your Name: \").lower()\n",
    "print(getName.capitalize(), \"\\nLength of name: \", len(getName))\n",
    "if(len(getName)==5 or len(getName)<10):\n",
    "    if(getName.startswith('a')):\n",
    "        print(\"Your name is: \"+getName.capitalize())"
   ]
  }
 ],
 "metadata": {
  "kernelspec": {
   "display_name": "base",
   "language": "python",
   "name": "python3"
  },
  "language_info": {
   "codemirror_mode": {
    "name": "ipython",
    "version": 3
   },
   "file_extension": ".py",
   "mimetype": "text/x-python",
   "name": "python",
   "nbconvert_exporter": "python",
   "pygments_lexer": "ipython3",
   "version": "3.12.4"
  }
 },
 "nbformat": 4,
 "nbformat_minor": 2
}
