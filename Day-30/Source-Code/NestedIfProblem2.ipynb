{
 "cells": [
  {
   "cell_type": "markdown",
   "metadata": {},
   "source": [
    "Write a Python program to get Age and Marks from User. The System Select that user which have greater than or equal to 18 years age and marks should be greater than 90 and less than 100. "
   ]
  },
  {
   "cell_type": "code",
   "execution_count": 5,
   "metadata": {},
   "outputs": [
    {
     "name": "stdout",
     "output_type": "stream",
     "text": [
      "Age Issue\n"
     ]
    }
   ],
   "source": [
    "age=int(input(\"Enter your age: \"))\n",
    "marks=int(input(\"Enter your marks: \"))\n",
    "if(age>=18):\n",
    "    if(marks>90 and marks<100):\n",
    "        print(\"You're selected.\")\n",
    "        print(f\"Because your age is {age} and your marks is {marks}\")\n",
    "    else: \n",
    "        print(\"Marks Issue\")\n",
    "else:\n",
    "    print(\"Age Issue\")"
   ]
  }
 ],
 "metadata": {
  "kernelspec": {
   "display_name": "base",
   "language": "python",
   "name": "python3"
  },
  "language_info": {
   "codemirror_mode": {
    "name": "ipython",
    "version": 3
   },
   "file_extension": ".py",
   "mimetype": "text/x-python",
   "name": "python",
   "nbconvert_exporter": "python",
   "pygments_lexer": "ipython3",
   "version": "3.12.4"
  }
 },
 "nbformat": 4,
 "nbformat_minor": 2
}
