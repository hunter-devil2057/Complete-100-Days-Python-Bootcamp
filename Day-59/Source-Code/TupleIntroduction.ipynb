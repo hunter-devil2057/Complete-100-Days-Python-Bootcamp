{
 "cells": [
  {
   "cell_type": "markdown",
   "metadata": {},
   "source": [
    "**Python Tuple Introduction**\n",
    "- Tuple is the data type used in Python\n",
    "- Tuple is the Immutable Data Type, we cannot change tuple item after creation. \n",
    "- Tuple works like list but some difference. \n",
    "- Tuple contains multiple values having different data types. \n",
    "- Tuple is the ordered data structure having a sequence in items/elements\n",
    "- Tuple stored elements/items enclosed with parennthesis (optional)\n",
    "- We can create a Tuple inside another tuple, as Nested Tuple\n",
    "- We can Concatenate more tuples (tuples + tuples)\n",
    "- We can repeat a Tuple many times using * symbol. \n",
    "- We can use membership operator to check any element in tuple. \n",
    "- We can iterate tuple item one by one. "
   ]
  },
  {
   "cell_type": "markdown",
   "metadata": {},
   "source": [
    "**Tuple Example**\n",
    "- (3,)\n",
    "- (\"Python\", \"C++\", \"JavaScript\", \"C\", \"Java\", \"HTML\")\n",
    "- language=(\"Python\", \"C++\", \"JavaScript\", \"C\", \"Java\", \"HTML\")\n",
    "- (1, 3.4, 4+4j, \"Jafri\")"
   ]
  },
  {
   "cell_type": "markdown",
   "metadata": {},
   "source": [
    "**Example:**"
   ]
  },
  {
   "cell_type": "code",
   "execution_count": 1,
   "metadata": {},
   "outputs": [
    {
     "name": "stdout",
     "output_type": "stream",
     "text": [
      "<class 'tuple'>\n",
      "(5, 12, 8, 3, 1, 41, 0)\n"
     ]
    }
   ],
   "source": [
    "tple=(5, 12, 8, 3, 1, 41, 0)\n",
    "print(type(tple))\n",
    "print(tple)"
   ]
  },
  {
   "cell_type": "code",
   "execution_count": 2,
   "metadata": {},
   "outputs": [
    {
     "name": "stdout",
     "output_type": "stream",
     "text": [
      "(5, 12, 8, 3, 1, 41, 0, 10, 20)\n"
     ]
    }
   ],
   "source": [
    "tple=(5, 12, 8, 3, 1, 41, 0)\n",
    "tple1=(10, 20)\n",
    "tple2=tple+tple1\n",
    "# print(type(tple))\n",
    "print(tple2)"
   ]
  },
  {
   "cell_type": "code",
   "execution_count": 3,
   "metadata": {},
   "outputs": [
    {
     "name": "stdout",
     "output_type": "stream",
     "text": [
      "(10, 20, 10, 20, 10, 20, 10, 20, 10, 20)\n"
     ]
    }
   ],
   "source": [
    "tple=(5, 12, 8, 3, 1, 41, 0)\n",
    "tple1=(10, 20)*5\n",
    "# tple2=tple+tple1\n",
    "# print(type(tple))\n",
    "print(tple1)"
   ]
  },
  {
   "cell_type": "code",
   "execution_count": 4,
   "metadata": {},
   "outputs": [
    {
     "name": "stdout",
     "output_type": "stream",
     "text": [
      "True\n"
     ]
    }
   ],
   "source": [
    "tple=(5, 12, 8, 3, 1, 41, 0)\n",
    "tple1=(10, 20)\n",
    "tple2=tple+tple1\n",
    "# print(type(tple))\n",
    "print(5 in tple)"
   ]
  },
  {
   "cell_type": "code",
   "execution_count": 5,
   "metadata": {},
   "outputs": [
    {
     "name": "stdout",
     "output_type": "stream",
     "text": [
      "5\n",
      "12\n",
      "8\n",
      "3\n",
      "1\n",
      "41\n",
      "0\n"
     ]
    }
   ],
   "source": [
    "for i in tple:\n",
    "    print(i)"
   ]
  }
 ],
 "metadata": {
  "kernelspec": {
   "display_name": "base",
   "language": "python",
   "name": "python3"
  },
  "language_info": {
   "codemirror_mode": {
    "name": "ipython",
    "version": 3
   },
   "file_extension": ".py",
   "mimetype": "text/x-python",
   "name": "python",
   "nbconvert_exporter": "python",
   "pygments_lexer": "ipython3",
   "version": "3.12.4"
  }
 },
 "nbformat": 4,
 "nbformat_minor": 2
}
