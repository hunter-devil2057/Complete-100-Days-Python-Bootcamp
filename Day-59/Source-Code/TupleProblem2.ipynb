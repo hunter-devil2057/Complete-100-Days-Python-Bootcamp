{
 "cells": [
  {
   "cell_type": "markdown",
   "metadata": {},
   "source": [
    "Write a Python program to get 10 number from User, store in Tuple, and display only Odd number getting from Tuple."
   ]
  },
  {
   "cell_type": "code",
   "execution_count": 5,
   "metadata": {},
   "outputs": [
    {
     "name": "stdout",
     "output_type": "stream",
     "text": [
      "Input Numbers:  (12, 13, 14, 51, 17, 32, 41, 90, 89, 51)\n",
      "Odd numbers:  (13, 51, 17, 41, 89, 51)\n"
     ]
    }
   ],
   "source": [
    "num=[]\n",
    "oddNum=[]\n",
    "for i in range(10):\n",
    "    num.append(int(input(\"Enter a Number: \")))\n",
    "tupleNum=tuple(num) #converting List to Tuple\n",
    "print(\"Input Numbers: \", tupleNum)\n",
    "for i in num: \n",
    "    if i%2!=0:\n",
    "        oddNum.append(i)\n",
    "oddNumTuple=tuple(oddNum)\n",
    "print(\"Odd numbers: \", oddNumTuple)"
   ]
  }
 ],
 "metadata": {
  "kernelspec": {
   "display_name": "base",
   "language": "python",
   "name": "python3"
  },
  "language_info": {
   "codemirror_mode": {
    "name": "ipython",
    "version": 3
   },
   "file_extension": ".py",
   "mimetype": "text/x-python",
   "name": "python",
   "nbconvert_exporter": "python",
   "pygments_lexer": "ipython3",
   "version": "3.12.4"
  }
 },
 "nbformat": 4,
 "nbformat_minor": 2
}
