{
 "cells": [
  {
   "cell_type": "markdown",
   "metadata": {},
   "source": [
    "Write a Python program to get 5 students name from User and store in Tuple, display all the students name with Uppercase letters."
   ]
  },
  {
   "cell_type": "code",
   "execution_count": 4,
   "metadata": {},
   "outputs": [
    {
     "name": "stdout",
     "output_type": "stream",
     "text": [
      "('Manish', 'Ram', 'Shyam', 'Hari', 'Laxmi')\n"
     ]
    }
   ],
   "source": [
    "std=[]  #it's a list, it's not possible with Tuple\n",
    "for i in range(5):\n",
    "    std.append(input(\"Enter Student Name: \"))\n",
    "stdTuple=tuple(std) #changing list into tuple\n",
    "print(stdTuple)"
   ]
  },
  {
   "cell_type": "code",
   "execution_count": 5,
   "metadata": {},
   "outputs": [
    {
     "name": "stdout",
     "output_type": "stream",
     "text": [
      "MANISH\n",
      "RAM\n",
      "SHYAM\n",
      "HARI\n",
      "LAXMI\n"
     ]
    }
   ],
   "source": [
    "for i in stdTuple:\n",
    "    print(i.upper())"
   ]
  }
 ],
 "metadata": {
  "kernelspec": {
   "display_name": "base",
   "language": "python",
   "name": "python3"
  },
  "language_info": {
   "codemirror_mode": {
    "name": "ipython",
    "version": 3
   },
   "file_extension": ".py",
   "mimetype": "text/x-python",
   "name": "python",
   "nbconvert_exporter": "python",
   "pygments_lexer": "ipython3",
   "version": "3.12.4"
  }
 },
 "nbformat": 4,
 "nbformat_minor": 2
}
