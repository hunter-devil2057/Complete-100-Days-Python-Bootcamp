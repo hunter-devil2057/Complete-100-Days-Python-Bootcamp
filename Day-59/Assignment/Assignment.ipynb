{
 "cells": [
  {
   "cell_type": "markdown",
   "metadata": {},
   "source": [
    "1. Create a tuple named **colors** containing the following colors: \"Red\", \"Green\", \"Blue\", \"Yellow\", \"Orange\".\n",
    "2. Print the **colors** tuple.\n",
    "3. Prompt the user to enter a color.\n",
    "4. Check if the entered color is present in the **colors** tuple.\n",
    "5. Print whether the color is present or not."
   ]
  },
  {
   "cell_type": "code",
   "execution_count": 2,
   "metadata": {},
   "outputs": [
    {
     "name": "stdout",
     "output_type": "stream",
     "text": [
      "('Red', 'Green', 'Blue', 'Yellow', 'Orange')\n",
      "Yellow is present in the Tuple.\n"
     ]
    }
   ],
   "source": [
    "colors=(\"Red\", \"Green\", \"Blue\", \"Yellow\", \"Orange\")\n",
    "print(colors)\n",
    "colorCheck=input(\"Enter a Color: \")\n",
    "if colorCheck in colors:\n",
    "    print(f\"{colorCheck} is present in the Tuple.\")\n",
    "else:\n",
    "    print(f\"{colorCheck} is not present in the Tuple.\")"
   ]
  }
 ],
 "metadata": {
  "kernelspec": {
   "display_name": "base",
   "language": "python",
   "name": "python3"
  },
  "language_info": {
   "codemirror_mode": {
    "name": "ipython",
    "version": 3
   },
   "file_extension": ".py",
   "mimetype": "text/x-python",
   "name": "python",
   "nbconvert_exporter": "python",
   "pygments_lexer": "ipython3",
   "version": "3.12.4"
  }
 },
 "nbformat": 4,
 "nbformat_minor": 2
}
