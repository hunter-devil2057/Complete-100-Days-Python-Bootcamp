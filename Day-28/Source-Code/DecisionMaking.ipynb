{
 "cells": [
  {
   "cell_type": "markdown",
   "metadata": {},
   "source": [
    "Python Decision Making Structure \n",
    "- The structure in which we provide a condition, on the basis of condition, a statement or set of statement is execute. \n",
    "- We can use decision making structure, in which our code decide to execute statement OR Set of statements according to given condition. "
   ]
  },
  {
   "cell_type": "markdown",
   "metadata": {},
   "source": [
    "Examples: \n",
    "- Display a message \"Congratulation, you can take participant in this program\", if person age is 18 or greater than 18"
   ]
  },
  {
   "cell_type": "code",
   "execution_count": 3,
   "metadata": {},
   "outputs": [
    {
     "name": "stdout",
     "output_type": "stream",
     "text": [
      "Age: 21\n",
      "Congratulation, you can take participant in this program\n"
     ]
    }
   ],
   "source": [
    "age=int(input(\"Enter your Age: \"))\n",
    "print(f\"Age: {age}\")\n",
    "if(age==18 or age>18):\n",
    "    print(\"Congratulation, you can take participant in this program\")\n",
    "else:\n",
    "    print(\"You're not eligible\")"
   ]
  },
  {
   "cell_type": "markdown",
   "metadata": {},
   "source": [
    "- Display Message \"Welcome\" if day is Friday"
   ]
  },
  {
   "cell_type": "code",
   "execution_count": 4,
   "metadata": {},
   "outputs": [
    {
     "name": "stdout",
     "output_type": "stream",
     "text": [
      "friday\n",
      "Welcome\n"
     ]
    }
   ],
   "source": [
    "dayofWeek=input(\"Enter Day of Week: \").lower()\n",
    "print(dayofWeek)\n",
    "if(dayofWeek=='friday'):\n",
    "    print(\"Welcome\")"
   ]
  },
  {
   "cell_type": "markdown",
   "metadata": {},
   "source": [
    "- Display message, \"you are eligible for the admission of MCS\", if your marks is greater than 1000"
   ]
  },
  {
   "cell_type": "code",
   "execution_count": 6,
   "metadata": {},
   "outputs": [
    {
     "name": "stdout",
     "output_type": "stream",
     "text": [
      "1520\n",
      "You are eligible for the admission of MCS\n"
     ]
    }
   ],
   "source": [
    "marksQuery=int(input(\"Enter your Secured Marks: \"))\n",
    "print(marksQuery)\n",
    "if(marksQuery>1000):\n",
    "    print(\"You are eligible for the admission of MCS\")\n",
    "else:\n",
    "    print(\"You are not eligible for the admission of MCS\")"
   ]
  },
  {
   "cell_type": "markdown",
   "metadata": {},
   "source": [
    "- Show a message \"It is even number\" if user input a number that is divisible by 2."
   ]
  },
  {
   "cell_type": "code",
   "execution_count": 7,
   "metadata": {},
   "outputs": [
    {
     "name": "stdout",
     "output_type": "stream",
     "text": [
      "8\n",
      "8 is Even.\n"
     ]
    }
   ],
   "source": [
    "numInput=int(input(\"Enter a Number: \"))\n",
    "print(numInput)\n",
    "if numInput%2==0:\n",
    "    print(f\"{numInput} is Even.\")\n",
    "else:\n",
    "    print(f\"{numInput} is Odd.\") "
   ]
  },
  {
   "cell_type": "markdown",
   "metadata": {},
   "source": [
    "Different Python Decision Making Structure\n",
    "- There are different decision making structures used in Python. \n",
    "- Following types of decision making structure, work with given condition:\n",
    "    - if statement\n",
    "    - if... else statement \n",
    "    - Nest if statement\n",
    "    - if elif else statement"
   ]
  }
 ],
 "metadata": {
  "kernelspec": {
   "display_name": "base",
   "language": "python",
   "name": "python3"
  },
  "language_info": {
   "codemirror_mode": {
    "name": "ipython",
    "version": 3
   },
   "file_extension": ".py",
   "mimetype": "text/x-python",
   "name": "python",
   "nbconvert_exporter": "python",
   "pygments_lexer": "ipython3",
   "version": "3.12.4"
  }
 },
 "nbformat": 4,
 "nbformat_minor": 2
}
