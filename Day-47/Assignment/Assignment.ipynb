{
 "cells": [
  {
   "cell_type": "markdown",
   "metadata": {},
   "source": [
    "1. Prompt the user to enter a string. \n",
    "2. Print the following information about the entered string: \n",
    "    - Length of the string\n",
    "    - Convert the string to title case. \n",
    "    - Find the index of the first occurrence of a specific substring in the string. \n",
    "    - Check if the string ends with a specific substring. \n"
   ]
  },
  {
   "cell_type": "code",
   "execution_count": 4,
   "metadata": {},
   "outputs": [
    {
     "name": "stdout",
     "output_type": "stream",
     "text": [
      "Entered String:  Hey, this is me Manish\n",
      "Length of String:  22\n",
      "Title Case of String:  Hey, This Is Me Manish\n",
      "'i' is available in position:  8\n",
      "Input doesn't Ends with 'me'\n"
     ]
    }
   ],
   "source": [
    "userInput=input(\"Enter a String: \")\n",
    "print(\"Entered String: \", userInput)\n",
    "lenString=len(userInput)\n",
    "print(\"Length of String: \", lenString)\n",
    "titleString=userInput.title()\n",
    "print(\"Title Case of String: \", titleString)\n",
    "strIndex=userInput.index(\"i\")\n",
    "print(\"\\'i\\' is available in position: \", strIndex+1)\n",
    "if userInput.endswith(\"me\"):\n",
    "    print(\"Input Ends with \\'me\\'\")\n",
    "else:\n",
    "    print(\"Input doesn't Ends with \\'me\\'\")"
   ]
  },
  {
   "cell_type": "code",
   "execution_count": 5,
   "metadata": {},
   "outputs": [
    {
     "name": "stdout",
     "output_type": "stream",
     "text": [
      "Entered String:  Hey, this is me\n",
      "Length of String:  15\n",
      "Title Case of String:  Hey, This Is Me\n",
      "'i' is available in position:  8\n",
      "Input Ends with 'me'\n"
     ]
    }
   ],
   "source": [
    "userInput=input(\"Enter a String: \")\n",
    "print(\"Entered String: \", userInput)\n",
    "lenString=len(userInput)\n",
    "print(\"Length of String: \", lenString)\n",
    "titleString=userInput.title()\n",
    "print(\"Title Case of String: \", titleString)\n",
    "strIndex=userInput.index(\"i\")\n",
    "print(\"\\'i\\' is available in position: \", strIndex+1)\n",
    "if userInput.endswith(\"me\"):\n",
    "    print(\"Input Ends with \\'me\\'\")\n",
    "else:\n",
    "    print(\"Input doesn't Ends with \\'me\\'\")"
   ]
  }
 ],
 "metadata": {
  "kernelspec": {
   "display_name": "base",
   "language": "python",
   "name": "python3"
  },
  "language_info": {
   "codemirror_mode": {
    "name": "ipython",
    "version": 3
   },
   "file_extension": ".py",
   "mimetype": "text/x-python",
   "name": "python",
   "nbconvert_exporter": "python",
   "pygments_lexer": "ipython3",
   "version": "3.12.4"
  }
 },
 "nbformat": 4,
 "nbformat_minor": 2
}
