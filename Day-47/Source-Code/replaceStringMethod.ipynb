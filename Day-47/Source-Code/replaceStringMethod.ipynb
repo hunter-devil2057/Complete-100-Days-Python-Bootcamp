{
 "cells": [
  {
   "cell_type": "markdown",
   "metadata": {},
   "source": [
    "**String Method replace()**\n",
    "- It is used to replace one character or set of character to other. "
   ]
  },
  {
   "cell_type": "markdown",
   "metadata": {},
   "source": [
    "**Syntax:** string.replace(old, new)"
   ]
  },
  {
   "cell_type": "markdown",
   "metadata": {},
   "source": [
    "**Example:**"
   ]
  },
  {
   "cell_type": "code",
   "execution_count": 1,
   "metadata": {},
   "outputs": [
    {
     "name": "stdout",
     "output_type": "stream",
     "text": [
      "How are you Manish?\n"
     ]
    }
   ],
   "source": [
    "str=\"How are you Hunter?\"\n",
    "x=str.replace(\"Hunter\", \"Manish\")\n",
    "print(x)"
   ]
  },
  {
   "cell_type": "code",
   "execution_count": 3,
   "metadata": {},
   "outputs": [
    {
     "name": "stdout",
     "output_type": "stream",
     "text": [
      "Hunter Devil\n",
      "Dynamic Devil\n"
     ]
    }
   ],
   "source": [
    "name=\"Hunter Devil\"\n",
    "print(name)\n",
    "newName=name.replace(\"Hunter\", \"Dynamic\")\n",
    "print(newName)"
   ]
  },
  {
   "cell_type": "code",
   "execution_count": 5,
   "metadata": {},
   "outputs": [
    {
     "name": "stdout",
     "output_type": "stream",
     "text": [
      "Hunter Devil\n"
     ]
    }
   ],
   "source": [
    "sentence=\"What are you doing?\"\n",
    "repSentence=name.replace(\"What are you doing?\", \"How are you?\")\n",
    "print(repSentence)"
   ]
  }
 ],
 "metadata": {
  "kernelspec": {
   "display_name": "base",
   "language": "python",
   "name": "python3"
  },
  "language_info": {
   "codemirror_mode": {
    "name": "ipython",
    "version": 3
   },
   "file_extension": ".py",
   "mimetype": "text/x-python",
   "name": "python",
   "nbconvert_exporter": "python",
   "pygments_lexer": "ipython3",
   "version": "3.12.4"
  }
 },
 "nbformat": 4,
 "nbformat_minor": 2
}
