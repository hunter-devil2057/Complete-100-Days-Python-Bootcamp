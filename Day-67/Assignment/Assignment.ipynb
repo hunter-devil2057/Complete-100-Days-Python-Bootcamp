{
 "cells": [
  {
   "cell_type": "markdown",
   "metadata": {},
   "source": [
    "1. Create a dictionary named student with the following key-value pairs: \n",
    "    - \"name\": \"John\"\n",
    "    - \"age\": 25\n",
    "    - \"city\": \"New York\"\n",
    "    - \"country\": \"USA\"\n",
    "2. Use a loop to print each key-value pair of the student dictionary. "
   ]
  },
  {
   "cell_type": "code",
   "execution_count": 1,
   "metadata": {},
   "outputs": [
    {
     "name": "stdout",
     "output_type": "stream",
     "text": [
      "name: John\n",
      "age: 25\n",
      "city: New York\n",
      "country: USA\n"
     ]
    }
   ],
   "source": [
    "student={\n",
    "    \"name\": \"John\", \n",
    "    \"age\": 25, \n",
    "    \"city\": \"New York\", \n",
    "    \"country\": \"USA\"\n",
    "}\n",
    "for key, value in student.items():\n",
    "    print(f\"{key}: {value}\")"
   ]
  }
 ],
 "metadata": {
  "kernelspec": {
   "display_name": "base",
   "language": "python",
   "name": "python3"
  },
  "language_info": {
   "codemirror_mode": {
    "name": "ipython",
    "version": 3
   },
   "file_extension": ".py",
   "mimetype": "text/x-python",
   "name": "python",
   "nbconvert_exporter": "python",
   "pygments_lexer": "ipython3",
   "version": "3.12.4"
  }
 },
 "nbformat": 4,
 "nbformat_minor": 2
}
