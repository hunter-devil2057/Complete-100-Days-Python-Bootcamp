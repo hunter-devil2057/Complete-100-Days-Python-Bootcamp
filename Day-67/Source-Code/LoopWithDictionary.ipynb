{
 "cells": [
  {
   "cell_type": "markdown",
   "metadata": {},
   "source": [
    "**Loop with Python Dictionary**\n",
    "- We can iterate dicitonary items. \n",
    "- Items is the collection of key and value pair. \n",
    "- We can also iterate keys and values separately \n",
    "- We can iterate dictionary items/keys/values in order to search or filter any required data. "
   ]
  },
  {
   "cell_type": "markdown",
   "metadata": {},
   "source": [
    "**Need of Loop with Dictionary**\n",
    "- Using loop, we can analyze all the items,or elements or a dictionary. \n",
    "- Using loop, we can display all the items to screen.\n",
    "- Using loop, we can find any specific key or key value from a dictionary. \n",
    "- A lots of problem can be solved using loop with dictionary. \n",
    "- We can iterate keys and values separately from dictionary. "
   ]
  },
  {
   "cell_type": "markdown",
   "metadata": {},
   "source": [
    "**Example:**"
   ]
  },
  {
   "cell_type": "markdown",
   "metadata": {},
   "source": [
    "- Iterating Items"
   ]
  },
  {
   "cell_type": "code",
   "execution_count": 1,
   "metadata": {},
   "outputs": [
    {
     "name": "stdout",
     "output_type": "stream",
     "text": [
      "a : 4\n",
      "b : 1\n",
      "c : 6\n",
      "d : 2\n",
      "e : 3\n"
     ]
    }
   ],
   "source": [
    "aDict={'a': 4, 'b': 1, 'c': 6, 'd': 2, 'e': 3}\n",
    "for key, value in aDict.items():\n",
    "    print(key, ':', value)"
   ]
  },
  {
   "cell_type": "markdown",
   "metadata": {},
   "source": [
    "- Iterating Keys"
   ]
  },
  {
   "cell_type": "code",
   "execution_count": 3,
   "metadata": {},
   "outputs": [
    {
     "name": "stdout",
     "output_type": "stream",
     "text": [
      "a\n",
      "b\n",
      "c\n",
      "d\n",
      "e\n"
     ]
    }
   ],
   "source": [
    "aDict={'a': 4, 'b': 1, 'c': 6, 'd': 2, 'e': 3}\n",
    "for key, value in aDict.items():\n",
    "    print(key)"
   ]
  },
  {
   "cell_type": "markdown",
   "metadata": {},
   "source": [
    "- Iterating Values"
   ]
  },
  {
   "cell_type": "code",
   "execution_count": 4,
   "metadata": {},
   "outputs": [
    {
     "name": "stdout",
     "output_type": "stream",
     "text": [
      "4\n",
      "1\n",
      "6\n",
      "2\n",
      "3\n"
     ]
    }
   ],
   "source": [
    "aDict={'a': 4, 'b': 1, 'c': 6, 'd': 2, 'e': 3}\n",
    "for key, value in aDict.items():\n",
    "    print(value)"
   ]
  },
  {
   "cell_type": "markdown",
   "metadata": {},
   "source": [
    "**Looping with Key And Values**\n",
    "- As dictionary contain items, a single item is the collection of key and value pair. \n",
    "- We can iterate key and value separately. "
   ]
  },
  {
   "cell_type": "markdown",
   "metadata": {},
   "source": [
    "**Examples:**"
   ]
  },
  {
   "cell_type": "markdown",
   "metadata": {},
   "source": [
    "- Iterating Keys"
   ]
  },
  {
   "cell_type": "code",
   "execution_count": 5,
   "metadata": {},
   "outputs": [
    {
     "name": "stdout",
     "output_type": "stream",
     "text": [
      "1\n",
      "2\n",
      "3\n",
      "4\n",
      "5\n"
     ]
    }
   ],
   "source": [
    "color={1: \"red\", 2: \"blue\", 3: \"yellow\", 4: \"pink\", 5: \"black\"}\n",
    "for key in color.keys():\n",
    "    print(key)"
   ]
  },
  {
   "cell_type": "markdown",
   "metadata": {},
   "source": [
    "- Iterating Values"
   ]
  },
  {
   "cell_type": "code",
   "execution_count": 6,
   "metadata": {},
   "outputs": [
    {
     "name": "stdout",
     "output_type": "stream",
     "text": [
      "red\n",
      "blue\n",
      "yellow\n",
      "pink\n",
      "black\n"
     ]
    }
   ],
   "source": [
    "color={1: \"red\", 2: \"blue\", 3: \"yellow\", 4: \"pink\", 5: \"black\"}\n",
    "for values in color.values():\n",
    "    print(values)"
   ]
  },
  {
   "cell_type": "code",
   "execution_count": 9,
   "metadata": {},
   "outputs": [
    {
     "name": "stdout",
     "output_type": "stream",
     "text": [
      "black\n",
      "black\n"
     ]
    }
   ],
   "source": [
    "color={1: \"red\", 2: \"blue\", 3: \"yellow\", 4: \"pink\", 5: \"black\"}\n",
    "for i in color.values():\n",
    "    if i.startswith(\"b\"):\n",
    "        print(values)"
   ]
  }
 ],
 "metadata": {
  "kernelspec": {
   "display_name": "base",
   "language": "python",
   "name": "python3"
  },
  "language_info": {
   "codemirror_mode": {
    "name": "ipython",
    "version": 3
   },
   "file_extension": ".py",
   "mimetype": "text/x-python",
   "name": "python",
   "nbconvert_exporter": "python",
   "pygments_lexer": "ipython3",
   "version": "3.12.4"
  }
 },
 "nbformat": 4,
 "nbformat_minor": 2
}
