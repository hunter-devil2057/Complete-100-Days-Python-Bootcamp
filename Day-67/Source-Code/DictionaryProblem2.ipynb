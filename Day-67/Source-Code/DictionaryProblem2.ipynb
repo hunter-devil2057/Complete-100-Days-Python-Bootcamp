{
 "cells": [
  {
   "cell_type": "markdown",
   "metadata": {},
   "source": [
    "Write a Python program to get 5 digital products and their price. Display total price of the products. "
   ]
  },
  {
   "cell_type": "code",
   "execution_count": 7,
   "metadata": {},
   "outputs": [
    {
     "name": "stdout",
     "output_type": "stream",
     "text": [
      "{'A': 1000, 'B': 2000, 'C': 3000, 'D': 4000, 'E': 5000}\n",
      "Total: Rs. 15000\n"
     ]
    }
   ],
   "source": [
    "products={}\n",
    "for i in range(5):\n",
    "    productName=input(\"Enter Product Name: \")\n",
    "    productPrice=int(input(\"Enter Product Price: Rs.\"))\n",
    "    products[productName]=productPrice\n",
    "print(products)\n",
    "\n",
    "sum=0\n",
    "for i in products.values():\n",
    "    sum=sum+i\n",
    "print(\"Total: Rs.\", sum)"
   ]
  }
 ],
 "metadata": {
  "kernelspec": {
   "display_name": "base",
   "language": "python",
   "name": "python3"
  },
  "language_info": {
   "codemirror_mode": {
    "name": "ipython",
    "version": 3
   },
   "file_extension": ".py",
   "mimetype": "text/x-python",
   "name": "python",
   "nbconvert_exporter": "python",
   "pygments_lexer": "ipython3",
   "version": "3.12.4"
  }
 },
 "nbformat": 4,
 "nbformat_minor": 2
}
