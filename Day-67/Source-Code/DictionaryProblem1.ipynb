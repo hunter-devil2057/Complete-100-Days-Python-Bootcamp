{
 "cells": [
  {
   "cell_type": "markdown",
   "metadata": {},
   "source": [
    "Write a Python program to get 5 Student Name with their Marks and display student name and their marks in the Key-Value Form. "
   ]
  },
  {
   "cell_type": "code",
   "execution_count": 2,
   "metadata": {},
   "outputs": [
    {
     "name": "stdout",
     "output_type": "stream",
     "text": [
      "{'Manish': 89, 'Rajesh': 98, 'Hari': 79, 'Dinesh': 57, 'Ram': 90}\n"
     ]
    }
   ],
   "source": [
    "stdInfo={}\n",
    "for i in range(5):\n",
    "    stdName=input(\"Enter Student Name: \")\n",
    "    stdMarks=int(input(\"Enter Student Marks: \"))\n",
    "    stdInfo[stdName]=stdMarks\n",
    "print(stdInfo)"
   ]
  }
 ],
 "metadata": {
  "kernelspec": {
   "display_name": "base",
   "language": "python",
   "name": "python3"
  },
  "language_info": {
   "codemirror_mode": {
    "name": "ipython",
    "version": 3
   },
   "file_extension": ".py",
   "mimetype": "text/x-python",
   "name": "python",
   "nbconvert_exporter": "python",
   "pygments_lexer": "ipython3",
   "version": "3.12.4"
  }
 },
 "nbformat": 4,
 "nbformat_minor": 2
}
