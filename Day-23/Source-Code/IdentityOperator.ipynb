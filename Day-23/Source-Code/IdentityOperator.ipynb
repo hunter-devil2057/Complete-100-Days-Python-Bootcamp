{
 "cells": [
  {
   "cell_type": "markdown",
   "metadata": {},
   "source": [
    "Identity Operator: operator checking identity of two variables.\n",
    "Two Identity Operators: 'is' and 'is not'\n",
    "'is': used to check variables on both sides of operator, same object or not"
   ]
  },
  {
   "cell_type": "code",
   "execution_count": 1,
   "metadata": {},
   "outputs": [
    {
     "name": "stdout",
     "output_type": "stream",
     "text": [
      "Identity Operator in Python\n",
      "140718062046552\n",
      "140718062045912\n",
      "False\n",
      "False\n"
     ]
    }
   ],
   "source": [
    "print(\"Identity Operator in Python\")\n",
    "x=30\n",
    "y=10\n",
    "print(id(x))        \n",
    "#Here, id() method is used to find their identities/address\n",
    "print(id(y))\n",
    "print(x is y)\n",
    "print(y is x)"
   ]
  },
  {
   "cell_type": "markdown",
   "metadata": {},
   "source": [
    "'is not': used to check variables on both side of operator, it will return true, if both side of operator, objects are not same. "
   ]
  },
  {
   "cell_type": "code",
   "execution_count": 2,
   "metadata": {},
   "outputs": [
    {
     "name": "stdout",
     "output_type": "stream",
     "text": [
      "Identity Operator in Python\n",
      "140718062046552\n",
      "140718062045912\n",
      "True\n",
      "True\n"
     ]
    }
   ],
   "source": [
    "print(\"Identity Operator in Python\")\n",
    "x=30\n",
    "y=10\n",
    "print(id(x))        \n",
    "#Here, id() method is used to find their identities/address\n",
    "print(id(y))\n",
    "print(x is not y)\n",
    "print(y is not x)"
   ]
  }
 ],
 "metadata": {
  "kernelspec": {
   "display_name": "Python 3",
   "language": "python",
   "name": "python3"
  },
  "language_info": {
   "codemirror_mode": {
    "name": "ipython",
    "version": 3
   },
   "file_extension": ".py",
   "mimetype": "text/x-python",
   "name": "python",
   "nbconvert_exporter": "python",
   "pygments_lexer": "ipython3",
   "version": "3.12.6"
  }
 },
 "nbformat": 4,
 "nbformat_minor": 2
}
