{
 "cells": [
  {
   "cell_type": "markdown",
   "metadata": {},
   "source": [
    "Write a python program to check list item in a list, to display those items which are same object. "
   ]
  },
  {
   "cell_type": "code",
   "execution_count": 12,
   "metadata": {},
   "outputs": [
    {
     "name": "stdout",
     "output_type": "stream",
     "text": [
      "Same object items found at the following positions:\n",
      "Items at positions 0 and 5 are the same object: 1\n",
      "Items at positions 1 and 3 are the same object: apple\n"
     ]
    }
   ],
   "source": [
    "# Function to check if any items in a list refer to the same object\n",
    "def find_same_object_items(input_list):\n",
    "    same_object_items = []  # To store pairs of same objects\n",
    "    n = len(input_list)\n",
    "\n",
    "    # Iterate through each pair of items in the list\n",
    "    for i in range(n):\n",
    "        for j in range(i + 1, n):\n",
    "            if input_list[i] is input_list[j]:\n",
    "                same_object_items.append((i, j, input_list[i]))\n",
    "\n",
    "    return same_object_items\n",
    "\n",
    "# Example usage\n",
    "my_list = [1, 'apple', [1, 2, 3], 'apple', [1, 2, 3], 1]\n",
    "\n",
    "result = find_same_object_items(my_list)\n",
    "\n",
    "if result:\n",
    "    print(\"Same object items found at the following positions:\")\n",
    "    for item in result:\n",
    "        print(f\"Items at positions {item[0]} and {item[1]} are the same object: {item[2]}\")\n",
    "else:\n",
    "    print(\"No same object items found in the list.\")\n"
   ]
  }
 ],
 "metadata": {
  "kernelspec": {
   "display_name": "Python 3",
   "language": "python",
   "name": "python3"
  },
  "language_info": {
   "codemirror_mode": {
    "name": "ipython",
    "version": 3
   },
   "file_extension": ".py",
   "mimetype": "text/x-python",
   "name": "python",
   "nbconvert_exporter": "python",
   "pygments_lexer": "ipython3",
   "version": "3.12.6"
  }
 },
 "nbformat": 4,
 "nbformat_minor": 2
}
