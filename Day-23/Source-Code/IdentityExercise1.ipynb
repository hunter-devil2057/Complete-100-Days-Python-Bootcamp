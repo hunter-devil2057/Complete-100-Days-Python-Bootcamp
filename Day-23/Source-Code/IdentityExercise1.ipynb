{
 "cells": [
  {
   "cell_type": "markdown",
   "metadata": {},
   "source": [
    "Write a Python program to get two numbers from the user, whether, they are same object or not. "
   ]
  },
  {
   "cell_type": "code",
   "execution_count": 3,
   "metadata": {},
   "outputs": [
    {
     "name": "stdout",
     "output_type": "stream",
     "text": [
      "num1=12\n",
      "num2=13\n",
      "Both Numbers are not same\n"
     ]
    }
   ],
   "source": [
    "num1=int(input(\"Enter First Number:\"))\n",
    "num2=int(input(\"Enter Second Number:\"))\n",
    "print(f'num1={num1}\\nnum2={num2}')\n",
    "if(num1 is num2):\n",
    "    print(\"Both Numbers are Same.\")\n",
    "else:\n",
    "    print(\"Both Numbers are not same\")"
   ]
  }
 ],
 "metadata": {
  "kernelspec": {
   "display_name": "Python 3",
   "language": "python",
   "name": "python3"
  },
  "language_info": {
   "codemirror_mode": {
    "name": "ipython",
    "version": 3
   },
   "file_extension": ".py",
   "mimetype": "text/x-python",
   "name": "python",
   "nbconvert_exporter": "python",
   "pygments_lexer": "ipython3",
   "version": "3.12.6"
  }
 },
 "nbformat": 4,
 "nbformat_minor": 2
}
