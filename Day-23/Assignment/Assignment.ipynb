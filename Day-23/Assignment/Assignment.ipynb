{
 "cells": [
  {
   "cell_type": "markdown",
   "metadata": {},
   "source": [
    "1. Create two variables 'x' and 'y' with the same value '10'\n",
    "2. Check if x and y are referring to the same object using identity operators.\n",
    "3. Print the result."
   ]
  },
  {
   "cell_type": "code",
   "execution_count": 2,
   "metadata": {},
   "outputs": [
    {
     "name": "stdout",
     "output_type": "stream",
     "text": [
      "x: 10\n",
      "y: 10\n",
      "Both x and y are same object\n"
     ]
    }
   ],
   "source": [
    "x=10; y=10\n",
    "print(f\"x: {x}\\ny: {y}\")\n",
    "if(x is y):\n",
    "    print(\"Both x and y are same object\")\n",
    "else: \n",
    "    print(\"x and y are not same \")"
   ]
  }
 ],
 "metadata": {
  "kernelspec": {
   "display_name": "Python 3",
   "language": "python",
   "name": "python3"
  },
  "language_info": {
   "codemirror_mode": {
    "name": "ipython",
    "version": 3
   },
   "file_extension": ".py",
   "mimetype": "text/x-python",
   "name": "python",
   "nbconvert_exporter": "python",
   "pygments_lexer": "ipython3",
   "version": "3.12.6"
  }
 },
 "nbformat": 4,
 "nbformat_minor": 2
}
