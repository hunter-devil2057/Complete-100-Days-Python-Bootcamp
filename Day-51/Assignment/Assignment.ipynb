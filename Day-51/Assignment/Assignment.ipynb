{
 "cells": [
  {
   "cell_type": "markdown",
   "metadata": {},
   "source": [
    "1. Prompt the user to enter a number. \n",
    "2. Print the following information about the entered number: \n",
    "    - Absolute value of the number. \n",
    "    - Square root of the number. \n",
    "    - Floor value of the number. \n",
    "    - Ceiling value of the number."
   ]
  },
  {
   "cell_type": "code",
   "execution_count": 4,
   "metadata": {},
   "outputs": [
    {
     "name": "stdout",
     "output_type": "stream",
     "text": [
      "number: 21.16\n",
      "Absolute Value:  21.16\n",
      "Square Root of 21.16=4.6\n",
      "Floor Value of 21.16=21\n",
      "Ceiling value of 21.16=22\n"
     ]
    }
   ],
   "source": [
    "import math\n",
    "num=float(input(\"Enter a Number: \"))\n",
    "print(f\"number: {num}\")\n",
    "absolute=abs(num)\n",
    "print(\"Absolute Value: \", absolute)\n",
    "sqRoot=math.sqrt(num)\n",
    "print(f\"Square Root of {num}={sqRoot}\")\n",
    "fValue=math.floor(num)\n",
    "print(f\"Floor Value of {num}={fValue}\")\n",
    "cValue=math.ceil(num)\n",
    "print(f\"Ceiling value of {num}={cValue}\")"
   ]
  }
 ],
 "metadata": {
  "kernelspec": {
   "display_name": "base",
   "language": "python",
   "name": "python3"
  },
  "language_info": {
   "codemirror_mode": {
    "name": "ipython",
    "version": 3
   },
   "file_extension": ".py",
   "mimetype": "text/x-python",
   "name": "python",
   "nbconvert_exporter": "python",
   "pygments_lexer": "ipython3",
   "version": "3.12.4"
  }
 },
 "nbformat": 4,
 "nbformat_minor": 2
}
