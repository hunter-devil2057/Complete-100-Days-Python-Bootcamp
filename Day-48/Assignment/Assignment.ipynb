{
 "cells": [
  {
   "cell_type": "markdown",
   "metadata": {},
   "source": [
    "1. Prompt the user to enter three numbers separated by spaces. \n",
    "2. Find and print the maximun and minimun of the three numbers. \n",
    "3. Calculate and print the average of the three numbers. "
   ]
  },
  {
   "cell_type": "code",
   "execution_count": 2,
   "metadata": {},
   "outputs": [
    {
     "name": "stdout",
     "output_type": "stream",
     "text": [
      "First Number: 12\n",
      "Second Number: 3\n",
      "Third Number: 9\n",
      "Maximum Number: 12\n",
      "Minimum Number: 3\n"
     ]
    }
   ],
   "source": [
    "num1=int(input(\"Enter First Number: \"))\n",
    "num2=int(input(\"Enter Second Number: \"))\n",
    "num3=int(input(\"Enter Third Number: \"))\n",
    "maxNum=max(num1, num2, num3)\n",
    "minNum=min(num1, num2, num3)\n",
    "print(f\"First Number: {num1}\")\n",
    "print(f\"Second Number: {num2}\")\n",
    "print(f\"Third Number: {num3}\")\n",
    "print(f\"Maximum Number: {maxNum}\")\n",
    "print(f\"Minimum Number: {minNum}\")"
   ]
  }
 ],
 "metadata": {
  "kernelspec": {
   "display_name": "base",
   "language": "python",
   "name": "python3"
  },
  "language_info": {
   "codemirror_mode": {
    "name": "ipython",
    "version": 3
   },
   "file_extension": ".py",
   "mimetype": "text/x-python",
   "name": "python",
   "nbconvert_exporter": "python",
   "pygments_lexer": "ipython3",
   "version": "3.12.4"
  }
 },
 "nbformat": 4,
 "nbformat_minor": 2
}
