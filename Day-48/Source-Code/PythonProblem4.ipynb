{
 "cells": [
  {
   "cell_type": "markdown",
   "metadata": {},
   "source": [
    "Write a Python program to get a string from User, system should be able to check White Space in the string. "
   ]
  },
  {
   "cell_type": "code",
   "execution_count": 4,
   "metadata": {},
   "outputs": [
    {
     "name": "stdout",
     "output_type": "stream",
     "text": [
      "Your Entered String is: \n",
      " Hey, this is me Manish Shiwakoti\n",
      "WhiteSpace is Present.\n"
     ]
    }
   ],
   "source": [
    "strInput=input(\"Enter a String:\" )\n",
    "print(\"Your Entered String is: \\n\", strInput)\n",
    "if \" \" in strInput:\n",
    "    print(\"WhiteSpace is Present.\")\n",
    "else:\n",
    "    print(\"WhiteSpace is not Present.\")"
   ]
  }
 ],
 "metadata": {
  "kernelspec": {
   "display_name": "base",
   "language": "python",
   "name": "python3"
  },
  "language_info": {
   "codemirror_mode": {
    "name": "ipython",
    "version": 3
   },
   "file_extension": ".py",
   "mimetype": "text/x-python",
   "name": "python",
   "nbconvert_exporter": "python",
   "pygments_lexer": "ipython3",
   "version": "3.12.4"
  }
 },
 "nbformat": 4,
 "nbformat_minor": 2
}
