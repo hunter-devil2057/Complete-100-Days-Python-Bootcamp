{
 "cells": [
  {
   "cell_type": "markdown",
   "metadata": {},
   "source": [
    "Write a Python program to get three subject marks, find and display to User, their Total Marks, Average Marks and Percentage. "
   ]
  },
  {
   "cell_type": "code",
   "execution_count": 2,
   "metadata": {},
   "outputs": [
    {
     "name": "stdout",
     "output_type": "stream",
     "text": [
      "Average Marks= 73.33333333333333\n",
      "Total Marks= 220\n",
      "Percentage Scored= 73.33333333333333\n"
     ]
    }
   ],
   "source": [
    "firstSub=int(input(\"Enter Marks in First Subject: \"))\n",
    "secondSub=int(input(\"Enter Marks in Second Subject: \"))\n",
    "thirdSub=int(input(\"Enter Marks in Third Subject: \"))\n",
    "totalMarks=(firstSub+secondSub+thirdSub)\n",
    "avgMarks=totalMarks/3\n",
    "percent=(totalMarks/300)*100\n",
    "print(\"Average Marks=\", avgMarks)\n",
    "print(\"Total Marks=\", totalMarks)\n",
    "print(\"Percentage Scored=\", percent)"
   ]
  }
 ],
 "metadata": {
  "kernelspec": {
   "display_name": "base",
   "language": "python",
   "name": "python3"
  },
  "language_info": {
   "codemirror_mode": {
    "name": "ipython",
    "version": 3
   },
   "file_extension": ".py",
   "mimetype": "text/x-python",
   "name": "python",
   "nbconvert_exporter": "python",
   "pygments_lexer": "ipython3",
   "version": "3.12.4"
  }
 },
 "nbformat": 4,
 "nbformat_minor": 2
}
