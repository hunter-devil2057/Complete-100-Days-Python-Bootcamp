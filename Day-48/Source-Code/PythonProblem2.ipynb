{
 "cells": [
  {
   "cell_type": "markdown",
   "metadata": {},
   "source": [
    "Write a Python program to get a string from User and display String in Reverse Order."
   ]
  },
  {
   "cell_type": "code",
   "execution_count": 4,
   "metadata": {},
   "outputs": [
    {
     "name": "stdout",
     "output_type": "stream",
     "text": [
      "Entered String:  manish\n",
      "Reverse of Entered String:  hsinam\n"
     ]
    }
   ],
   "source": [
    "inputString=input(\"Enter a String: \")\n",
    "print(\"Entered String: \", inputString)\n",
    "def Reverse(s):\n",
    "    revStr=\"\"\n",
    "    for i in s:\n",
    "        revStr=i+revStr     # adding iterative string\n",
    "    print(\"Reverse of Entered String: \", revStr)\n",
    "Reverse(inputString)"
   ]
  }
 ],
 "metadata": {
  "kernelspec": {
   "display_name": "base",
   "language": "python",
   "name": "python3"
  },
  "language_info": {
   "codemirror_mode": {
    "name": "ipython",
    "version": 3
   },
   "file_extension": ".py",
   "mimetype": "text/x-python",
   "name": "python",
   "nbconvert_exporter": "python",
   "pygments_lexer": "ipython3",
   "version": "3.12.4"
  }
 },
 "nbformat": 4,
 "nbformat_minor": 2
}
