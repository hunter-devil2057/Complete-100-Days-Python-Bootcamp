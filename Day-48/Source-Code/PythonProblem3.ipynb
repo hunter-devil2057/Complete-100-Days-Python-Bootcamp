{
 "cells": [
  {
   "cell_type": "markdown",
   "metadata": {},
   "source": [
    "Write a Python program to get a Sentence from User and system should have ability to replace any character or word to other. "
   ]
  },
  {
   "cell_type": "code",
   "execution_count": 2,
   "metadata": {},
   "outputs": [
    {
     "name": "stdout",
     "output_type": "stream",
     "text": [
      "Your Entered String is:  Hey, this is me Hunter Devil\n",
      "Word You Wanted to Remove is:  Hunter Devil\n",
      "Word you wanted to Replace is:  Manish Shiwakoti\n",
      "New Generated String is: \n",
      " Hey, this is me Manish Shiwakoti\n"
     ]
    }
   ],
   "source": [
    "stringInput=input(\"Enter a Sentence: \")\n",
    "print(\"Your Entered String is: \", stringInput)\n",
    "charOld=input(\"Enter a Character or Word you want to Remove: \")\n",
    "print(\"Word You Wanted to Remove is: \", charOld)\n",
    "charRep=input(\"Enter a Character or Word, you want to Replace: \")\n",
    "print(\"Word you wanted to Replace is: \", charRep)\n",
    "newString=stringInput.replace(charOld, charRep)\n",
    "print(\"New Generated String is: \\n\", newString)"
   ]
  }
 ],
 "metadata": {
  "kernelspec": {
   "display_name": "base",
   "language": "python",
   "name": "python3"
  },
  "language_info": {
   "codemirror_mode": {
    "name": "ipython",
    "version": 3
   },
   "file_extension": ".py",
   "mimetype": "text/x-python",
   "name": "python",
   "nbconvert_exporter": "python",
   "pygments_lexer": "ipython3",
   "version": "3.12.4"
  }
 },
 "nbformat": 4,
 "nbformat_minor": 2
}
