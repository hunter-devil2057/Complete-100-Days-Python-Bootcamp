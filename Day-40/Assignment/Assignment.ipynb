{
 "cells": [
  {
   "cell_type": "markdown",
   "metadata": {},
   "source": [
    "1. Define a function named **print_multiples** that takes two parameters: **number** and **limit**. \n",
    "2. Inside the function, use a loop to print the first **limit** multiples of **number**.\n",
    "3. Prompt the user to enter a number and a limit. \n",
    "4. Call the **print_multiples** function with the user input as arguments"
   ]
  },
  {
   "cell_type": "code",
   "execution_count": 2,
   "metadata": {},
   "outputs": [
    {
     "name": "stdout",
     "output_type": "stream",
     "text": [
      "12*1=12\n",
      "12*2=24\n",
      "12*3=36\n",
      "12*4=48\n",
      "12*5=60\n"
     ]
    }
   ],
   "source": [
    "def print_multiples(number, limit):\n",
    "    for i in range(1, limit+1):\n",
    "        prod=number*i\n",
    "        print(f\"{number}*{i}={prod}\")\n",
    "    \n",
    "number=int(input(\"Enter a Number: \"))\n",
    "limit=int(input(\"Enter a Limit: \"))\n",
    "print_multiples(number, limit)"
   ]
  }
 ],
 "metadata": {
  "kernelspec": {
   "display_name": "base",
   "language": "python",
   "name": "python3"
  },
  "language_info": {
   "codemirror_mode": {
    "name": "ipython",
    "version": 3
   },
   "file_extension": ".py",
   "mimetype": "text/x-python",
   "name": "python",
   "nbconvert_exporter": "python",
   "pygments_lexer": "ipython3",
   "version": "3.12.4"
  }
 },
 "nbformat": 4,
 "nbformat_minor": 2
}
