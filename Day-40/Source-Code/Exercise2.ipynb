{
 "cells": [
  {
   "cell_type": "markdown",
   "metadata": {},
   "source": [
    "Write a Python Program to get a sentence from user to count total number of character in sentence. "
   ]
  },
  {
   "cell_type": "code",
   "execution_count": 2,
   "metadata": {},
   "outputs": [
    {
     "name": "stdout",
     "output_type": "stream",
     "text": [
      "Total Number of Characters: 66\n",
      "Valid Sentence\n"
     ]
    }
   ],
   "source": [
    "senInput=input(\"Enter A Sentence: \")\n",
    "totalChar=len(senInput)\n",
    "print(\"Total Number of Characters:\", totalChar)\n",
    "\n",
    "if totalChar>=10: \n",
    "    print(\"Valid Sentence\")\n",
    "else:\n",
    "    print(\"Invalid Sentence\")"
   ]
  }
 ],
 "metadata": {
  "kernelspec": {
   "display_name": "base",
   "language": "python",
   "name": "python3"
  },
  "language_info": {
   "codemirror_mode": {
    "name": "ipython",
    "version": 3
   },
   "file_extension": ".py",
   "mimetype": "text/x-python",
   "name": "python",
   "nbconvert_exporter": "python",
   "pygments_lexer": "ipython3",
   "version": "3.12.4"
  }
 },
 "nbformat": 4,
 "nbformat_minor": 2
}
