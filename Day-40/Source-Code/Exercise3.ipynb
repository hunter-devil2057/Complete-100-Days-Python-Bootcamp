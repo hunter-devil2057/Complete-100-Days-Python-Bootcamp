{
 "cells": [
  {
   "cell_type": "markdown",
   "metadata": {},
   "source": [
    "Write a Python program to make a Percentage Calculator. "
   ]
  },
  {
   "cell_type": "code",
   "execution_count": 2,
   "metadata": {},
   "outputs": [
    {
     "name": "stdout",
     "output_type": "stream",
     "text": [
      "Total Amount=  1000.0\n",
      "Required Percentage=  30.0\n",
      "Your Percentage Amount=  300.0\n"
     ]
    }
   ],
   "source": [
    "totalAmount=float(input(\"Enter Total Amount: \"))\n",
    "requireId_Percentage=float(input(\"How much Percentage you need to get: \"))\n",
    "per=(totalAmount*requireId_Percentage)/100\n",
    "print(\"Total Amount= \", totalAmount)\n",
    "print(\"Required Percentage= \", requireId_Percentage)\n",
    "print(\"Your Percentage Amount= \", per)"
   ]
  }
 ],
 "metadata": {
  "kernelspec": {
   "display_name": "base",
   "language": "python",
   "name": "python3"
  },
  "language_info": {
   "codemirror_mode": {
    "name": "ipython",
    "version": 3
   },
   "file_extension": ".py",
   "mimetype": "text/x-python",
   "name": "python",
   "nbconvert_exporter": "python",
   "pygments_lexer": "ipython3",
   "version": "3.12.4"
  }
 },
 "nbformat": 4,
 "nbformat_minor": 2
}
