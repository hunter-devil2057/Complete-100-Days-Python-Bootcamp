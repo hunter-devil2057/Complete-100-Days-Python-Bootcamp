{
 "cells": [
  {
   "cell_type": "markdown",
   "metadata": {},
   "source": [
    "Write a Python Program to find Area of Circle and Square"
   ]
  },
  {
   "cell_type": "code",
   "execution_count": 1,
   "metadata": {},
   "outputs": [
    {
     "name": "stdout",
     "output_type": "stream",
     "text": [
      "Area of Circle:  153.86\n",
      "Area of Square 144.0\n"
     ]
    }
   ],
   "source": [
    "r=float(input(\"Enter a Radius Value: \"))\n",
    "pi=3.14\n",
    "area=pi*r*r\n",
    "print(\"Area of Circle: \", area)\n",
    "\n",
    "length=float(input(\"Enter Length of Square: \"))\n",
    "area=length*length\n",
    "print(\"Area of Square\", area)"
   ]
  }
 ],
 "metadata": {
  "kernelspec": {
   "display_name": "base",
   "language": "python",
   "name": "python3"
  },
  "language_info": {
   "codemirror_mode": {
    "name": "ipython",
    "version": 3
   },
   "file_extension": ".py",
   "mimetype": "text/x-python",
   "name": "python",
   "nbconvert_exporter": "python",
   "pygments_lexer": "ipython3",
   "version": "3.12.4"
  }
 },
 "nbformat": 4,
 "nbformat_minor": 2
}
