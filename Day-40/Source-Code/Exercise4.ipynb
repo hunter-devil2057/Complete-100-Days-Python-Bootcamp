{
 "cells": [
  {
   "cell_type": "markdown",
   "metadata": {},
   "source": [
    "Write a Python program to get Username from user that should contain only alpha or numeric data not special character or whitespace. And, length of Username should be equal to 8 or less than 20 characters. "
   ]
  },
  {
   "cell_type": "code",
   "execution_count": 2,
   "metadata": {},
   "outputs": [
    {
     "name": "stdout",
     "output_type": "stream",
     "text": [
      "Username invalid!!!\n"
     ]
    }
   ],
   "source": [
    "userName=input(\"Enter UserName: \")\n",
    "if userName.isalpha() and (len(userName)==8 and len(userName)<20):\n",
    "    print(f\"Your Username is valid that is: {userName}\")\n",
    "else:\n",
    "    print(\"Username invalid!!!\")"
   ]
  }
 ],
 "metadata": {
  "kernelspec": {
   "display_name": "base",
   "language": "python",
   "name": "python3"
  },
  "language_info": {
   "codemirror_mode": {
    "name": "ipython",
    "version": 3
   },
   "file_extension": ".py",
   "mimetype": "text/x-python",
   "name": "python",
   "nbconvert_exporter": "python",
   "pygments_lexer": "ipython3",
   "version": "3.12.4"
  }
 },
 "nbformat": 4,
 "nbformat_minor": 2
}
