{
 "cells": [
  {
   "cell_type": "markdown",
   "metadata": {},
   "source": [
    "**SET Method: update()**\n",
    "- It is used to update a set. \n",
    "- Update method take argument, that may be any list, tuple, dictionary or set. \n",
    "- It converts different data type to set and add elements to set to update. "
   ]
  },
  {
   "cell_type": "markdown",
   "metadata": {},
   "source": [
    "**Syntax:** set.update(set or list or tuple or dictionary)"
   ]
  },
  {
   "cell_type": "markdown",
   "metadata": {},
   "source": [
    "**Example:**"
   ]
  },
  {
   "cell_type": "code",
   "execution_count": 1,
   "metadata": {},
   "outputs": [
    {
     "name": "stdout",
     "output_type": "stream",
     "text": [
      "{1, 2, 4, 5, 6, 7, 9, 11, 12, 13, 14, 15}\n"
     ]
    }
   ],
   "source": [
    "A={7, 1, 5, 2, 6, 9, 4, 12}\n",
    "B={11, 13, 14, 15}\n",
    "A.update(B)\n",
    "print(A)"
   ]
  },
  {
   "cell_type": "code",
   "execution_count": 2,
   "metadata": {},
   "outputs": [
    {
     "name": "stdout",
     "output_type": "stream",
     "text": [
      "{1, 'white', 2, 34, 5, 'gray', 'black', 'pink'}\n"
     ]
    }
   ],
   "source": [
    "a={\"pink\", \"gray\", \"white\", \"black\"}\n",
    "lst=[1, 2, 34, 5]\n",
    "a.update(lst)\n",
    "print(a)"
   ]
  },
  {
   "cell_type": "code",
   "execution_count": 3,
   "metadata": {},
   "outputs": [
    {
     "name": "stdout",
     "output_type": "stream",
     "text": [
      "{'white', 2, 7, 71, 'gray', 54, 'black', 'pink'}\n"
     ]
    }
   ],
   "source": [
    "a={\"pink\", \"gray\", \"white\", \"black\"}\n",
    "lst=[1, 2, 34, 5]\n",
    "tple=(54, 7, 2, 71)\n",
    "a.update(tple)\n",
    "print(a)"
   ]
  },
  {
   "cell_type": "code",
   "execution_count": 4,
   "metadata": {},
   "outputs": [
    {
     "name": "stdout",
     "output_type": "stream",
     "text": [
      "{'white', 'name', 'gray', 'black', 'id', 'pink'}\n"
     ]
    }
   ],
   "source": [
    "a={\"pink\", \"gray\", \"white\", \"black\"}\n",
    "lst=[1, 2, 34, 5]\n",
    "tple=(54, 7, 2, 71)\n",
    "dict={\"name\": \"Manish\", \"id\": 941101}\n",
    "a.update(dict)\n",
    "print(a)"
   ]
  },
  {
   "cell_type": "code",
   "execution_count": 5,
   "metadata": {},
   "outputs": [
    {
     "name": "stdout",
     "output_type": "stream",
     "text": [
      "{'gold', 'white', 'brown', 'green', 'gray', 'black', 'pink'}\n"
     ]
    }
   ],
   "source": [
    "a={\"pink\", \"gray\", \"white\", \"black\"}\n",
    "lst=[1, 2, 34, 5]\n",
    "tple=(54, 7, 2, 71)\n",
    "dict={\"name\": \"Manish\", \"id\": 941101}\n",
    "st={\"green\", \"brown\", \"gold\"}\n",
    "a.update(st)\n",
    "print(a)"
   ]
  }
 ],
 "metadata": {
  "kernelspec": {
   "display_name": "base",
   "language": "python",
   "name": "python3"
  },
  "language_info": {
   "codemirror_mode": {
    "name": "ipython",
    "version": 3
   },
   "file_extension": ".py",
   "mimetype": "text/x-python",
   "name": "python",
   "nbconvert_exporter": "python",
   "pygments_lexer": "ipython3",
   "version": "3.12.4"
  }
 },
 "nbformat": 4,
 "nbformat_minor": 2
}
