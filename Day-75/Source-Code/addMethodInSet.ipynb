{
 "cells": [
  {
   "cell_type": "markdown",
   "metadata": {},
   "source": [
    "**SET Method: add()**\n",
    "- This method is used to add element to set. "
   ]
  },
  {
   "cell_type": "markdown",
   "metadata": {},
   "source": [
    "**Syntax:** set.add()"
   ]
  },
  {
   "cell_type": "markdown",
   "metadata": {},
   "source": [
    "**Example:**"
   ]
  },
  {
   "cell_type": "code",
   "execution_count": 1,
   "metadata": {},
   "outputs": [
    {
     "name": "stdout",
     "output_type": "stream",
     "text": [
      "{'red', 'white', 'pink', 'gray'}\n"
     ]
    }
   ],
   "source": [
    "color={\"gray\", \"red\", \"white\"}\n",
    "color.add(\"pink\")\n",
    "print(color)"
   ]
  },
  {
   "cell_type": "code",
   "execution_count": 5,
   "metadata": {},
   "outputs": [
    {
     "name": "stdout",
     "output_type": "stream",
     "text": [
      "{'yellow', 'gray', 'green', 'white', 'pink', 'black'}\n",
      "{'yellow', 'gray', 'green', 'pink', 'black', 'white'}\n",
      "set()\n",
      "set()\n"
     ]
    }
   ],
   "source": [
    "color={\"pink\", \"gray\", \"black\", \"white\"}\n",
    "color.add(\"green\")\n",
    "color.add(\"yellow\")\n",
    "print(color)\n",
    "b=color.copy()\n",
    "print(b)\n",
    "color.clear()\n",
    "print(color)\n",
    "b.clear()\n",
    "print(b)"
   ]
  }
 ],
 "metadata": {
  "kernelspec": {
   "display_name": "base",
   "language": "python",
   "name": "python3"
  },
  "language_info": {
   "codemirror_mode": {
    "name": "ipython",
    "version": 3
   },
   "file_extension": ".py",
   "mimetype": "text/x-python",
   "name": "python",
   "nbconvert_exporter": "python",
   "pygments_lexer": "ipython3",
   "version": "3.12.4"
  }
 },
 "nbformat": 4,
 "nbformat_minor": 2
}
