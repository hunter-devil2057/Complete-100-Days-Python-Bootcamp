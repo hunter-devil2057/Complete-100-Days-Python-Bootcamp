{
 "cells": [
  {
   "cell_type": "markdown",
   "metadata": {},
   "source": [
    "- Define a function named common_characters that takes two strings, str1 and str2, as parameters.\n",
    "- Convert str1 and str2 to sets of characters using the set() constructor.\n",
    "- Use the intersection() method to find the common characters between the two sets.\n",
    "- Return the resulting set."
   ]
  },
  {
   "cell_type": "code",
   "execution_count": 3,
   "metadata": {},
   "outputs": [
    {
     "name": "stdout",
     "output_type": "stream",
     "text": [
      "{'r', 'b', 'i', 't', 'a'}\n",
      "{'r', 'g', 'i', 't', 'e'}\n",
      "Set1 Intersection Set2:\n",
      " {'r', 'i', 't'}\n"
     ]
    }
   ],
   "source": [
    "def common_characters(str1, str2):\n",
    "    set1=set(str1)\n",
    "    set2=set(str2)\n",
    "    print(set1)\n",
    "    print(set2)\n",
    "    c=set1.intersection(set2)\n",
    "    print(\"Set1 Intersection Set2:\\n\",c)\n",
    "\n",
    "common_characters(\"rabbit\", \"tiger\")"
   ]
  }
 ],
 "metadata": {
  "kernelspec": {
   "display_name": "base",
   "language": "python",
   "name": "python3"
  },
  "language_info": {
   "codemirror_mode": {
    "name": "ipython",
    "version": 3
   },
   "file_extension": ".py",
   "mimetype": "text/x-python",
   "name": "python",
   "nbconvert_exporter": "python",
   "pygments_lexer": "ipython3",
   "version": "3.12.4"
  }
 },
 "nbformat": 4,
 "nbformat_minor": 2
}
