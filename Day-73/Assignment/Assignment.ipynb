{
 "cells": [
  {
   "cell_type": "markdown",
   "metadata": {},
   "source": [
    "1. Define a function named remove_duplicates that takes a list, input_list, as a parameter.\n",
    "2. Convert the list to a set to remove duplicates.\n",
    "3. Convert the set back to a list to preserve the original order of elements.\n",
    "4. Return the new list."
   ]
  },
  {
   "cell_type": "code",
   "execution_count": 8,
   "metadata": {},
   "outputs": [
    {
     "name": "stdout",
     "output_type": "stream",
     "text": [
      "[1, 2, 3, 4, 5]\n"
     ]
    }
   ],
   "source": [
    "def remove_duplicates(input_list):\n",
    "    setDemo=set(input_list)\n",
    "    unique_list=list(setDemo)\n",
    "    return unique_list\n",
    "\n",
    "unique_list=[1, 2, 2, 3, 3, 4, 4, 5]\n",
    "result=remove_duplicates(unique_list)\n",
    "print(result)"
   ]
  }
 ],
 "metadata": {
  "kernelspec": {
   "display_name": "base",
   "language": "python",
   "name": "python3"
  },
  "language_info": {
   "codemirror_mode": {
    "name": "ipython",
    "version": 3
   },
   "file_extension": ".py",
   "mimetype": "text/x-python",
   "name": "python",
   "nbconvert_exporter": "python",
   "pygments_lexer": "ipython3",
   "version": "3.12.4"
  }
 },
 "nbformat": 4,
 "nbformat_minor": 2
}
