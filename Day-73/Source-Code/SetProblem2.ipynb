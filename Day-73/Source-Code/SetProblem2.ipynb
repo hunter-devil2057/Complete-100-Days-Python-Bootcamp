{
 "cells": [
  {
   "cell_type": "markdown",
   "metadata": {},
   "source": [
    "Write a Python program to get Items from user to create two sets and then find subtraction of both set. "
   ]
  },
  {
   "cell_type": "code",
   "execution_count": 4,
   "metadata": {},
   "outputs": [
    {
     "name": "stdout",
     "output_type": "stream",
     "text": [
      "Set\"A\"= {1, 2, 3, 4, 5}\n",
      "Set\"B\"= {2, 4, 6, 8, 10}\n",
      "A-B = {1, 3, 5}\n"
     ]
    }
   ],
   "source": [
    "numSet1=set()    # empty set\n",
    "for i in range(5):\n",
    "    numItem1=int(input(\"Enter Number Item: \"))\n",
    "    numSet1.add(numItem1)\n",
    "print(\"Set\\\"A\\\"=\", numSet1)\n",
    "numSet2=set()   # empty set\n",
    "for i in range(5):\n",
    "    numItem2=int(input(\"Enter Number Item: \"))\n",
    "    numSet2.add(numItem2)\n",
    "print(\"Set\\\"B\\\"=\", numSet2)\n",
    "resultSet=numSet1.difference(numSet2)\n",
    "print(f\"A-B = {resultSet}\")"
   ]
  }
 ],
 "metadata": {
  "kernelspec": {
   "display_name": "base",
   "language": "python",
   "name": "python3"
  },
  "language_info": {
   "codemirror_mode": {
    "name": "ipython",
    "version": 3
   },
   "file_extension": ".py",
   "mimetype": "text/x-python",
   "name": "python",
   "nbconvert_exporter": "python",
   "pygments_lexer": "ipython3",
   "version": "3.12.4"
  }
 },
 "nbformat": 4,
 "nbformat_minor": 2
}
