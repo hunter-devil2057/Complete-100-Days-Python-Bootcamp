{
 "cells": [
  {
   "cell_type": "markdown",
   "metadata": {},
   "source": [
    "Write a Python program to create a SET in such a way that User will be able to remove any item.  "
   ]
  },
  {
   "cell_type": "code",
   "execution_count": 1,
   "metadata": {},
   "outputs": [
    {
     "name": "stdout",
     "output_type": "stream",
     "text": [
      "SET Before Removing: \n",
      "{'pink', 'white', 'black', 'green', 'gray', 'yellow'}\n",
      "SET After Removing: \n",
      "{'pink', 'black', 'green', 'gray', 'yellow'}\n"
     ]
    }
   ],
   "source": [
    "st={\"pink\", \"white\", \"black\", \"green\", \"yellow\", \"gray\"}\n",
    "print(\"SET Before Removing: \")\n",
    "print(st)\n",
    "item=input(\"Enter Item to be Removed\")\n",
    "st.discard(item)\n",
    "print(\"SET After Removing: \")\n",
    "print(st)"
   ]
  }
 ],
 "metadata": {
  "kernelspec": {
   "display_name": "base",
   "language": "python",
   "name": "python3"
  },
  "language_info": {
   "codemirror_mode": {
    "name": "ipython",
    "version": 3
   },
   "file_extension": ".py",
   "mimetype": "text/x-python",
   "name": "python",
   "nbconvert_exporter": "python",
   "pygments_lexer": "ipython3",
   "version": "3.12.4"
  }
 },
 "nbformat": 4,
 "nbformat_minor": 2
}
