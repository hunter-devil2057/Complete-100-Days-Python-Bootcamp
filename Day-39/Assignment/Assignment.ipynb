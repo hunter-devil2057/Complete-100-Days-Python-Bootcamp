{
 "cells": [
  {
   "cell_type": "markdown",
   "metadata": {},
   "source": [
    "1. Define a function named **check_even_odd** that takes a single parameter **number**.\n",
    "2. Inside the function, check if the **number** is even or odd.\n",
    "3. Print \"Even\" if the number is even, otherwise print \"Odd\".\n",
    "4. Prompt the user to enter a number.\n",
    "5. Call the **check_even_odd** function with the user input as an argument."
   ]
  },
  {
   "cell_type": "code",
   "execution_count": 2,
   "metadata": {},
   "outputs": [
    {
     "name": "stdout",
     "output_type": "stream",
     "text": [
      "12 is Odd Number\n"
     ]
    }
   ],
   "source": [
    "def check_even_odd(number):\n",
    "    if(number%2==0):\n",
    "        print(f\"{number} is Odd Number\")\n",
    "    else:\n",
    "        print(f\"{number} is Even Number.\")\n",
    "number=int(input(\"Enter a Number: \"))\n",
    "check_even_odd(number)"
   ]
  }
 ],
 "metadata": {
  "kernelspec": {
   "display_name": "base",
   "language": "python",
   "name": "python3"
  },
  "language_info": {
   "codemirror_mode": {
    "name": "ipython",
    "version": 3
   },
   "file_extension": ".py",
   "mimetype": "text/x-python",
   "name": "python",
   "nbconvert_exporter": "python",
   "pygments_lexer": "ipython3",
   "version": "3.12.4"
  }
 },
 "nbformat": 4,
 "nbformat_minor": 2
}
