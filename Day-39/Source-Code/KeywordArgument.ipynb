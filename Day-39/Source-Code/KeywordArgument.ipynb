{
 "cells": [
  {
   "cell_type": "markdown",
   "metadata": {},
   "source": [
    "- **Keyword Argument:** \n",
    "    - Keyword arguments are specified by the parameter name followed by the value.\n",
    "    - They allow you to pass arguments to a function using parameter names, regardless of the order.\n",
    "    - Using **Keyword Argument**, we can change order of parameter as we mentioned in function declaration. "
   ]
  },
  {
   "cell_type": "markdown",
   "metadata": {},
   "source": [
    "**Example:**"
   ]
  },
  {
   "cell_type": "code",
   "execution_count": 3,
   "metadata": {},
   "outputs": [
    {
     "name": "stdout",
     "output_type": "stream",
     "text": [
      "Manish\n",
      "23\n",
      "Patrick\n",
      "18\n"
     ]
    }
   ],
   "source": [
    "def Show(name, num):\n",
    "    print(name)\n",
    "    print(num)\n",
    "Show(\"Manish\", 23)\n",
    "Show(num=18, name=\"Patrick\")        #we can call by this way also "
   ]
  }
 ],
 "metadata": {
  "kernelspec": {
   "display_name": "base",
   "language": "python",
   "name": "python3"
  },
  "language_info": {
   "codemirror_mode": {
    "name": "ipython",
    "version": 3
   },
   "file_extension": ".py",
   "mimetype": "text/x-python",
   "name": "python",
   "nbconvert_exporter": "python",
   "pygments_lexer": "ipython3",
   "version": "3.12.4"
  }
 },
 "nbformat": 4,
 "nbformat_minor": 2
}
