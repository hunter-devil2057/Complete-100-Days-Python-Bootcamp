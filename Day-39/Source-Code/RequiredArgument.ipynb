{
 "cells": [
  {
   "cell_type": "markdown",
   "metadata": {},
   "source": [
    "**Required Argument in Python**\n",
    "- Required arguments are the arguments that must be passed to a function in the exact order as defined in the function signature.\n",
    "- If any required argument is missing, Python raises a **TypeError**.\n",
    "- When we set any parameter in function declaration, we have to use that order of position on the time of calling that function that is required. "
   ]
  },
  {
   "cell_type": "markdown",
   "metadata": {},
   "source": [
    "**Example:**"
   ]
  },
  {
   "cell_type": "code",
   "execution_count": 2,
   "metadata": {},
   "outputs": [
    {
     "name": "stdout",
     "output_type": "stream",
     "text": [
      "a= 3\n",
      "b= 5\n",
      "c= 1\n"
     ]
    }
   ],
   "source": [
    "def ShowValue(a, b, c):\n",
    "    print(\"a=\", a)\n",
    "    print(\"b=\", b)\n",
    "    print(\"c=\", c)\n",
    "ShowValue(3, 5, 1)"
   ]
  },
  {
   "cell_type": "markdown",
   "metadata": {},
   "source": [
    "- And, when set any parameter to get value from user then some time we make parameter as default or optional and other required. "
   ]
  },
  {
   "cell_type": "markdown",
   "metadata": {},
   "source": [
    "**Example:**"
   ]
  },
  {
   "cell_type": "code",
   "execution_count": 5,
   "metadata": {},
   "outputs": [
    {
     "name": "stdout",
     "output_type": "stream",
     "text": [
      "37\n"
     ]
    }
   ],
   "source": [
    "def ShowNumber(num1, num2=33):\n",
    "    print(num1+num2)\n",
    "    # num1 is required and num2 is the optional \n",
    "ShowNumber(4)\n",
    "# ShowNumber(num2=43)\n",
    "# Overeride num2 but you will get an Error, num1 is required"
   ]
  }
 ],
 "metadata": {
  "kernelspec": {
   "display_name": "base",
   "language": "python",
   "name": "python3"
  },
  "language_info": {
   "codemirror_mode": {
    "name": "ipython",
    "version": 3
   },
   "file_extension": ".py",
   "mimetype": "text/x-python",
   "name": "python",
   "nbconvert_exporter": "python",
   "pygments_lexer": "ipython3",
   "version": "3.12.4"
  }
 },
 "nbformat": 4,
 "nbformat_minor": 2
}
