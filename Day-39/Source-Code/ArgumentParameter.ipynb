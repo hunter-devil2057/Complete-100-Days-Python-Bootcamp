{
 "cells": [
  {
   "cell_type": "markdown",
   "metadata": {},
   "source": [
    "**Arguments and Parameter in Python**\n",
    "- **Parameter** is the variable or constant or basically a information that is send to function in order to use inside the function body to perform any operations or to use in any way. \n",
    "-  We used parameter inside the parenthesis of the function. \n",
    "- **Argument** is the actual value passed to the function when it is called. It corresponds to the parameter defined in the function. "
   ]
  },
  {
   "cell_type": "markdown",
   "metadata": {},
   "source": [
    "**Example:** "
   ]
  },
  {
   "cell_type": "code",
   "execution_count": 6,
   "metadata": {},
   "outputs": [
    {
     "name": "stdout",
     "output_type": "stream",
     "text": [
      "43\n"
     ]
    }
   ],
   "source": [
    "def functionName(num):      #'num' is a parameter\n",
    "    print(num)\n",
    "functionName(43)        #here, 43 is an argument"
   ]
  },
  {
   "cell_type": "markdown",
   "metadata": {},
   "source": [
    "**Note:**\n",
    "- **Parameters** and **Arguments** are different by some extent."
   ]
  },
  {
   "cell_type": "code",
   "execution_count": 5,
   "metadata": {},
   "outputs": [
    {
     "name": "stdout",
     "output_type": "stream",
     "text": [
      "Manish Shiwakoti\n",
      "Devilz Hunter\n"
     ]
    }
   ],
   "source": [
    "def FullName(fName, lName): \n",
    "    print(fName + lName)\n",
    "FullName(\"Manish \", \"Shiwakoti\")\n",
    "FullName(\"Devilz \", \"Hunter\")"
   ]
  },
  {
   "cell_type": "markdown",
   "metadata": {},
   "source": [
    "**Differences between Argument and Parameters**\n",
    "- Sometime we say it's same thing, but arguments and parameters are different."
   ]
  },
  {
   "cell_type": "markdown",
   "metadata": {},
   "source": [
    "**Example:**"
   ]
  },
  {
   "cell_type": "code",
   "execution_count": 7,
   "metadata": {},
   "outputs": [
    {
     "name": "stdout",
     "output_type": "stream",
     "text": [
      "Hi\n"
     ]
    }
   ],
   "source": [
    "def FunctionName(world):    #Formal Value or Parameter, Receiver\n",
    "    print(world)\n",
    "FunctionName(\"Hi\")      #Actual Value or Argument, Sender"
   ]
  },
  {
   "cell_type": "markdown",
   "metadata": {},
   "source": [
    "**Different Types of Argument in Python**\n",
    "- 3 types of Argument. \n",
    "    - Keyword Argument \n",
    "    - Default Argument \n",
    "    - Required Argument"
   ]
  }
 ],
 "metadata": {
  "kernelspec": {
   "display_name": "base",
   "language": "python",
   "name": "python3"
  },
  "language_info": {
   "codemirror_mode": {
    "name": "ipython",
    "version": 3
   },
   "file_extension": ".py",
   "mimetype": "text/x-python",
   "name": "python",
   "nbconvert_exporter": "python",
   "pygments_lexer": "ipython3",
   "version": "3.12.4"
  }
 },
 "nbformat": 4,
 "nbformat_minor": 2
}
