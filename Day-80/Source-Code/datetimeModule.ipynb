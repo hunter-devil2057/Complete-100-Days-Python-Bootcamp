{
 "cells": [
  {
   "cell_type": "markdown",
   "metadata": {},
   "source": [
    "# **Python Data Object**"
   ]
  },
  {
   "cell_type": "markdown",
   "metadata": {},
   "source": [
    "**datetime module:**\n",
    "- Following classes are used in datetime module to work with date and time. "
   ]
  },
  {
   "cell_type": "markdown",
   "metadata": {},
   "source": [
    "**a. date Class:** \n",
    "- Pass y, m, d argument to date class and we can also used **today()** method to print today date. \n",
    "    - Attributes of date Class: \n",
    "        - year\n",
    "        - month\n",
    "        - day"
   ]
  },
  {
   "cell_type": "markdown",
   "metadata": {},
   "source": [
    "**b. time Class:** \n",
    "- It takes h, m, s, ms as argument to print time. \n",
    "    - Attributes of time Class:\n",
    "        - hour\n",
    "        - minute\n",
    "        - second\n",
    "        - microsecond\n",
    "        - min\n",
    "        - max"
   ]
  },
  {
   "cell_type": "markdown",
   "metadata": {},
   "source": [
    "**c. timedelta Class:** \n",
    "- This class is used to find difference between two dates and manipulation on date and time. "
   ]
  },
  {
   "cell_type": "markdown",
   "metadata": {},
   "source": [
    "**d. datetime Class:** \n",
    "- It have methods, attributes to work with date and time like **now()** method to return current date and time. \n",
    "    - Attributes of date Class: \n",
    "        - year\n",
    "        - month\n",
    "        - day\n",
    "        - hour\n",
    "        - minute\n",
    "        - second\n",
    "        - microsecond"
   ]
  },
  {
   "cell_type": "code",
   "execution_count": 2,
   "metadata": {},
   "outputs": [
    {
     "name": "stdout",
     "output_type": "stream",
     "text": [
      "2023-03-04\n",
      "10\n",
      "12:04:07\n"
     ]
    }
   ],
   "source": [
    "from datetime import date, time\n",
    "print(date(2023, 3, 4))\n",
    "dt=date.today()\n",
    "print(dt.month)\n",
    "print(time(12, 4, 7))"
   ]
  },
  {
   "cell_type": "code",
   "execution_count": 11,
   "metadata": {},
   "outputs": [
    {
     "name": "stdout",
     "output_type": "stream",
     "text": [
      "2023-03-04\n",
      "10\n",
      "365\n",
      "11 days, 1:00:00.002434\n",
      "Current Date Time:  2024-10-09 15:28:02.510348\n",
      "After Manipulation, Current Date and Time: \n",
      "2024-10-13 16:28:02.510348\n"
     ]
    }
   ],
   "source": [
    "from datetime import date, time, timedelta, datetime\n",
    "print(date(2023, 3, 4))\n",
    "dt=date.today()\n",
    "print(dt.month)\n",
    "tm=time(12, 4, 7, 365)\n",
    "print(tm.microsecond)\n",
    "c_dt=datetime.now()\n",
    "print(timedelta(days=4, weeks=1, hours=1, microseconds=2434))\n",
    "print(\"Current Date Time: \", c_dt)\n",
    "print(\"After Manipulation, Current Date and Time: \")\n",
    "change_in_c_dt=c_dt+timedelta(hours=1, days=4)\n",
    "print(change_in_c_dt)"
   ]
  },
  {
   "cell_type": "markdown",
   "metadata": {},
   "source": [
    "**List of Different Problems Related to Date and Time**\n",
    "- Python program to display different Date Time formats\n",
    "- Python program to display current date and time\n",
    "- Python program to get current time in milliseconds.\n",
    "- Python program to determine whether, specific year is leap year or not.\n",
    "- Python program to find age of anyone, and also convert it into years, month, days, hours, minutes, seconds, etc.\n",
    "- Python program to find number f days between two days\n",
    "- Python program to display yesterday, today or tommorow\n",
    "- Python program to display previous 10 days starting from tommorow\n",
    "- Python program to subtract 10 seconds from the current time.\n",
    "- Python program to display week number for specific date\n",
    "- Python program to select all the Mondays from a specified year. "
   ]
  },
  {
   "cell_type": "markdown",
   "metadata": {},
   "source": [
    "**Use of date and time to create Application**\n",
    "- Age Calculator \n",
    "- Countdown Time\n",
    "- Alarm Application \n",
    "- Reminder Application \n",
    "- Display current date and time on invoices\n",
    "- User should not be able to select admission date before today date. "
   ]
  }
 ],
 "metadata": {
  "kernelspec": {
   "display_name": "base",
   "language": "python",
   "name": "python3"
  },
  "language_info": {
   "codemirror_mode": {
    "name": "ipython",
    "version": 3
   },
   "file_extension": ".py",
   "mimetype": "text/x-python",
   "name": "python",
   "nbconvert_exporter": "python",
   "pygments_lexer": "ipython3",
   "version": "3.12.4"
  }
 },
 "nbformat": 4,
 "nbformat_minor": 2
}
