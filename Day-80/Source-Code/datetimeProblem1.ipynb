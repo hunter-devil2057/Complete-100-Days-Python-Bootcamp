{
 "cells": [
  {
   "cell_type": "markdown",
   "metadata": {},
   "source": [
    "Write a Python program to get two date from user to display difference between dates in days. "
   ]
  },
  {
   "cell_type": "code",
   "execution_count": 1,
   "metadata": {},
   "outputs": [
    {
     "name": "stdout",
     "output_type": "stream",
     "text": [
      "2024-06-10\n",
      "2024-08-10\n",
      "Difference in Days=  61 days\n"
     ]
    }
   ],
   "source": [
    "from datetime import date\n",
    "\n",
    "y1=int(input(\"Enter Year: \"))\n",
    "m1=int(input(\"Enter Month: \"))\n",
    "d1=int(input(\"Enter Day: \"))\n",
    "\n",
    "y2=int(input(\"Enter Year: \"))\n",
    "m2=int(input(\"Enter Month: \"))\n",
    "d2=int(input(\"Enter Day: \"))\n",
    "\n",
    "dt1=date(y1, m1, d1)\n",
    "print(dt1)\n",
    "dt2=date(y2, m2, d2)\n",
    "print(dt2)\n",
    "\n",
    "diff=dt2-dt1\n",
    "print(\"Difference in Days= \", diff.days, \"days\")"
   ]
  }
 ],
 "metadata": {
  "kernelspec": {
   "display_name": "base",
   "language": "python",
   "name": "python3"
  },
  "language_info": {
   "codemirror_mode": {
    "name": "ipython",
    "version": 3
   },
   "file_extension": ".py",
   "mimetype": "text/x-python",
   "name": "python",
   "nbconvert_exporter": "python",
   "pygments_lexer": "ipython3",
   "version": "3.12.4"
  }
 },
 "nbformat": 4,
 "nbformat_minor": 2
}
