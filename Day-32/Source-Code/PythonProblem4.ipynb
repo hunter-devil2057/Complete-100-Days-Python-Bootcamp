{
 "cells": [
  {
   "cell_type": "markdown",
   "metadata": {},
   "source": [
    "Write a Python program to read marks of Six Subject from User to Display Total, Average, and Percentage of That Marks. "
   ]
  },
  {
   "cell_type": "code",
   "execution_count": 1,
   "metadata": {},
   "outputs": [
    {
     "name": "stdout",
     "output_type": "stream",
     "text": [
      "Total Marks:  590\n",
      "Average Marks:  73.75\n",
      "Percentage: 73.75\n"
     ]
    }
   ],
   "source": [
    "maths=int(input(\"Enter Marks Obtained in Maths: \"))\n",
    "social=int(input(\"Enter Marks Obtained in Social: \"))\n",
    "science=int(input(\"Enter Marks Obtained in Science: \"))\n",
    "nepali=int(input(\"Enter Marks Obtained in Nepali: \"))\n",
    "english=int(input(\"Enter Marks Obtained in English: \"))\n",
    "gk=int(input(\"Enter Marks Obtained in G.K.: \"))\n",
    "health=int(input(\"Enter Marks Obtained in Health: \"))\n",
    "computer=int(input(\"Enter Marks Obtained in computer: \"))\n",
    "totalMarks=(maths+social+science+nepali+english+gk+health+computer)\n",
    "average=totalMarks/8\n",
    "percentage=(totalMarks/800)*100\n",
    "print(\"Total Marks: \", totalMarks)\n",
    "print(\"Average Marks: \", average)\n",
    "print(f\"Percentage: {percentage}\")"
   ]
  }
 ],
 "metadata": {
  "kernelspec": {
   "display_name": "base",
   "language": "python",
   "name": "python3"
  },
  "language_info": {
   "codemirror_mode": {
    "name": "ipython",
    "version": 3
   },
   "file_extension": ".py",
   "mimetype": "text/x-python",
   "name": "python",
   "nbconvert_exporter": "python",
   "pygments_lexer": "ipython3",
   "version": "3.12.4"
  }
 },
 "nbformat": 4,
 "nbformat_minor": 2
}
