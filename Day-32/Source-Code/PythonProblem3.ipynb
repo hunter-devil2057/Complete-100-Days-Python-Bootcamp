{
 "cells": [
  {
   "cell_type": "markdown",
   "metadata": {},
   "source": [
    "Write a Python program to get a character from user to check whether it is vowel or not. "
   ]
  },
  {
   "cell_type": "code",
   "execution_count": 7,
   "metadata": {},
   "outputs": [
    {
     "name": "stdout",
     "output_type": "stream",
     "text": [
      "q\n",
      "q is consonant letter.\n"
     ]
    }
   ],
   "source": [
    "charIn=input(\"Enter a Character: \").lower()\n",
    "print(charIn)\n",
    "if(charIn==\"a\" or charIn==\"e\" or charIn==\"i\" or charIn==\"o\" or charIn==\"u\"):\n",
    "    print(f\"{charIn} is vowel letter.\")\n",
    "else:\n",
    "    print(f\"{charIn} is consonant letter.\")"
   ]
  }
 ],
 "metadata": {
  "kernelspec": {
   "display_name": "base",
   "language": "python",
   "name": "python3"
  },
  "language_info": {
   "codemirror_mode": {
    "name": "ipython",
    "version": 3
   },
   "file_extension": ".py",
   "mimetype": "text/x-python",
   "name": "python",
   "nbconvert_exporter": "python",
   "pygments_lexer": "ipython3",
   "version": "3.12.4"
  }
 },
 "nbformat": 4,
 "nbformat_minor": 2
}
