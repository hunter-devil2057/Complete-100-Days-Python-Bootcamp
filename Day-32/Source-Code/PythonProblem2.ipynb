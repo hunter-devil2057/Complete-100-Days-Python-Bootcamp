{
 "cells": [
  {
   "cell_type": "markdown",
   "metadata": {},
   "source": [
    "Write a Python program to get two numbers from user, find square of first number, and cube of 2nd number, then find their sum"
   ]
  },
  {
   "cell_type": "code",
   "execution_count": 3,
   "metadata": {},
   "outputs": [
    {
     "name": "stdout",
     "output_type": "stream",
     "text": [
      "First Number: 2\n",
      "Second Number: 3\n",
      "Square of 2 = 4\n",
      "Cube of 3 = 27\n",
      "4 + 27 = 31\n"
     ]
    }
   ],
   "source": [
    "num1=int(input(\"Enter First Number: \"))\n",
    "num2=int(input(\"Enter Second Number: \"))\n",
    "print(f\"First Number: {num1}\")\n",
    "print(f\"Second Number: {num2}\")\n",
    "sqNum=num1**2\n",
    "cuNum=num2**3\n",
    "print(f\"Square of {num1} = {sqNum}\")\n",
    "print(f\"Cube of {num2} = {cuNum}\")\n",
    "sum=sqNum+cuNum\n",
    "print(f\"{sqNum} + {cuNum} = {sum}\")"
   ]
  }
 ],
 "metadata": {
  "kernelspec": {
   "display_name": "base",
   "language": "python",
   "name": "python3"
  },
  "language_info": {
   "codemirror_mode": {
    "name": "ipython",
    "version": 3
   },
   "file_extension": ".py",
   "mimetype": "text/x-python",
   "name": "python",
   "nbconvert_exporter": "python",
   "pygments_lexer": "ipython3",
   "version": "3.12.4"
  }
 },
 "nbformat": 4,
 "nbformat_minor": 2
}
