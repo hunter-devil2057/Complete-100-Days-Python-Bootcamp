{
 "cells": [
  {
   "cell_type": "markdown",
   "metadata": {},
   "source": [
    "Write A Python Program To Get Short Name Of Week And Display Full Name Of That Week Name, If User Enter Mon Or Mon, System Should Display “It Is Monday”"
   ]
  },
  {
   "cell_type": "code",
   "execution_count": 1,
   "metadata": {},
   "outputs": [
    {
     "name": "stdout",
     "output_type": "stream",
     "text": [
      "It is Tuesday\n"
     ]
    }
   ],
   "source": [
    "shortWeek = input(\"Enter short name of the week\")\n",
    "\n",
    "if shortWeek == 'mon' or shortWeek == 'Mon':\n",
    "    print(\"It is Monday\")\n",
    "elif shortWeek == 'tue' or shortWeek == 'Tue':\n",
    "    print(\"It is Tuesday\")\n",
    "elif shortWeek == 'wed' or shortWeek == 'Wed':\n",
    "    print(\"It is Wednesday\")\n",
    "elif shortWeek == 'thu' or shortWeek == 'Thu':\n",
    "    print(\"It is Thursday\")\n",
    "elif shortWeek == 'fri' or shortWeek == 'Fri':\n",
    "    print(\"It is Friday\")\n",
    "elif shortWeek == 'sat' or shortWeek == 'Sat':\n",
    "    print(\"It is Saturday\")\n",
    "elif shortWeek == 'sun' or shortWeek == 'Sun':\n",
    "    print(\"It is Sunday\")\n",
    "else:\n",
    "    print(\"Not match in our cases\")       "
   ]
  }
 ],
 "metadata": {
  "kernelspec": {
   "display_name": "base",
   "language": "python",
   "name": "python3"
  },
  "language_info": {
   "codemirror_mode": {
    "name": "ipython",
    "version": 3
   },
   "file_extension": ".py",
   "mimetype": "text/x-python",
   "name": "python",
   "nbconvert_exporter": "python",
   "pygments_lexer": "ipython3",
   "version": "3.12.4"
  }
 },
 "nbformat": 4,
 "nbformat_minor": 2
}
