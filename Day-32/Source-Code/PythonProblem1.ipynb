{
 "cells": [
  {
   "cell_type": "markdown",
   "metadata": {},
   "source": [
    "Write a Python Program to Get a Number from User to Display it's Next and Previous Number. If User Enter '4', System should Display 5 as Next Number and 3 as Previous Number"
   ]
  },
  {
   "cell_type": "code",
   "execution_count": 2,
   "metadata": {},
   "outputs": [
    {
     "name": "stdout",
     "output_type": "stream",
     "text": [
      "num=5\n",
      "Previous Number: 4\n",
      "Next Number: 6\n"
     ]
    }
   ],
   "source": [
    "num=int(input(\"Enter a Number: \"))\n",
    "print(f\"num={num}\")\n",
    "prevNum=num-1\n",
    "nextNum=num+1\n",
    "print(f\"Previous Number: {prevNum}\")\n",
    "print(f\"Next Number: {nextNum}\")"
   ]
  }
 ],
 "metadata": {
  "kernelspec": {
   "display_name": "base",
   "language": "python",
   "name": "python3"
  },
  "language_info": {
   "codemirror_mode": {
    "name": "ipython",
    "version": 3
   },
   "file_extension": ".py",
   "mimetype": "text/x-python",
   "name": "python",
   "nbconvert_exporter": "python",
   "pygments_lexer": "ipython3",
   "version": "3.12.4"
  }
 },
 "nbformat": 4,
 "nbformat_minor": 2
}
