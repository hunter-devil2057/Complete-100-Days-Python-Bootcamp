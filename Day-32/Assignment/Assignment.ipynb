{
 "cells": [
  {
   "cell_type": "markdown",
   "metadata": {},
   "source": [
    "1. Prompt the user to enter a number between 1 and 7.\n",
    "2. Print the corresponding day of the week based on the number using the following criteria:\n",
    "    - If the number is 1, print \"Monday\".\n",
    "    - If the number is 2, print \"Tuesday\".\n",
    "    - If the number is 3, print \"Wednesday\".\n",
    "    - If the number is 4, print \"Thursday\".\n",
    "    - If the number is 5, print \"Friday\".\n",
    "    - If the number is 6, print \"Saturday\".\n",
    "    - If the number is 7, print \"Sunday\".\n",
    "3. If the number is not between 1 and 7, print \"Invalid input. Please enter a number between 1 and 7.\""
   ]
  },
  {
   "cell_type": "code",
   "execution_count": 1,
   "metadata": {},
   "outputs": [
    {
     "name": "stdout",
     "output_type": "stream",
     "text": [
      "It is Thursday\n"
     ]
    }
   ],
   "source": [
    "weekIndex = int(input(\"Enter short name of the week\"))\n",
    "\n",
    "if weekIndex == 1:\n",
    "    print(\"It is Monday\")\n",
    "elif weekIndex == 2:\n",
    "    print(\"It is Tuesday\")\n",
    "elif weekIndex == 3:\n",
    "    print(\"It is Wednesday\")\n",
    "elif weekIndex == 4:\n",
    "    print(\"It is Thursday\")\n",
    "elif weekIndex == 5:\n",
    "    print(\"It is Friday\")\n",
    "elif weekIndex == 6:\n",
    "    print(\"It is Saturday\")\n",
    "elif weekIndex == 7:\n",
    "    print(\"It is Sunday\")\n",
    "else:\n",
    "    print(\"Please enter a number between 1 and 7\")       "
   ]
  }
 ],
 "metadata": {
  "kernelspec": {
   "display_name": "base",
   "language": "python",
   "name": "python3"
  },
  "language_info": {
   "codemirror_mode": {
    "name": "ipython",
    "version": 3
   },
   "file_extension": ".py",
   "mimetype": "text/x-python",
   "name": "python",
   "nbconvert_exporter": "python",
   "pygments_lexer": "ipython3",
   "version": "3.12.4"
  }
 },
 "nbformat": 4,
 "nbformat_minor": 2
}
