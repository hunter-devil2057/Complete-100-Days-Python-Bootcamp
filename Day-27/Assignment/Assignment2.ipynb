{
 "cells": [
  {
   "cell_type": "markdown",
   "metadata": {},
   "source": [
    "1. Create a set named subjects with the following elements:\n",
    "    - \"Math\"\n",
    "    - \"Science\"\n",
    "    - \"History\"\n",
    "    - \"Math\"\n",
    "    - \"Geography\"\n",
    "2. Print the set to see if any duplicate elements are present."
   ]
  },
  {
   "cell_type": "code",
   "execution_count": 1,
   "metadata": {},
   "outputs": [
    {
     "name": "stdout",
     "output_type": "stream",
     "text": [
      "{'History', 'Geography', 'Science', 'Math'}\n"
     ]
    }
   ],
   "source": [
    "subjects={\"Math\", \"Science\", \"History\", \"Math\", \"Geography\"}\n",
    "set=set(subjects)\n",
    "print(set)"
   ]
  }
 ],
 "metadata": {
  "kernelspec": {
   "display_name": "base",
   "language": "python",
   "name": "python3"
  },
  "language_info": {
   "codemirror_mode": {
    "name": "ipython",
    "version": 3
   },
   "file_extension": ".py",
   "mimetype": "text/x-python",
   "name": "python",
   "nbconvert_exporter": "python",
   "pygments_lexer": "ipython3",
   "version": "3.12.4"
  }
 },
 "nbformat": 4,
 "nbformat_minor": 2
}
