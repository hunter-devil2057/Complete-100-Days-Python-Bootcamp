{
 "cells": [
  {
   "cell_type": "markdown",
   "metadata": {},
   "source": [
    "1. Create a dictionary named student with the following keys and values:\n",
    "    - \"name\": \"John\"\n",
    "    - \"age\": 25\n",
    "    - \"city\": \"New York\"\n",
    "2. Print the dictionary.\n",
    "3. Add a new key-value pair to the 'student' dictionary: \n",
    "    - \"country\": \"USA\"\n",
    "4. Print the updated dictionary."
   ]
  },
  {
   "cell_type": "code",
   "execution_count": 4,
   "metadata": {},
   "outputs": [
    {
     "name": "stdout",
     "output_type": "stream",
     "text": [
      "{'name': 'John', 'age': 25, 'city': 'New York'}\n",
      "{'name': 'John', 'age': 25, 'city': 'New York', 'country': 'USA'}\n"
     ]
    }
   ],
   "source": [
    "student={\"name\": \"John\",\n",
    "      \"age\":25, \n",
    "      \"city\": \"New York\"}\n",
    "print(student)\n",
    "student[\"country\"]=\"USA\"\n",
    "print(student)"
   ]
  }
 ],
 "metadata": {
  "kernelspec": {
   "display_name": "base",
   "language": "python",
   "name": "python3"
  },
  "language_info": {
   "codemirror_mode": {
    "name": "ipython",
    "version": 3
   },
   "file_extension": ".py",
   "mimetype": "text/x-python",
   "name": "python",
   "nbconvert_exporter": "python",
   "pygments_lexer": "ipython3",
   "version": "3.12.4"
  }
 },
 "nbformat": 4,
 "nbformat_minor": 2
}
