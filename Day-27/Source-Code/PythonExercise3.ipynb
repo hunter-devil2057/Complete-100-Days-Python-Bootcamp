{
 "cells": [
  {
   "cell_type": "markdown",
   "metadata": {},
   "source": [
    "Write a Python program to Get Three Numbers from the User to Increase One value to Every Numbers. "
   ]
  },
  {
   "cell_type": "code",
   "execution_count": 1,
   "metadata": {},
   "outputs": [
    {
     "name": "stdout",
     "output_type": "stream",
     "text": [
      "Before Increment\n",
      "num1=2\n",
      "num2=3\n",
      "num3=4\n",
      "After Increment\n",
      "num1=3\n",
      "num2=4\n",
      "num3=5\n"
     ]
    }
   ],
   "source": [
    "num1=int(input(\"Enter First Number: \"))\n",
    "num2=int(input(\"Enter Second Number: \"))\n",
    "num3=int(input(\"Enter Third Number: \"))\n",
    "print(f\"Before Increment\\nnum1={num1}\\nnum2={num2}\\nnum3={num3}\")\n",
    "num1+=1\n",
    "num2+=1\n",
    "num3+=1\n",
    "print(f\"After Increment\\nnum1={num1}\\nnum2={num2}\\nnum3={num3}\")"
   ]
  }
 ],
 "metadata": {
  "kernelspec": {
   "display_name": "base",
   "language": "python",
   "name": "python3"
  },
  "language_info": {
   "codemirror_mode": {
    "name": "ipython",
    "version": 3
   },
   "file_extension": ".py",
   "mimetype": "text/x-python",
   "name": "python",
   "nbconvert_exporter": "python",
   "pygments_lexer": "ipython3",
   "version": "3.12.4"
  }
 },
 "nbformat": 4,
 "nbformat_minor": 2
}
