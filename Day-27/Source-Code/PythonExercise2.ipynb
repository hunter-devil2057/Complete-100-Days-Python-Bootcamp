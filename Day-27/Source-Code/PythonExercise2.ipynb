{
 "cells": [
  {
   "cell_type": "markdown",
   "metadata": {},
   "source": [
    "Write a Python program to get age of user and convert it into seconds. "
   ]
  },
  {
   "cell_type": "code",
   "execution_count": 6,
   "metadata": {},
   "outputs": [
    {
     "name": "stdout",
     "output_type": "stream",
     "text": [
      "Your age is: 12\n",
      "Converting your age into seconds...\n",
      "12 years = 378432000.0 seconds\n"
     ]
    }
   ],
   "source": [
    "age=int(input(\"Enter your age in year:\"))\n",
    "print(f\"Your age is: {age}\")\n",
    "ageInSec=float(age)*365*24*60*60\n",
    "print(\"Converting your age into seconds...\")\n",
    "print(f\"{age} years = {ageInSec} seconds\")"
   ]
  }
 ],
 "metadata": {
  "kernelspec": {
   "display_name": "base",
   "language": "python",
   "name": "python3"
  },
  "language_info": {
   "codemirror_mode": {
    "name": "ipython",
    "version": 3
   },
   "file_extension": ".py",
   "mimetype": "text/x-python",
   "name": "python",
   "nbconvert_exporter": "python",
   "pygments_lexer": "ipython3",
   "version": "3.12.4"
  }
 },
 "nbformat": 4,
 "nbformat_minor": 2
}
