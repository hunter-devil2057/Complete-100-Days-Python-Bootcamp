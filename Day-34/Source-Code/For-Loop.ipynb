{
 "cells": [
  {
   "cell_type": "markdown",
   "metadata": {},
   "source": [
    "**Loops in Python:**\n",
    "- If you want to repeat any statement for specific time, or if you want to generate a number according to your instruction, you can use loop. "
   ]
  },
  {
   "cell_type": "markdown",
   "metadata": {},
   "source": [
    "Explanation: \n",
    "- Program instruction executes linearly in the order in which we declare.\n",
    "- But, we can alter that sequence using different way. \n",
    "- One of them is Looping way. \n",
    "- If we need to repeat a statement for specific time we can do it. \n",
    "- For Example, \"Python\" repeats 10 times on the screen. \n",
    "- \"Python\" will repeat until its condition is false"
   ]
  },
  {
   "cell_type": "markdown",
   "metadata": {},
   "source": [
    "**Different Loops in Python**\n",
    "- for loop\n",
    "- while loop"
   ]
  },
  {
   "cell_type": "markdown",
   "metadata": {},
   "source": [
    "**For Loop in Python:**\n",
    "- We can generate number in different ways, using for loop \n",
    "- For example, generate even/odd number from 1 to 10. \n",
    "- We can repeat a statement or set of statement up to fixed time. \n",
    "- For Example, repeat \"Python Programming Language\" 10 times. \n",
    "- We can iterate (getting one by one item) over sequence for example list, tuple, dictionary, string."
   ]
  },
  {
   "cell_type": "markdown",
   "metadata": {},
   "source": [
    "**Syntax:**\n",
    "- for var in range(startNumber, stopNumber):\n",
    "    - print(var)\n",
    "- for var in sequence: \n",
    "    - print(variable)"
   ]
  },
  {
   "cell_type": "markdown",
   "metadata": {},
   "source": [
    "Example: \n",
    "- for variable in sequence: \n",
    "    - print(i)\n",
    "- Where, sequence may be any string, list, tuple, or dictionary (keys or items)"
   ]
  },
  {
   "cell_type": "code",
   "execution_count": 1,
   "metadata": {},
   "outputs": [
    {
     "name": "stdout",
     "output_type": "stream",
     "text": [
      "M\n",
      "a\n",
      "n\n",
      "i\n",
      "s\n",
      "h\n",
      " \n",
      "S\n",
      "h\n",
      "i\n",
      "w\n",
      "a\n",
      "k\n",
      "o\n",
      "t\n",
      "i\n"
     ]
    }
   ],
   "source": [
    "name=\"Manish Shiwakoti\"\n",
    "for x in name: \n",
    "    print(x)"
   ]
  },
  {
   "cell_type": "code",
   "execution_count": 1,
   "metadata": {},
   "outputs": [
    {
     "name": "stdout",
     "output_type": "stream",
     "text": [
      "3\n",
      "1\n",
      "54\n",
      "5\n",
      "23\n",
      "51\n"
     ]
    }
   ],
   "source": [
    "list=[3, 1, 54, 5, 23, 51]\n",
    "for x in list: \n",
    "    print(x)"
   ]
  },
  {
   "cell_type": "code",
   "execution_count": 2,
   "metadata": {},
   "outputs": [
    {
     "name": "stdout",
     "output_type": "stream",
     "text": [
      "20\n",
      "21\n",
      "22\n",
      "23\n",
      "24\n",
      "25\n",
      "26\n",
      "27\n",
      "28\n",
      "29\n",
      "30\n",
      "31\n",
      "32\n",
      "33\n",
      "34\n",
      "35\n",
      "36\n",
      "37\n",
      "38\n",
      "39\n",
      "40\n",
      "41\n",
      "42\n",
      "43\n",
      "44\n",
      "45\n",
      "46\n",
      "47\n",
      "48\n",
      "49\n"
     ]
    }
   ],
   "source": [
    "for i in range(20, 50):\n",
    "    print(i)"
   ]
  }
 ],
 "metadata": {
  "kernelspec": {
   "display_name": "base",
   "language": "python",
   "name": "python3"
  },
  "language_info": {
   "codemirror_mode": {
    "name": "ipython",
    "version": 3
   },
   "file_extension": ".py",
   "mimetype": "text/x-python",
   "name": "python",
   "nbconvert_exporter": "python",
   "pygments_lexer": "ipython3",
   "version": "3.12.4"
  }
 },
 "nbformat": 4,
 "nbformat_minor": 2
}
