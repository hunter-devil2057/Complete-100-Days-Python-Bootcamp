{
 "cells": [
  {
   "cell_type": "markdown",
   "metadata": {},
   "source": [
    "What is the Function? \n",
    "- block of codes which can be reused time and again"
   ]
  },
  {
   "cell_type": "markdown",
   "metadata": {},
   "source": [
    "The Basic Syntax of Function Declaration? "
   ]
  },
  {
   "cell_type": "markdown",
   "metadata": {},
   "source": [
    "- **def** functionName():\n",
    "    - block of codes"
   ]
  },
  {
   "cell_type": "markdown",
   "metadata": {},
   "source": [
    "- What is Loop?\n",
    "    - method of running the block of code time and again until condition does not get satisfied."
   ]
  },
  {
   "cell_type": "markdown",
   "metadata": {},
   "source": [
    "Get Two numbers from user to find max number using if else statement"
   ]
  },
  {
   "cell_type": "code",
   "execution_count": 1,
   "metadata": {},
   "outputs": [
    {
     "name": "stdout",
     "output_type": "stream",
     "text": [
      "12 is the greater number.\n"
     ]
    }
   ],
   "source": [
    "num1=int(input(\"Enter First Number: \"))\n",
    "num2=int(input(\"Enter Second Number: \"))\n",
    "if(num1>num2):\n",
    "    print(f\"{num1} is the greater number.\")\n",
    "else: \n",
    "    print(f\"{num2} is the greater number\")"
   ]
  },
  {
   "cell_type": "markdown",
   "metadata": {},
   "source": [
    "Write a Python program to get a char from user to check whether it is vowel or not. "
   ]
  },
  {
   "cell_type": "code",
   "execution_count": 2,
   "metadata": {},
   "outputs": [
    {
     "name": "stdout",
     "output_type": "stream",
     "text": [
      "r is a Consonant Letter.\n"
     ]
    }
   ],
   "source": [
    "charRead=input(\"Enter Character\").lower()\n",
    "if len(charRead)==1 and charRead.lower() in 'aeiou':\n",
    "    print(f\"{charRead} is a Vowel Letter.\")\n",
    "else:\n",
    "    print(f\"{charRead} is a Consonant Letter.\")\n"
   ]
  }
 ],
 "metadata": {
  "kernelspec": {
   "display_name": "base",
   "language": "python",
   "name": "python3"
  },
  "language_info": {
   "codemirror_mode": {
    "name": "ipython",
    "version": 3
   },
   "file_extension": ".py",
   "mimetype": "text/x-python",
   "name": "python",
   "nbconvert_exporter": "python",
   "pygments_lexer": "ipython3",
   "version": "3.12.4"
  }
 },
 "nbformat": 4,
 "nbformat_minor": 2
}
