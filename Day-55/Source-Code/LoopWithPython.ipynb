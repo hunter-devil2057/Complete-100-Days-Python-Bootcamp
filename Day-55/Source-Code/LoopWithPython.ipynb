{
 "cells": [
  {
   "cell_type": "markdown",
   "metadata": {},
   "source": [
    "**Loop with Python List**\n",
    "- Using loop with List, we can iterate one by one items of a list. \n",
    "- We can check all the items one by one to get required items in different ways. "
   ]
  },
  {
   "cell_type": "markdown",
   "metadata": {},
   "source": [
    "**Example:**\n",
    "- Finding specific student name in a student list\n",
    "- Getting even number from a range 1 to 100\n",
    "- Getting odd number from a range 1 to 100"
   ]
  },
  {
   "cell_type": "markdown",
   "metadata": {},
   "source": [
    "**Example:**"
   ]
  },
  {
   "cell_type": "code",
   "execution_count": 1,
   "metadata": {},
   "outputs": [
    {
     "name": "stdout",
     "output_type": "stream",
     "text": [
      "Python\n",
      "C++\n",
      "JavaScript\n",
      "C\n",
      "Java\n",
      "HTML\n"
     ]
    }
   ],
   "source": [
    "language=['Python', 'C++', 'JavaScript', 'C', 'Java', 'HTML']\n",
    "for i in language: \n",
    "    print(i)"
   ]
  },
  {
   "cell_type": "markdown",
   "metadata": {},
   "source": [
    "**Why we used Loop with List?**\n",
    "- Using loop, we can analyze all the items or elements of a list. \n",
    "- Using loop, we can display all the items to screen. \n",
    "- Using loop, we can find any specific items or element from a list. \n",
    "- A lots of problem can be solved using loop with List. "
   ]
  },
  {
   "cell_type": "code",
   "execution_count": 6,
   "metadata": {},
   "outputs": [
    {
     "name": "stdout",
     "output_type": "stream",
     "text": [
      "Color is: white\n",
      "Color is: red\n",
      "Color is: black\n",
      "Color is: pink\n",
      "Color is: gray\n",
      "Color is: blue\n",
      "Color is: orange\n"
     ]
    }
   ],
   "source": [
    "lst=['white', 'red', 'black', 'pink', 'gray', 'blue', 'orange']\n",
    "for x in lst: \n",
    "    print(\"Color is: \"+ x)"
   ]
  },
  {
   "cell_type": "code",
   "execution_count": 8,
   "metadata": {},
   "outputs": [
    {
     "name": "stdout",
     "output_type": "stream",
     "text": [
      "0\n",
      "1\n",
      "2\n",
      "3\n",
      "4\n",
      "5\n",
      "6\n",
      "7\n",
      "8\n",
      "9\n"
     ]
    }
   ],
   "source": [
    "for i in range(10):\n",
    "    print(i)"
   ]
  },
  {
   "cell_type": "code",
   "execution_count": 9,
   "metadata": {},
   "outputs": [
    {
     "name": "stdout",
     "output_type": "stream",
     "text": [
      "Even Numbers:\n",
      "6\n",
      "12\n",
      "34\n"
     ]
    }
   ],
   "source": [
    "lst1=[3, 5, 6, 23, 65, 12, 5, 34]\n",
    "print(\"Even Numbers:\")\n",
    "for i in lst1: \n",
    "    if i%2==0:\n",
    "        print(i)"
   ]
  }
 ],
 "metadata": {
  "kernelspec": {
   "display_name": "base",
   "language": "python",
   "name": "python3"
  },
  "language_info": {
   "codemirror_mode": {
    "name": "ipython",
    "version": 3
   },
   "file_extension": ".py",
   "mimetype": "text/x-python",
   "name": "python",
   "nbconvert_exporter": "python",
   "pygments_lexer": "ipython3",
   "version": "3.12.4"
  }
 },
 "nbformat": 4,
 "nbformat_minor": 2
}
