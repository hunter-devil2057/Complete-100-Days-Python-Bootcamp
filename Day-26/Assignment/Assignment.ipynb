{
 "cells": [
  {
   "cell_type": "markdown",
   "metadata": {},
   "source": [
    "1. How to check Python Version? \n",
    "- Step 1: Press Windows + R to open Run dialog box. \n",
    "- Step 2: Open Command Prompt by typing cmd in Run dialog box. \n",
    "- Step 3: Type, 'python --version', and press Enter. You'll get your Python version. "
   ]
  },
  {
   "cell_type": "markdown",
   "metadata": {},
   "source": [
    "2. Mention some advantages of Python. \n",
    "- Used In Variety Of Fields\n",
    "1. Artificial intelligence: Create a system that work, behave and take decision like a human \n",
    "2. Data Science: Using different methods to get useful information from unstructured data\n",
    "3. Data analytics: Analysis a data in depth to get useful information to make decision \n",
    "4. Machine learning: The system that give response as it have experience like a human, branch of AI\n",
    "5. Web development: To create website or web applications \n",
    "\n"
   ]
  },
  {
   "cell_type": "markdown",
   "metadata": {},
   "source": [
    "3. Write a python program to get 2 number from user to find their sum."
   ]
  },
  {
   "cell_type": "code",
   "execution_count": 1,
   "metadata": {},
   "outputs": [
    {
     "name": "stdout",
     "output_type": "stream",
     "text": [
      "num1=12\n",
      "num2=13\n",
      "12+13=25\n"
     ]
    }
   ],
   "source": [
    "num1=int(input(\"Enter First Number: \"))\n",
    "num2=int(input(\"Enter Second Number: \"))\n",
    "sum=num1+num2\n",
    "print(f\"num1={num1}\\nnum2={num2}\")\n",
    "print(f\"{num1}+{num2}={sum}\")"
   ]
  },
  {
   "cell_type": "markdown",
   "metadata": {},
   "source": [
    "4. Write a python program to get 3 numbers from the user to find their subtraction. "
   ]
  },
  {
   "cell_type": "code",
   "execution_count": 2,
   "metadata": {},
   "outputs": [
    {
     "name": "stdout",
     "output_type": "stream",
     "text": [
      "num1=12\n",
      "num2=9\n",
      "num3=3\n",
      "12-9-3=0\n"
     ]
    }
   ],
   "source": [
    "num1=int(input(\"Enter First Number: \"))\n",
    "num2=int(input(\"Enter Second Number: \"))\n",
    "num3=int(input(\"Enter Third Number: \"))\n",
    "diff=num1-num2-num3\n",
    "print(f\"num1={num1}\\nnum2={num2}\\nnum3={num3}\")\n",
    "print(f\"{num1}-{num2}-{num3}={diff}\")"
   ]
  },
  {
   "cell_type": "markdown",
   "metadata": {},
   "source": [
    "5. What is Identity Operators with example in Python? \n",
    "- Identity Operators: \n",
    "    - Identity Operators are such types of operators which are used to compare the objects, not if they are equal, but if they are actually the same object with the same memory location.\n",
    "    - Basically, there are two Identity Operators i.e, 'is' and 'is not' "
   ]
  },
  {
   "cell_type": "code",
   "execution_count": 3,
   "metadata": {},
   "outputs": [
    {
     "name": "stdout",
     "output_type": "stream",
     "text": [
      "True\n",
      "False\n",
      "True\n"
     ]
    }
   ],
   "source": [
    "a=[1, 2, 3]\n",
    "b=a\n",
    "c=[1, 2, 3]\n",
    "print(a is b)\n",
    "print(a is c)\n",
    "print(a is not c)"
   ]
  }
 ],
 "metadata": {
  "kernelspec": {
   "display_name": "base",
   "language": "python",
   "name": "python3"
  },
  "language_info": {
   "codemirror_mode": {
    "name": "ipython",
    "version": 3
   },
   "file_extension": ".py",
   "mimetype": "text/x-python",
   "name": "python",
   "nbconvert_exporter": "python",
   "pygments_lexer": "ipython3",
   "version": "3.12.4"
  }
 },
 "nbformat": 4,
 "nbformat_minor": 2
}
