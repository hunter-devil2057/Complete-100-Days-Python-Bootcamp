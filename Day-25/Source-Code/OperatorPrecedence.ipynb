{
 "cells": [
  {
   "cell_type": "markdown",
   "metadata": {},
   "source": [
    "Python Operator Precedence: \n",
    "This is a rule in math to learn order of operators precedence that is BODMAS. PEMDAS is the rule that is used in Python to check operators precedence. \n",
    "\n",
    "Operator Precedence Role: PEMDAS\n",
    "P means Parentheses\n",
    "E means Exponentiation \n",
    "M means Multiplication\n",
    "D means Division \n",
    "A means Addition \n",
    "S means Subtraction"
   ]
  },
  {
   "cell_type": "code",
   "execution_count": 2,
   "metadata": {},
   "outputs": [
    {
     "name": "stdout",
     "output_type": "stream",
     "text": [
      "PEDMAS is used to solve a equation contianing multiple operators.\n",
      "4.0\n"
     ]
    }
   ],
   "source": [
    "print(\"PEDMAS is used to solve a equation contianing multiple operators.\")\n",
    "a=2; b=1\n",
    "x=a+b*(3-1)/2*a\n",
    "print(x)"
   ]
  }
 ],
 "metadata": {
  "kernelspec": {
   "display_name": "base",
   "language": "python",
   "name": "python3"
  },
  "language_info": {
   "codemirror_mode": {
    "name": "ipython",
    "version": 3
   },
   "file_extension": ".py",
   "mimetype": "text/x-python",
   "name": "python",
   "nbconvert_exporter": "python",
   "pygments_lexer": "ipython3",
   "version": "3.12.4"
  }
 },
 "nbformat": 4,
 "nbformat_minor": 2
}
