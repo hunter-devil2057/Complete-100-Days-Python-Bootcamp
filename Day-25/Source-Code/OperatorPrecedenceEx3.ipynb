{
 "cells": [
  {
   "cell_type": "markdown",
   "metadata": {},
   "source": [
    "Write a python program to get 4 numbers from the user to evaluate the following equation: \n",
    "x=(c*b)+d**a"
   ]
  },
  {
   "cell_type": "code",
   "execution_count": 5,
   "metadata": {},
   "outputs": [
    {
     "name": "stdout",
     "output_type": "stream",
     "text": [
      "a=2\n",
      "b=1\n",
      "c=3\n",
      "d=2\n",
      "x=(3*2)+2**2\n",
      " =7\n"
     ]
    }
   ],
   "source": [
    "a=int(input(\"Enter a: \"))\n",
    "b=int(input(\"Enter b: \"))\n",
    "c=int(input(\"Enter c: \"))\n",
    "d=int(input(\"Enter d: \"))\n",
    "x=(c*b)+d**a\n",
    "print(f\"a={a}\\nb={b}\\nc={c}\\nd={d}\")\n",
    "print(f\"x=({c}*{d})+{d}**{a}\\n ={x}\")"
   ]
  }
 ],
 "metadata": {
  "kernelspec": {
   "display_name": "base",
   "language": "python",
   "name": "python3"
  },
  "language_info": {
   "codemirror_mode": {
    "name": "ipython",
    "version": 3
   },
   "file_extension": ".py",
   "mimetype": "text/x-python",
   "name": "python",
   "nbconvert_exporter": "python",
   "pygments_lexer": "ipython3",
   "version": "3.12.4"
  }
 },
 "nbformat": 4,
 "nbformat_minor": 2
}
