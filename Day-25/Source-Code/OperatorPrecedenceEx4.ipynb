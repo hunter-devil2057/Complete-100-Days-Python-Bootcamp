{
 "cells": [
  {
   "cell_type": "markdown",
   "metadata": {},
   "source": [
    "Write a python program to get 6 number from the user to evaluate following equation: \n",
    "x=a-d/(b+c)+e*f"
   ]
  },
  {
   "cell_type": "code",
   "execution_count": 3,
   "metadata": {},
   "outputs": [
    {
     "name": "stdout",
     "output_type": "stream",
     "text": [
      "a=4\n",
      "b=3\n",
      "c=4\n",
      "d=12\n",
      "e=4\n",
      "f=3\n",
      "x=4-12/(3+4)+4*3\n",
      " =14.285714285714285\n"
     ]
    }
   ],
   "source": [
    "a=int(input(\"Enter a: \"))\n",
    "b=int(input(\"Enter b: \"))\n",
    "c=int(input(\"Enter c: \"))\n",
    "d=int(input(\"Enter d: \"))\n",
    "e=int(input(\"Enter e: \"))\n",
    "f=int(input(\"Enter f: \"))\n",
    "x=a-d/(b+c)+e*f\n",
    "print(f\"a={a}\\nb={b}\\nc={c}\\nd={d}\\ne={e}\\nf={f}\")\n",
    "print(f\"x={a}-{d}/({b}+{c})+{e}*{f}\\n ={x}\")"
   ]
  }
 ],
 "metadata": {
  "kernelspec": {
   "display_name": "base",
   "language": "python",
   "name": "python3"
  },
  "language_info": {
   "codemirror_mode": {
    "name": "ipython",
    "version": 3
   },
   "file_extension": ".py",
   "mimetype": "text/x-python",
   "name": "python",
   "nbconvert_exporter": "python",
   "pygments_lexer": "ipython3",
   "version": "3.12.4"
  }
 },
 "nbformat": 4,
 "nbformat_minor": 2
}
