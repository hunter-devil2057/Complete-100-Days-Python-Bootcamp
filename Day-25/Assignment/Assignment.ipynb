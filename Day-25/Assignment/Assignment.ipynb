{
 "cells": [
  {
   "cell_type": "markdown",
   "metadata": {},
   "source": [
    "Operator Precedence\n",
    "1. Create a Python program that evaluates the following expression and prints the result:\n",
    "        result = 10 + 5 * 2 - 3 / 3\n",
    "2. Explain why the result of the expression is what it is, considering operator precedence."
   ]
  },
  {
   "cell_type": "code",
   "execution_count": 1,
   "metadata": {},
   "outputs": [
    {
     "name": "stdout",
     "output_type": "stream",
     "text": [
      "result= 19.0\n"
     ]
    }
   ],
   "source": [
    "a=10\n",
    "b=5\n",
    "c=2\n",
    "d=3\n",
    "result=a+b*c-d/d\n",
    "print(\"result=\", result)"
   ]
  }
 ],
 "metadata": {
  "kernelspec": {
   "display_name": "base",
   "language": "python",
   "name": "python3"
  },
  "language_info": {
   "codemirror_mode": {
    "name": "ipython",
    "version": 3
   },
   "file_extension": ".py",
   "mimetype": "text/x-python",
   "name": "python",
   "nbconvert_exporter": "python",
   "pygments_lexer": "ipython3",
   "version": "3.12.4"
  }
 },
 "nbformat": 4,
 "nbformat_minor": 2
}
