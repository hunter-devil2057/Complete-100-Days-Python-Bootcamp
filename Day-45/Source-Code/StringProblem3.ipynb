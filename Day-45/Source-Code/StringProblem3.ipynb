{
 "cells": [
  {
   "cell_type": "markdown",
   "metadata": {},
   "source": [
    "Write a Python program to get name of user that start with 'a' otherwise Error Message should display."
   ]
  },
  {
   "cell_type": "code",
   "execution_count": 1,
   "metadata": {},
   "outputs": [
    {
     "name": "stdout",
     "output_type": "stream",
     "text": [
      "It's a Valid UserName\n",
      "Username is started with 'a': anshu\n"
     ]
    }
   ],
   "source": [
    "name=input(\"Enter your Name: \")\n",
    "if name.lower().startswith('a'):\n",
    "    print(\"It's a Valid UserName\")\n",
    "    print(f\"Username is started with \\'a\\': {name}\")\n",
    "else:\n",
    "    print(\"Invalid User because not started with \\'a\\' char\")"
   ]
  }
 ],
 "metadata": {
  "kernelspec": {
   "display_name": "base",
   "language": "python",
   "name": "python3"
  },
  "language_info": {
   "codemirror_mode": {
    "name": "ipython",
    "version": 3
   },
   "file_extension": ".py",
   "mimetype": "text/x-python",
   "name": "python",
   "nbconvert_exporter": "python",
   "pygments_lexer": "ipython3",
   "version": "3.12.4"
  }
 },
 "nbformat": 4,
 "nbformat_minor": 2
}
