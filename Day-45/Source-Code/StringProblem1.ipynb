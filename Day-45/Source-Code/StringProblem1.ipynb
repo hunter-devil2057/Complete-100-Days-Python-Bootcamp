{
 "cells": [
  {
   "cell_type": "markdown",
   "metadata": {},
   "source": [
    "Write a Python Program to get a sentence from user to display total number of character, convert into uppercase, if not and place a full stop to every sentence. "
   ]
  },
  {
   "cell_type": "code",
   "execution_count": 9,
   "metadata": {},
   "outputs": [
    {
     "name": "stdout",
     "output_type": "stream",
     "text": [
      "Your Sentence is:\n",
      "HEY PROGRAMMERS\n",
      "Total Characters in Sentence: 15\n",
      "It's already in Uppercase.\n",
      "That is, HEY PROGRAMMERS.\n"
     ]
    }
   ],
   "source": [
    "sentence=input(\"Enter a Sentence: \")\n",
    "print(f\"Your Sentence is:\\n{sentence}\")\n",
    "sentenceLength=len(sentence)\n",
    "print(f\"Total Characters in Sentence: {sentenceLength}\")\n",
    "\n",
    "if sentence.isupper():\n",
    "    print(\"It's already in Uppercase.\")\n",
    "    print(\"That is, \"+sentence+\".\")\n",
    "else:\n",
    "    print(\"Converted Sentence in uppercase.\")\n",
    "    print(sentence.upper())"
   ]
  }
 ],
 "metadata": {
  "kernelspec": {
   "display_name": "base",
   "language": "python",
   "name": "python3"
  },
  "language_info": {
   "codemirror_mode": {
    "name": "ipython",
    "version": 3
   },
   "file_extension": ".py",
   "mimetype": "text/x-python",
   "name": "python",
   "nbconvert_exporter": "python",
   "pygments_lexer": "ipython3",
   "version": "3.12.4"
  }
 },
 "nbformat": 4,
 "nbformat_minor": 2
}
