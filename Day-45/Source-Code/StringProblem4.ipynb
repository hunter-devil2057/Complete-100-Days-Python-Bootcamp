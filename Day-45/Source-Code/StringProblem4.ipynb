{
 "cells": [
  {
   "cell_type": "markdown",
   "metadata": {},
   "source": [
    "Write a Python program to get name of user that end with 'n' otherwise, display Error Message"
   ]
  },
  {
   "cell_type": "code",
   "execution_count": 2,
   "metadata": {},
   "outputs": [
    {
     "name": "stdout",
     "output_type": "stream",
     "text": [
      "It is valid username.\n",
      "Username Karun is Ending with character '\n",
      "'\n"
     ]
    }
   ],
   "source": [
    "userName=input(\"Enter your UserName: \")\n",
    "if userName.endswith('n'):\n",
    "    print(\"It is valid username.\")\n",
    "    print(f\"Username {userName} is Ending with character '\\n\\'\")\n",
    "else:\n",
    "    print(\"UserName invalid\")"
   ]
  }
 ],
 "metadata": {
  "kernelspec": {
   "display_name": "base",
   "language": "python",
   "name": "python3"
  },
  "language_info": {
   "codemirror_mode": {
    "name": "ipython",
    "version": 3
   },
   "file_extension": ".py",
   "mimetype": "text/x-python",
   "name": "python",
   "nbconvert_exporter": "python",
   "pygments_lexer": "ipython3",
   "version": "3.12.4"
  }
 },
 "nbformat": 4,
 "nbformat_minor": 2
}
