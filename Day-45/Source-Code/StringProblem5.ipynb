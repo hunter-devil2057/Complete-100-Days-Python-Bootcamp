{
 "cells": [
  {
   "cell_type": "markdown",
   "metadata": {},
   "source": [
    "Write a Python program to get a sentence from user, and display character of that sentence that present on Odd Index Number. "
   ]
  },
  {
   "cell_type": "code",
   "execution_count": 8,
   "metadata": {},
   "outputs": [
    {
     "name": "stdout",
     "output_type": "stream",
     "text": [
      "1\n",
      "e\t\n",
      "3\n",
      "r\t\n",
      "5\n",
      "i\t\n",
      "7\n",
      "g\t\n",
      "9\n",
      "P\t\n",
      "11\n",
      "t\t\n",
      "13\n",
      "o\t\n",
      "15\n",
      " \t\n",
      "17\n",
      "s\t\n",
      "19\n",
      "F\t\n",
      "21\n",
      "n\t\n"
     ]
    }
   ],
   "source": [
    "sentence=input(\"Enter a Sentence: \")\n",
    "strLength=len(sentence)\n",
    "for i in range(0, strLength+1):\n",
    "    if(i%2!=0):\n",
    "        print(f\"{i}\")\n",
    "        print(f\"{sentence[i]}\\t\")"
   ]
  }
 ],
 "metadata": {
  "kernelspec": {
   "display_name": "base",
   "language": "python",
   "name": "python3"
  },
  "language_info": {
   "codemirror_mode": {
    "name": "ipython",
    "version": 3
   },
   "file_extension": ".py",
   "mimetype": "text/x-python",
   "name": "python",
   "nbconvert_exporter": "python",
   "pygments_lexer": "ipython3",
   "version": "3.12.4"
  }
 },
 "nbformat": 4,
 "nbformat_minor": 2
}
