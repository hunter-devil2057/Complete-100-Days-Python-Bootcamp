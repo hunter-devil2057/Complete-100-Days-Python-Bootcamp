{
 "cells": [
  {
   "cell_type": "markdown",
   "metadata": {},
   "source": [
    "Write a Python program to accept only number as string from user, not alphabet or special character. "
   ]
  },
  {
   "cell_type": "code",
   "execution_count": 1,
   "metadata": {},
   "outputs": [
    {
     "name": "stdout",
     "output_type": "stream",
     "text": [
      "12232 is Numeric String.\n",
      "Input is valid\n"
     ]
    }
   ],
   "source": [
    "inputString=input(\"Enter a Numeric String: \")\n",
    "if inputString.isnumeric():\n",
    "    print(f\"{inputString} is Numeric String.\\nInput is valid\")\n",
    "else: \n",
    "    print(\"Input is not valid.\")"
   ]
  }
 ],
 "metadata": {
  "kernelspec": {
   "display_name": "base",
   "language": "python",
   "name": "python3"
  },
  "language_info": {
   "codemirror_mode": {
    "name": "ipython",
    "version": 3
   },
   "file_extension": ".py",
   "mimetype": "text/x-python",
   "name": "python",
   "nbconvert_exporter": "python",
   "pygments_lexer": "ipython3",
   "version": "3.12.4"
  }
 },
 "nbformat": 4,
 "nbformat_minor": 2
}
