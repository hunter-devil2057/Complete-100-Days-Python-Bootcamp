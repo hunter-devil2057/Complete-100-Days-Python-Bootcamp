{
 "cells": [
  {
   "cell_type": "markdown",
   "metadata": {},
   "source": [
    "1. Prompt the user to enter two numbers separated by a space. \n",
    "2. Calculate the sum, difference, product, and quotient of the two numbers. \n",
    "3. Print the results. "
   ]
  },
  {
   "cell_type": "code",
   "execution_count": 8,
   "metadata": {},
   "outputs": [
    {
     "name": "stdout",
     "output_type": "stream",
     "text": [
      "num1 =  36 \n",
      "num2 =  9\n",
      "36 + 9 = 45\n",
      "36 - 9 = 27\n",
      "36 * 9 = 324\n",
      "36 / 9 = 4.0\n"
     ]
    }
   ],
   "source": [
    "numbers=input(\"Enter Two Numbers Separated By a Space: \")\n",
    "num1, num2=numbers.split()  #splitting the number by space\n",
    "num1=int(num1)  \n",
    "num2=int(num2)\n",
    "print(\"num1 = \", num1,\"\\nnum2 = \", num2)\n",
    "\n",
    "# Sum\n",
    "sum=num1+num2\n",
    "print(f\"{num1} + {num2} = {sum}\")\n",
    "\n",
    "# Differences\n",
    "diff=num1-num2\n",
    "print(f\"{num1} - {num2} = {diff}\")\n",
    "\n",
    "# Product\n",
    "prod=num1*num2\n",
    "print(f\"{num1} * {num2} = {prod}\")\n",
    "\n",
    "# Quotient\n",
    "quot=num1/num2\n",
    "print(f\"{num1} / {num2} = {quot}\")"
   ]
  }
 ],
 "metadata": {
  "kernelspec": {
   "display_name": "base",
   "language": "python",
   "name": "python3"
  },
  "language_info": {
   "codemirror_mode": {
    "name": "ipython",
    "version": 3
   },
   "file_extension": ".py",
   "mimetype": "text/x-python",
   "name": "python",
   "nbconvert_exporter": "python",
   "pygments_lexer": "ipython3",
   "version": "3.12.4"
  }
 },
 "nbformat": 4,
 "nbformat_minor": 2
}
