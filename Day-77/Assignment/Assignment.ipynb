{
 "cells": [
  {
   "cell_type": "markdown",
   "metadata": {},
   "source": [
    "1. Differentiate between List and Tuple. \n",
    "- **List**\n",
    "    - mutable collection of ordered items. \n",
    "    - defined by using square brackets[ ]. \n",
    "    - items can be changed, added, or removed. \n",
    "    - slower due to mutabliity. \n",
    "- **Tuple**\n",
    "    - immutable collection of ordered items. \n",
    "    - defined by using parentheses ( ). \n",
    "    - items cannot be changed, added, or removed. \n",
    "    - faster due to mutability. "
   ]
  },
  {
   "cell_type": "markdown",
   "metadata": {},
   "source": [
    "Write the syntax of List Comprehension. \n",
    "- **Syntax:** newSeq=[expression for item/element in sequence]"
   ]
  },
  {
   "cell_type": "markdown",
   "metadata": {},
   "source": [
    "Write a Python program to get two set from User to find Intersection of that set. "
   ]
  },
  {
   "cell_type": "code",
   "execution_count": 1,
   "metadata": {},
   "outputs": [
    {
     "name": "stdout",
     "output_type": "stream",
     "text": [
      "Set A= {'4', '5', '1', '3', '2'}\n",
      "Set B= {'4', '6', '8', '10', '2'}\n",
      "Intersection of Two Set:\n",
      " {'4', '2'}\n"
     ]
    }
   ],
   "source": [
    "# Empty Set\n",
    "a=set()\n",
    "b=set()\n",
    "\n",
    "# Set A\n",
    "for i in range(5):\n",
    "    a.add(input(\"Enter a Item:\"))\n",
    "print(\"Set A=\", a)\n",
    "\n",
    "# Set B\n",
    "for i in range(5):\n",
    "    b.add(input(\"Enter a Item:\"))\n",
    "print(\"Set B=\", b)\n",
    "\n",
    "c=a.intersection(b)\n",
    "print(\"Intersection of Two Set:\\n\", c)"
   ]
  },
  {
   "cell_type": "markdown",
   "metadata": {},
   "source": [
    "Write a Python Program Create a Dictionary From a List Which Display Length Of Each Word As Value."
   ]
  },
  {
   "cell_type": "code",
   "execution_count": 3,
   "metadata": {},
   "outputs": [
    {
     "name": "stdout",
     "output_type": "stream",
     "text": [
      "{'apple': 5, 'banana': 6, 'cherry': 6, 'date': 4}\n"
     ]
    }
   ],
   "source": [
    "def wordLength(wordsList):\n",
    "    lengthDict={word: len(word) for word in wordsList}\n",
    "    return lengthDict\n",
    "words=[\"apple\", \"banana\", \"cherry\", \"date\"]\n",
    "result=wordLength(words)\n",
    "print(result)\n"
   ]
  },
  {
   "cell_type": "markdown",
   "metadata": {},
   "source": [
    "Write a Python program in which user able to modify any item of list"
   ]
  },
  {
   "cell_type": "code",
   "execution_count": 9,
   "metadata": {},
   "outputs": [
    {
     "name": "stdout",
     "output_type": "stream",
     "text": [
      "Current List:  ['apple', 'banana', 'cherry', 'date', 'guava']\n",
      "Modified List:  ['apple', 'banana', 'watermelon', 'date', 'guava']\n"
     ]
    }
   ],
   "source": [
    "def ModifyList(inputList):\n",
    "    print(\"Current List: \", inputList)\n",
    "    index=int(input(f\"Enter the index (1 to {len(inputList)+1}) of the item you want to modify: \"))\n",
    "\n",
    "    if 0<=index<len(inputList):\n",
    "        newValue=input(\"Enter New Value: \").lower()\n",
    "\n",
    "        inputList[index]=newValue\n",
    "        print(\"Modified List: \", inputList)\n",
    "    else:\n",
    "        print(\"Invalid Index\")\n",
    "list=[\"apple\", \"banana\", \"cherry\", \"date\", \"guava\"]\n",
    "ModifyList(list)\n"
   ]
  }
 ],
 "metadata": {
  "kernelspec": {
   "display_name": "base",
   "language": "python",
   "name": "python3"
  },
  "language_info": {
   "codemirror_mode": {
    "name": "ipython",
    "version": 3
   },
   "file_extension": ".py",
   "mimetype": "text/x-python",
   "name": "python",
   "nbconvert_exporter": "python",
   "pygments_lexer": "ipython3",
   "version": "3.12.4"
  }
 },
 "nbformat": 4,
 "nbformat_minor": 2
}
